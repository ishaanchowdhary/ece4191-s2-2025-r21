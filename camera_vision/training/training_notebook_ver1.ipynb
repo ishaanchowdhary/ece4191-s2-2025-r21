{
 "cells": [
  {
   "cell_type": "code",
   "execution_count": 24,
   "id": "d891daa2",
   "metadata": {},
   "outputs": [],
   "source": [
    "# install YOLOv8\n",
    "#!pip install ultralytics\n",
    "#!pip install roboflow"
   ]
  },
  {
   "cell_type": "code",
   "execution_count": 25,
   "id": "a646ea96",
   "metadata": {},
   "outputs": [
    {
     "name": "stdout",
     "output_type": "stream",
     "text": [
      "Python: 3.11.11\n",
      "Platform: Windows-10-10.0.26100-SP0\n",
      "Torch: 2.0.1\n",
      "CUDA available: True\n",
      "CUDA device count: 1\n",
      "Device 0: NVIDIA GeForce RTX 3060 Laptop GPU\n"
     ]
    }
   ],
   "source": [
    "# Cell 1 — Environment info\n",
    "import sys, platform, torch\n",
    "print(\"Python:\", sys.version.split()[0])\n",
    "print(\"Platform:\", platform.platform())\n",
    "print(\"Torch:\", torch.__version__)\n",
    "print(\"CUDA available:\", torch.cuda.is_available())\n",
    "if torch.cuda.is_available():\n",
    "    print(\"CUDA device count:\", torch.cuda.device_count())\n",
    "    for i in range(torch.cuda.device_count()):\n",
    "        print(f\"Device {i}:\", torch.cuda.get_device_name(i))\n",
    "\n",
    "else:\n",
    "    print(\"No CUDA device detected. If you intended to use GPU, check CUDA / driver / torch installation. :contentReference[oaicite:4]{index=4}\")\n"
   ]
  },
  {
   "cell_type": "code",
   "execution_count": 26,
   "id": "fa0d297b",
   "metadata": {},
   "outputs": [],
   "source": [
    "# Cell 4 — Quick dataset check (optional visualization)\n",
    "import glob, random, os\n",
    "from PIL import Image, ImageDraw\n",
    "import matplotlib.pyplot as plt\n",
    "\n",
    "def show_sample(img_dir, label_dir):\n",
    "    imgs = glob.glob(os.path.join(img_dir, \"*\"))\n",
    "    if not imgs:\n",
    "        print(\"No images in\", img_dir); return\n",
    "    img_path = random.choice(imgs)\n",
    "    base = os.path.splitext(os.path.basename(img_path))[0]\n",
    "    label_path = os.path.join(label_dir, base + \".txt\")\n",
    "    img = Image.open(img_path).convert(\"RGB\")\n",
    "    w,h = img.size\n",
    "    draw = ImageDraw.Draw(img)\n",
    "    if os.path.exists(label_path):\n",
    "        with open(label_path) as f:\n",
    "            for line in f:\n",
    "                cls, xc,yc,ww,hh = map(float, line.strip().split())\n",
    "                xc,yc,ww,hh = xc*w, yc*h, ww*w, hh*h\n",
    "                x0,y0, x1,y1 = xc-ww/2, yc-hh/2, xc+ww/2, yc+hh/2\n",
    "                draw.rectangle([x0,y0,x1,y1], outline=\"red\", width=2)\n",
    "                draw.text((x0, y0), str(int(cls)), fill=\"yellow\")\n",
    "    plt.figure(figsize=(8,6)); plt.imshow(img); plt.axis(\"off\"); plt.show()\n",
    "\n",
    "# Example usage (edit paths if needed)\n",
    "# show_sample(\"./dataset/images/train\", \"./dataset/labels/train\")\n"
   ]
  },
  {
   "cell_type": "code",
   "execution_count": 27,
   "id": "195c29c2",
   "metadata": {},
   "outputs": [
    {
     "name": "stdout",
     "output_type": "stream",
     "text": [
      "New https://pypi.org/project/ultralytics/8.3.185 available  Update with 'pip install -U ultralytics'\n",
      "Ultralytics 8.3.99  Python-3.11.11 torch-2.0.1 CUDA:0 (NVIDIA GeForce RTX 3060 Laptop GPU, 6144MiB)\n",
      "\u001b[34m\u001b[1mengine\\trainer: \u001b[0mtask=detect, mode=train, model=yolov8m.pt, data=C:/Users/ishaa/Desktop/AI_Testing_Ground/Model_Training/ECE4191/datasets/animal-classification-lfjqm-1/data.yaml, epochs=50, time=None, patience=100, batch=8, imgsz=640, save=True, save_period=-1, cache=False, device=0, workers=8, project=None, name=yolov8m_custom, exist_ok=False, pretrained=True, optimizer=auto, verbose=True, seed=0, deterministic=True, single_cls=False, rect=False, cos_lr=False, close_mosaic=10, resume=False, amp=True, fraction=1.0, profile=False, freeze=None, multi_scale=False, overlap_mask=True, mask_ratio=4, dropout=0.0, val=True, split=val, save_json=False, save_hybrid=False, conf=None, iou=0.7, max_det=300, half=False, dnn=False, plots=True, source=None, vid_stride=1, stream_buffer=False, visualize=False, augment=False, agnostic_nms=False, classes=None, retina_masks=False, embed=None, show=False, save_frames=False, save_txt=False, save_conf=False, save_crop=False, show_labels=True, show_conf=True, show_boxes=True, line_width=None, format=torchscript, keras=False, optimize=False, int8=False, dynamic=False, simplify=True, opset=None, workspace=None, nms=False, lr0=0.01, lrf=0.01, momentum=0.937, weight_decay=0.0005, warmup_epochs=3.0, warmup_momentum=0.8, warmup_bias_lr=0.1, box=7.5, cls=0.5, dfl=1.5, pose=12.0, kobj=1.0, nbs=64, hsv_h=0.015, hsv_s=0.7, hsv_v=0.4, degrees=0.0, translate=0.1, scale=0.5, shear=0.0, perspective=0.0, flipud=0.0, fliplr=0.5, bgr=0.0, mosaic=1.0, mixup=0.0, copy_paste=0.0, copy_paste_mode=flip, auto_augment=randaugment, erasing=0.4, crop_fraction=1.0, cfg=None, tracker=botsort.yaml, save_dir=runs\\detect\\yolov8m_custom\n",
      "Overriding model.yaml nc=80 with nc=8\n",
      "\n",
      "                   from  n    params  module                                       arguments                     \n",
      "  0                  -1  1      1392  ultralytics.nn.modules.conv.Conv             [3, 48, 3, 2]                 \n",
      "  1                  -1  1     41664  ultralytics.nn.modules.conv.Conv             [48, 96, 3, 2]                \n",
      "  2                  -1  2    111360  ultralytics.nn.modules.block.C2f             [96, 96, 2, True]             \n",
      "  3                  -1  1    166272  ultralytics.nn.modules.conv.Conv             [96, 192, 3, 2]               \n",
      "  4                  -1  4    813312  ultralytics.nn.modules.block.C2f             [192, 192, 4, True]           \n",
      "  5                  -1  1    664320  ultralytics.nn.modules.conv.Conv             [192, 384, 3, 2]              \n",
      "  6                  -1  4   3248640  ultralytics.nn.modules.block.C2f             [384, 384, 4, True]           \n",
      "  7                  -1  1   1991808  ultralytics.nn.modules.conv.Conv             [384, 576, 3, 2]              \n",
      "  8                  -1  2   3985920  ultralytics.nn.modules.block.C2f             [576, 576, 2, True]           \n",
      "  9                  -1  1    831168  ultralytics.nn.modules.block.SPPF            [576, 576, 5]                 \n",
      " 10                  -1  1         0  torch.nn.modules.upsampling.Upsample         [None, 2, 'nearest']          \n",
      " 11             [-1, 6]  1         0  ultralytics.nn.modules.conv.Concat           [1]                           \n",
      " 12                  -1  2   1993728  ultralytics.nn.modules.block.C2f             [960, 384, 2]                 \n",
      " 13                  -1  1         0  torch.nn.modules.upsampling.Upsample         [None, 2, 'nearest']          \n",
      " 14             [-1, 4]  1         0  ultralytics.nn.modules.conv.Concat           [1]                           \n",
      " 15                  -1  2    517632  ultralytics.nn.modules.block.C2f             [576, 192, 2]                 \n",
      " 16                  -1  1    332160  ultralytics.nn.modules.conv.Conv             [192, 192, 3, 2]              \n",
      " 17            [-1, 12]  1         0  ultralytics.nn.modules.conv.Concat           [1]                           \n",
      " 18                  -1  2   1846272  ultralytics.nn.modules.block.C2f             [576, 384, 2]                 \n",
      " 19                  -1  1   1327872  ultralytics.nn.modules.conv.Conv             [384, 384, 3, 2]              \n",
      " 20             [-1, 9]  1         0  ultralytics.nn.modules.conv.Concat           [1]                           \n",
      " 21                  -1  2   4207104  ultralytics.nn.modules.block.C2f             [960, 576, 2]                 \n",
      " 22        [15, 18, 21]  1   3780328  ultralytics.nn.modules.head.Detect           [8, [192, 384, 576]]          \n",
      "Model summary: 169 layers, 25,860,952 parameters, 25,860,936 gradients, 79.1 GFLOPs\n",
      "\n",
      "Transferred 469/475 items from pretrained weights\n",
      "Freezing layer 'model.22.dfl.conv.weight'\n",
      "\u001b[34m\u001b[1mAMP: \u001b[0mrunning Automatic Mixed Precision (AMP) checks...\n",
      "\u001b[34m\u001b[1mAMP: \u001b[0mchecks passed \n"
     ]
    },
    {
     "name": "stderr",
     "output_type": "stream",
     "text": [
      "\u001b[34m\u001b[1mtrain: \u001b[0mScanning C:\\Users\\ishaa\\Desktop\\AI_Testing_Ground\\Model_Training\\ECE4191\\datasets\\animal-classification-lfjqm-1\\train\\labels.cache... 4374 images, 54 backgrounds, 0 corrupt: 100%|██████████| 4374/4374 [00:00<?, ?it/s]\n",
      "\u001b[34m\u001b[1mval: \u001b[0mScanning C:\\Users\\ishaa\\Desktop\\AI_Testing_Ground\\Model_Training\\ECE4191\\datasets\\animal-classification-lfjqm-1\\valid\\labels.cache... 281 images, 6 backgrounds, 0 corrupt: 100%|██████████| 281/281 [00:00<?, ?it/s]\n"
     ]
    },
    {
     "name": "stdout",
     "output_type": "stream",
     "text": [
      "Plotting labels to runs\\detect\\yolov8m_custom\\labels.jpg... \n",
      "\u001b[34m\u001b[1moptimizer:\u001b[0m 'optimizer=auto' found, ignoring 'lr0=0.01' and 'momentum=0.937' and determining best 'optimizer', 'lr0' and 'momentum' automatically... \n",
      "\u001b[34m\u001b[1moptimizer:\u001b[0m AdamW(lr=0.000833, momentum=0.9) with parameter groups 77 weight(decay=0.0), 84 weight(decay=0.0005), 83 bias(decay=0.0)\n",
      "Image sizes 640 train, 640 val\n",
      "Using 8 dataloader workers\n",
      "Logging results to \u001b[1mruns\\detect\\yolov8m_custom\u001b[0m\n",
      "Starting training for 50 epochs...\n",
      "\n",
      "      Epoch    GPU_mem   box_loss   cls_loss   dfl_loss  Instances       Size\n"
     ]
    },
    {
     "name": "stderr",
     "output_type": "stream",
     "text": [
      "       1/50      3.47G      1.344      2.961      1.631         21        640:  29%|██▉       | 159/547 [23:58<55:54,  8.65s/it]  "
     ]
    },
    {
     "name": "stdout",
     "output_type": "stream",
     "text": [
      "New https://pypi.org/project/ultralytics/8.3.185 available 😃 Update with 'pip install -U ultralytics'\n",
      "Ultralytics 8.3.99 🚀 Python-3.11.11 torch-2.0.1 CUDA:0 (NVIDIA GeForce RTX 3060 Laptop GPU, 6144MiB)\n",
      "\u001b[34m\u001b[1mengine\\trainer: \u001b[0mtask=detect, mode=train, model=yolov8m.pt, data=C:/Users/ishaa/Desktop/AI_Testing_Ground/Model_Training/ECE4191/datasets/animal-classification-lfjqm-1/data.yaml, epochs=100, time=None, patience=100, batch=16, imgsz=640, save=True, save_period=-1, cache=False, device=None, workers=8, project=None, name=train, exist_ok=False, pretrained=True, optimizer=auto, verbose=True, seed=0, deterministic=True, single_cls=False, rect=False, cos_lr=False, close_mosaic=10, resume=False, amp=True, fraction=1.0, profile=False, freeze=None, multi_scale=False, overlap_mask=True, mask_ratio=4, dropout=0.0, val=True, split=val, save_json=False, save_hybrid=False, conf=None, iou=0.7, max_det=300, half=False, dnn=False, plots=True, source=None, vid_stride=1, stream_buffer=False, visualize=False, augment=False, agnostic_nms=False, classes=None, retina_masks=False, embed=None, show=False, save_frames=False, save_txt=False, save_conf=False, save_crop=False, show_labels=True, show_conf=True, show_boxes=True, line_width=None, format=torchscript, keras=False, optimize=False, int8=False, dynamic=False, simplify=True, opset=None, workspace=None, nms=False, lr0=0.01, lrf=0.01, momentum=0.937, weight_decay=0.0005, warmup_epochs=3.0, warmup_momentum=0.8, warmup_bias_lr=0.1, box=7.5, cls=0.5, dfl=1.5, pose=12.0, kobj=1.0, nbs=64, hsv_h=0.015, hsv_s=0.7, hsv_v=0.4, degrees=0.0, translate=0.1, scale=0.5, shear=0.0, perspective=0.0, flipud=0.0, fliplr=0.5, bgr=0.0, mosaic=1.0, mixup=0.0, copy_paste=0.0, copy_paste_mode=flip, auto_augment=randaugment, erasing=0.4, crop_fraction=1.0, cfg=None, tracker=botsort.yaml, save_dir=runs\\detect\\train\n",
      "Overriding model.yaml nc=80 with nc=8\n",
      "\n",
      "                   from  n    params  module                                       arguments                     \n",
      "  0                  -1  1      1392  ultralytics.nn.modules.conv.Conv             [3, 48, 3, 2]                 \n",
      "  1                  -1  1     41664  ultralytics.nn.modules.conv.Conv             [48, 96, 3, 2]                \n",
      "  2                  -1  2    111360  ultralytics.nn.modules.block.C2f             [96, 96, 2, True]             \n",
      "  3                  -1  1    166272  ultralytics.nn.modules.conv.Conv             [96, 192, 3, 2]               \n",
      "  4                  -1  4    813312  ultralytics.nn.modules.block.C2f             [192, 192, 4, True]           \n",
      "  5                  -1  1    664320  ultralytics.nn.modules.conv.Conv             [192, 384, 3, 2]              \n",
      "  6                  -1  4   3248640  ultralytics.nn.modules.block.C2f             [384, 384, 4, True]           \n",
      "  7                  -1  1   1991808  ultralytics.nn.modules.conv.Conv             [384, 576, 3, 2]              \n",
      "  8                  -1  2   3985920  ultralytics.nn.modules.block.C2f             [576, 576, 2, True]           \n",
      "  9                  -1  1    831168  ultralytics.nn.modules.block.SPPF            [576, 576, 5]                 \n",
      " 10                  -1  1         0  torch.nn.modules.upsampling.Upsample         [None, 2, 'nearest']          \n",
      " 11             [-1, 6]  1         0  ultralytics.nn.modules.conv.Concat           [1]                           \n",
      " 12                  -1  2   1993728  ultralytics.nn.modules.block.C2f             [960, 384, 2]                 \n",
      " 13                  -1  1         0  torch.nn.modules.upsampling.Upsample         [None, 2, 'nearest']          \n",
      " 14             [-1, 4]  1         0  ultralytics.nn.modules.conv.Concat           [1]                           \n",
      " 15                  -1  2    517632  ultralytics.nn.modules.block.C2f             [576, 192, 2]                 \n",
      " 16                  -1  1    332160  ultralytics.nn.modules.conv.Conv             [192, 192, 3, 2]              \n",
      " 17            [-1, 12]  1         0  ultralytics.nn.modules.conv.Concat           [1]                           \n",
      " 18                  -1  2   1846272  ultralytics.nn.modules.block.C2f             [576, 384, 2]                 \n",
      " 19                  -1  1   1327872  ultralytics.nn.modules.conv.Conv             [384, 384, 3, 2]              \n",
      " 20             [-1, 9]  1         0  ultralytics.nn.modules.conv.Concat           [1]                           \n",
      " 21                  -1  2   4207104  ultralytics.nn.modules.block.C2f             [960, 576, 2]                 \n",
      " 22        [15, 18, 21]  1   3780328  ultralytics.nn.modules.head.Detect           [8, [192, 384, 576]]          \n",
      "Model summary: 169 layers, 25,860,952 parameters, 25,860,936 gradients, 79.1 GFLOPs\n",
      "\n",
      "Transferred 469/475 items from pretrained weights\n",
      "Freezing layer 'model.22.dfl.conv.weight'\n",
      "\u001b[34m\u001b[1mAMP: \u001b[0mrunning Automatic Mixed Precision (AMP) checks...\n",
      "\u001b[34m\u001b[1mAMP: \u001b[0mchecks passed ✅\n",
      "Plotting labels to runs\\detect\\train\\labels.jpg... \n",
      "\u001b[34m\u001b[1moptimizer:\u001b[0m 'optimizer=auto' found, ignoring 'lr0=0.01' and 'momentum=0.937' and determining best 'optimizer', 'lr0' and 'momentum' automatically... \n",
      "\u001b[34m\u001b[1moptimizer:\u001b[0m AdamW(lr=0.000833, momentum=0.9) with parameter groups 77 weight(decay=0.0), 84 weight(decay=0.0005), 83 bias(decay=0.0)\n",
      "Image sizes 640 train, 640 val\n",
      "Using 8 dataloader workers\n",
      "Logging results to \u001b[1mruns\\detect\\train\u001b[0m\n",
      "Starting training for 100 epochs...\n",
      "\n",
      "      Epoch    GPU_mem   box_loss   cls_loss   dfl_loss  Instances       Size\n",
      "                   all        281        393      0.654      0.568      0.632      0.431\n"
     ]
    },
    {
     "name": "stderr",
     "output_type": "stream",
     "text": [
      "\n",
      "\u001b[34m\u001b[1mtrain: \u001b[0mScanning C:\\Users\\ishaa\\Desktop\\AI_Testing_Ground\\Model_Training\\ECE4191\\datasets\\animal-classification-lfjqm-1\\train\\labels.cache... 4374 images, 54 backgrounds, 0 corrupt: 100%|██████████| 4374/4374 [00:00<?, ?it/s]\n",
      "\u001b[34m\u001b[1mtrain: \u001b[0mScanning C:\\Users\\ishaa\\Desktop\\AI_Testing_Ground\\Model_Training\\ECE4191\\datasets\\animal-classification-lfjqm-1\\train\\labels.cache... 4374 images, 54 backgrounds, 0 corrupt: 100%|██████████| 4374/4374 [00:00<?, ?it/s]\n",
      "\n",
      "\u001b[34m\u001b[1mval: \u001b[0mScanning C:\\Users\\ishaa\\Desktop\\AI_Testing_Ground\\Model_Training\\ECE4191\\datasets\\animal-classification-lfjqm-1\\valid\\labels.cache... 281 images, 6 backgrounds, 0 corrupt: 100%|██████████| 281/281 [00:00<?, ?it/s]\n",
      "\u001b[34m\u001b[1mval: \u001b[0mScanning C:\\Users\\ishaa\\Desktop\\AI_Testing_Ground\\Model_Training\\ECE4191\\datasets\\animal-classification-lfjqm-1\\valid\\labels.cache... 281 images, 6 backgrounds, 0 corrupt: 100%|██████████| 281/281 [00:00<?, ?it/s]\n",
      "\n",
      "  0%|          | 0/274 [00:00<?, ?it/s]\n",
      "      1/100       6.3G      1.656       4.58      1.963         64        640:   0%|          | 0/274 [00:02<?, ?it/s]\n",
      "      1/100       6.3G      1.656       4.58      1.963         64        640:   0%|          | 1/274 [00:02<09:47,  2.15s/it]\n",
      "      1/100       6.3G      1.391      4.781       1.68         60        640:   0%|          | 1/274 [00:04<09:47,  2.15s/it]\n",
      "      1/100       6.3G      1.391      4.781       1.68         60        640:   1%|          | 2/274 [00:04<10:03,  2.22s/it]\n",
      "      1/100       6.3G      1.451      4.846      1.744         52        640:   1%|          | 2/274 [00:06<10:03,  2.22s/it]\n",
      "      1/100       6.3G      1.451      4.846      1.744         52        640:   1%|          | 3/274 [00:06<09:37,  2.13s/it]\n",
      "      1/100       6.3G      1.512      4.974      1.803         49        640:   1%|          | 3/274 [00:08<09:37,  2.13s/it]\n",
      "      1/100       6.3G      1.512      4.974      1.803         49        640:   1%|▏         | 4/274 [00:08<09:41,  2.15s/it]\n",
      "      1/100       6.3G      1.526      5.218      1.799         34        640:   1%|▏         | 4/274 [00:12<09:41,  2.15s/it]\n",
      "      1/100       6.3G      1.526      5.218      1.799         34        640:   2%|▏         | 5/274 [00:12<12:03,  2.69s/it]\n",
      "      1/100       6.3G      1.516      5.197      1.781         40        640:   2%|▏         | 5/274 [00:14<12:03,  2.69s/it]\n",
      "      1/100       6.3G      1.516      5.197      1.781         40        640:   2%|▏         | 6/274 [00:14<11:09,  2.50s/it]\n",
      "      1/100       6.3G      1.523      5.168      1.806         45        640:   2%|▏         | 6/274 [00:18<11:09,  2.50s/it]\n",
      "      1/100       6.3G      1.523      5.168      1.806         45        640:   3%|▎         | 7/274 [00:18<12:46,  2.87s/it]\n",
      "      1/100      6.31G      1.541      5.178       1.83         40        640:   3%|▎         | 7/274 [00:20<12:46,  2.87s/it]\n",
      "      1/100      6.31G      1.541      5.178       1.83         40        640:   3%|▎         | 8/274 [00:20<11:46,  2.66s/it]\n",
      "      1/100      6.32G      1.564      5.172       1.84         49        640:   3%|▎         | 8/274 [00:21<11:46,  2.66s/it]\n",
      "      1/100      6.32G      1.564      5.172       1.84         49        640:   3%|▎         | 9/274 [00:21<10:25,  2.36s/it]\n",
      "      1/100      6.32G      1.542      5.123      1.806         52        640:   3%|▎         | 9/274 [00:26<10:25,  2.36s/it]\n",
      "      1/100      6.32G      1.542      5.123      1.806         52        640:   4%|▎         | 10/274 [00:26<13:35,  3.09s/it]\n",
      "      1/100      6.32G      1.523      5.153        1.8         37        640:   4%|▎         | 10/274 [00:28<13:35,  3.09s/it]\n",
      "      1/100      6.32G      1.523      5.153        1.8         37        640:   4%|▍         | 11/274 [00:28<11:46,  2.69s/it]\n",
      "      1/100      6.32G       1.49      5.092      1.777         56        640:   4%|▍         | 11/274 [00:33<11:46,  2.69s/it]\n",
      "      1/100      6.32G       1.49      5.092      1.777         56        640:   4%|▍         | 12/274 [00:33<14:37,  3.35s/it]\n",
      "      1/100      6.32G      1.501      5.043       1.79         58        640:   4%|▍         | 12/274 [00:34<14:37,  3.35s/it]\n",
      "      1/100      6.32G      1.501      5.043       1.79         58        640:   5%|▍         | 13/274 [00:34<12:15,  2.82s/it]\n",
      "      1/100      6.32G      1.514      5.003        1.8         49        640:   5%|▍         | 13/274 [00:39<12:15,  2.82s/it]\n",
      "      1/100      6.32G      1.514      5.003        1.8         49        640:   5%|▌         | 14/274 [00:39<14:42,  3.39s/it]\n",
      "      1/100      6.32G      1.529      4.993      1.819         39        640:   5%|▌         | 14/274 [00:41<14:42,  3.39s/it]\n",
      "      1/100      6.32G      1.529      4.993      1.819         39        640:   5%|▌         | 15/274 [00:41<12:19,  2.86s/it]\n",
      "      1/100      6.32G      1.515      4.952      1.807         54        640:   5%|▌         | 15/274 [00:46<12:19,  2.86s/it]\n",
      "      1/100      6.32G      1.515      4.952      1.807         54        640:   6%|▌         | 16/274 [00:46<14:53,  3.46s/it]\n",
      "      1/100      6.32G      1.501      4.892      1.797         41        640:   6%|▌         | 16/274 [00:47<14:53,  3.46s/it]\n",
      "      1/100      6.32G      1.501      4.892      1.797         41        640:   6%|▌         | 17/274 [00:47<12:32,  2.93s/it]\n",
      "      1/100      6.32G      1.492      4.842      1.788         45        640:   6%|▌         | 17/274 [00:52<12:32,  2.93s/it]\n",
      "      1/100      6.32G      1.492      4.842      1.788         45        640:   7%|▋         | 18/274 [00:52<14:41,  3.44s/it]\n",
      "      1/100      6.32G      1.492       4.81      1.785         50        640:   7%|▋         | 18/274 [00:54<14:41,  3.44s/it]\n",
      "      1/100      6.32G      1.492       4.81      1.785         50        640:   7%|▋         | 19/274 [00:54<12:24,  2.92s/it]\n",
      "      1/100      6.32G      1.479      4.763       1.78         42        640:   7%|▋         | 19/274 [00:58<12:24,  2.92s/it]\n",
      "      1/100      6.32G      1.479      4.763       1.78         42        640:   7%|▋         | 20/274 [00:58<14:35,  3.45s/it]\n",
      "      1/100      6.32G      1.474      4.719      1.775         43        640:   7%|▋         | 20/274 [01:00<14:35,  3.45s/it]\n",
      "      1/100      6.32G      1.474      4.719      1.775         43        640:   8%|▊         | 21/274 [01:00<12:12,  2.89s/it]\n",
      "      1/100      6.32G      1.478      4.699      1.777         39        640:   8%|▊         | 21/274 [01:05<12:12,  2.89s/it]\n",
      "      1/100      6.32G      1.478      4.699      1.777         39        640:   8%|▊         | 22/274 [01:05<14:19,  3.41s/it]\n",
      "      1/100      6.32G      1.474      4.657      1.775         43        640:   8%|▊         | 22/274 [01:06<14:19,  3.41s/it]\n",
      "      1/100      6.32G      1.474      4.657      1.775         43        640:   8%|▊         | 23/274 [01:06<12:10,  2.91s/it]\n",
      "      1/100      6.32G      1.476      4.627      1.768         49        640:   8%|▊         | 23/274 [01:11<12:10,  2.91s/it]\n",
      "      1/100      6.32G      1.476      4.627      1.768         49        640:   9%|▉         | 24/274 [01:11<14:32,  3.49s/it]\n",
      "      1/100      6.32G      1.464      4.588      1.759         35        640:   9%|▉         | 24/274 [01:13<14:32,  3.49s/it]\n",
      "      1/100      6.32G      1.464      4.588      1.759         35        640:   9%|▉         | 25/274 [01:13<12:22,  2.98s/it]\n",
      "      1/100      6.32G      1.452      4.531      1.749         43        640:   9%|▉         | 25/274 [01:18<12:22,  2.98s/it]\n",
      "      1/100      6.32G      1.452      4.531      1.749         43        640:   9%|▉         | 26/274 [01:18<14:37,  3.54s/it]\n",
      "      1/100      6.32G      1.447      4.523      1.744         37        640:   9%|▉         | 26/274 [01:20<14:37,  3.54s/it]\n",
      "      1/100      6.32G      1.447      4.523      1.744         37        640:  10%|▉         | 27/274 [01:20<12:23,  3.01s/it]\n",
      "      1/100      6.32G       1.44      4.484      1.738         41        640:  10%|▉         | 27/274 [01:24<12:23,  3.01s/it]\n",
      "      1/100      6.32G       1.44      4.484      1.738         41        640:  10%|█         | 28/274 [01:24<14:34,  3.56s/it]\n",
      "      1/100      6.32G       1.44      4.454      1.742         40        640:  10%|█         | 28/274 [01:26<14:34,  3.56s/it]\n",
      "      1/100      6.32G       1.44      4.454      1.742         40        640:  11%|█         | 29/274 [01:26<12:35,  3.08s/it]\n",
      "      1/100      6.32G      1.438      4.427      1.744         31        640:  11%|█         | 29/274 [01:31<12:35,  3.08s/it]\n",
      "      1/100      6.32G      1.438      4.427      1.744         31        640:  11%|█         | 30/274 [01:31<15:01,  3.69s/it]\n",
      "      1/100      6.32G      1.429      4.376      1.735         44        640:  11%|█         | 30/274 [01:33<15:01,  3.69s/it]\n",
      "      1/100      6.32G      1.429      4.376      1.735         44        640:  11%|█▏        | 31/274 [01:33<12:48,  3.16s/it]\n",
      "      1/100      6.32G      1.429      4.347       1.73         36        640:  11%|█▏        | 31/274 [01:38<12:48,  3.16s/it]\n",
      "      1/100      6.32G      1.429      4.347       1.73         36        640:  12%|█▏        | 32/274 [01:38<15:05,  3.74s/it]\n",
      "      1/100      6.32G      1.428      4.311      1.727         51        640:  12%|█▏        | 32/274 [01:40<15:05,  3.74s/it]\n",
      "      1/100      6.32G      1.428      4.311      1.727         51        640:  12%|█▏        | 33/274 [01:40<12:53,  3.21s/it]\n",
      "      1/100      6.32G      1.419      4.258      1.718         50        640:  12%|█▏        | 33/274 [01:45<12:53,  3.21s/it]\n",
      "      1/100      6.32G      1.419      4.258      1.718         50        640:  12%|█▏        | 34/274 [01:45<14:51,  3.72s/it]\n",
      "      1/100      6.32G      1.419      4.237       1.72         31        640:  12%|█▏        | 34/274 [01:47<14:51,  3.72s/it]\n",
      "      1/100      6.32G      1.419      4.237       1.72         31        640:  13%|█▎        | 35/274 [01:47<12:19,  3.09s/it]\n",
      "      1/100      6.32G      1.419      4.208      1.718         30        640:  13%|█▎        | 35/274 [01:52<12:19,  3.09s/it]\n",
      "      1/100      6.32G      1.419      4.208      1.718         30        640:  13%|█▎        | 36/274 [01:52<14:18,  3.61s/it]\n",
      "      1/100      6.32G      1.416      4.176      1.717         37        640:  13%|█▎        | 36/274 [01:54<14:18,  3.61s/it]\n",
      "      1/100      6.32G      1.416      4.176      1.717         37        640:  14%|█▎        | 37/274 [01:54<12:07,  3.07s/it]\n",
      "      1/100      6.32G       1.42      4.153      1.721         34        640:  14%|█▎        | 37/274 [01:58<12:07,  3.07s/it]\n",
      "      1/100      6.32G       1.42      4.153      1.721         34        640:  14%|█▍        | 38/274 [01:58<14:10,  3.60s/it]\n",
      "      1/100      6.32G      1.417      4.129      1.718         32        640:  14%|█▍        | 38/274 [02:00<14:10,  3.60s/it]\n",
      "      1/100      6.32G      1.417      4.129      1.718         32        640:  14%|█▍        | 39/274 [02:00<12:02,  3.07s/it]\n",
      "      1/100      6.32G      1.414      4.099      1.712         47        640:  14%|█▍        | 39/274 [02:05<12:02,  3.07s/it]\n",
      "      1/100      6.32G      1.414      4.099      1.712         47        640:  15%|█▍        | 40/274 [02:05<14:04,  3.61s/it]\n",
      "      1/100      6.32G      1.412      4.063      1.708         51        640:  15%|█▍        | 40/274 [02:07<14:04,  3.61s/it]\n",
      "      1/100      6.32G      1.412      4.063      1.708         51        640:  15%|█▍        | 41/274 [02:07<11:58,  3.08s/it]\n",
      "      1/100      6.32G       1.41      4.042      1.704         32        640:  15%|█▍        | 41/274 [02:12<11:58,  3.08s/it]\n",
      "      1/100      6.32G       1.41      4.042      1.704         32        640:  15%|█▌        | 42/274 [02:12<14:03,  3.64s/it]\n",
      "      1/100      6.32G      1.413      4.021      1.706         38        640:  15%|█▌        | 42/274 [02:14<14:03,  3.64s/it]\n",
      "      1/100      6.32G      1.413      4.021      1.706         38        640:  16%|█▌        | 43/274 [02:14<11:53,  3.09s/it]\n",
      "      1/100      6.32G      1.412      3.991        1.7         44        640:  16%|█▌        | 43/274 [02:19<11:53,  3.09s/it]\n",
      "      1/100      6.32G      1.412      3.991        1.7         44        640:  16%|█▌        | 44/274 [02:19<14:02,  3.66s/it]\n",
      "      1/100      6.32G       1.41      3.958      1.698         51        640:  16%|█▌        | 44/274 [02:21<14:02,  3.66s/it]\n",
      "      1/100      6.32G       1.41      3.958      1.698         51        640:  16%|█▋        | 45/274 [02:21<11:58,  3.14s/it]\n",
      "      1/100      6.32G      1.406      3.933      1.693         36        640:  16%|█▋        | 45/274 [02:26<11:58,  3.14s/it]\n",
      "      1/100      6.32G      1.406      3.933      1.693         36        640:  17%|█▋        | 46/274 [02:26<13:58,  3.68s/it]\n",
      "      1/100      6.32G      1.404      3.895      1.688         46        640:  17%|█▋        | 46/274 [02:27<13:58,  3.68s/it]\n",
      "      1/100      6.32G      1.404      3.895      1.688         46        640:  17%|█▋        | 47/274 [02:27<11:48,  3.12s/it]\n",
      "      1/100      6.32G      1.404      3.874      1.687         41        640:  17%|█▋        | 47/274 [02:32<11:48,  3.12s/it]\n",
      "      1/100      6.32G      1.404      3.874      1.687         41        640:  18%|█▊        | 48/274 [02:32<13:40,  3.63s/it]\n",
      "      1/100      6.32G      1.399      3.848      1.681         37        640:  18%|█▊        | 48/274 [02:34<13:40,  3.63s/it]\n",
      "      1/100      6.32G      1.399      3.848      1.681         37        640:  18%|█▊        | 49/274 [02:34<11:31,  3.07s/it]\n",
      "      1/100      6.32G      1.395      3.827      1.676         34        640:  18%|█▊        | 49/274 [02:39<11:31,  3.07s/it]\n",
      "      1/100      6.32G      1.395      3.827      1.676         34        640:  18%|█▊        | 50/274 [02:39<13:11,  3.53s/it]\n",
      "      1/100      6.32G      1.393      3.802      1.674         41        640:  18%|█▊        | 50/274 [02:40<13:11,  3.53s/it]\n",
      "      1/100      6.32G      1.393      3.802      1.674         41        640:  19%|█▊        | 51/274 [02:40<11:09,  3.00s/it]\n",
      "      1/100      6.32G      1.391      3.772      1.671         48        640:  19%|█▊        | 51/274 [02:45<11:09,  3.00s/it]\n",
      "      1/100      6.32G      1.391      3.772      1.671         48        640:  19%|█▉        | 52/274 [02:45<13:09,  3.56s/it]\n",
      "      1/100      6.32G      1.389      3.742      1.668         45        640:  19%|█▉        | 52/274 [02:47<13:09,  3.56s/it]\n",
      "      1/100      6.32G      1.389      3.742      1.668         45        640:  19%|█▉        | 53/274 [02:47<11:14,  3.05s/it]\n",
      "      1/100      6.32G      1.385      3.716      1.664         43        640:  19%|█▉        | 53/274 [02:52<11:14,  3.05s/it]\n",
      "      1/100      6.32G      1.385      3.716      1.664         43        640:  20%|█▉        | 54/274 [02:52<13:25,  3.66s/it]\n",
      "      1/100      6.32G      1.383      3.689      1.661         41        640:  20%|█▉        | 54/274 [02:54<13:25,  3.66s/it]\n",
      "      1/100      6.32G      1.383      3.689      1.661         41        640:  20%|██        | 55/274 [02:54<11:30,  3.15s/it]\n",
      "      1/100      6.32G      1.377      3.659      1.655         42        640:  20%|██        | 55/274 [02:59<11:30,  3.15s/it]\n",
      "      1/100      6.32G      1.377      3.659      1.655         42        640:  20%|██        | 56/274 [02:59<13:39,  3.76s/it]\n",
      "      1/100      6.32G      1.373      3.633      1.651         49        640:  20%|██        | 56/274 [03:01<13:39,  3.76s/it]\n",
      "      1/100      6.32G      1.373      3.633      1.651         49        640:  21%|██        | 57/274 [03:01<11:41,  3.23s/it]\n",
      "      1/100      6.32G       1.37      3.608      1.649         29        640:  21%|██        | 57/274 [03:06<11:41,  3.23s/it]\n",
      "      1/100      6.32G       1.37      3.608      1.649         29        640:  21%|██        | 58/274 [03:06<13:31,  3.76s/it]\n",
      "      1/100      6.32G      1.371      3.593       1.65         41        640:  21%|██        | 58/274 [03:08<13:31,  3.76s/it]\n",
      "      1/100      6.32G      1.371      3.593       1.65         41        640:  22%|██▏       | 59/274 [03:08<11:20,  3.16s/it]\n",
      "      1/100      6.32G      1.371      3.578      1.648         35        640:  22%|██▏       | 59/274 [03:13<11:20,  3.16s/it]\n",
      "      1/100      6.32G      1.371      3.578      1.648         35        640:  22%|██▏       | 60/274 [03:13<12:56,  3.63s/it]\n",
      "      1/100      6.32G      1.371      3.557      1.645         46        640:  22%|██▏       | 60/274 [03:15<12:56,  3.63s/it]\n",
      "      1/100      6.32G      1.371      3.557      1.645         46        640:  22%|██▏       | 61/274 [03:15<10:54,  3.07s/it]\n",
      "      1/100      6.32G      1.373       3.54      1.645         42        640:  22%|██▏       | 61/274 [03:19<10:54,  3.07s/it]\n",
      "      1/100      6.32G      1.373       3.54      1.645         42        640:  23%|██▎       | 62/274 [03:19<12:45,  3.61s/it]\n",
      "      1/100      6.32G      1.369      3.519      1.642         45        640:  23%|██▎       | 62/274 [03:21<12:45,  3.61s/it]\n",
      "      1/100      6.32G      1.369      3.519      1.642         45        640:  23%|██▎       | 63/274 [03:21<10:48,  3.07s/it]\n",
      "      1/100      6.32G      1.367      3.501      1.638         63        640:  23%|██▎       | 63/274 [03:26<10:48,  3.07s/it]\n",
      "      1/100      6.32G      1.367      3.501      1.638         63        640:  23%|██▎       | 64/274 [03:26<12:49,  3.67s/it]\n",
      "      1/100      6.32G      1.366      3.478      1.635         43        640:  23%|██▎       | 64/274 [03:28<12:49,  3.67s/it]\n",
      "      1/100      6.32G      1.366      3.478      1.635         43        640:  24%|██▎       | 65/274 [03:28<10:50,  3.11s/it]\n",
      "      1/100      6.32G      1.361      3.452       1.63         43        640:  24%|██▎       | 65/274 [03:33<10:50,  3.11s/it]\n",
      "      1/100      6.32G      1.361      3.452       1.63         43        640:  24%|██▍       | 66/274 [03:33<12:30,  3.61s/it]\n",
      "      1/100      6.32G      1.359       3.43      1.626         48        640:  24%|██▍       | 66/274 [03:35<12:30,  3.61s/it]\n",
      "      1/100      6.32G      1.359       3.43      1.626         48        640:  24%|██▍       | 67/274 [03:35<10:32,  3.06s/it]\n",
      "      1/100      6.32G      1.356      3.413      1.623         32        640:  24%|██▍       | 67/274 [03:39<10:32,  3.06s/it]\n",
      "      1/100      6.32G      1.356      3.413      1.623         32        640:  25%|██▍       | 68/274 [03:39<12:17,  3.58s/it]\n",
      "      1/100      6.32G      1.355      3.391       1.62         64        640:  25%|██▍       | 68/274 [03:41<12:17,  3.58s/it]\n",
      "      1/100      6.32G      1.355      3.391       1.62         64        640:  25%|██▌       | 69/274 [03:41<10:26,  3.05s/it]\n",
      "      1/100      6.32G      1.351      3.374      1.618         43        640:  25%|██▌       | 69/274 [03:46<10:26,  3.05s/it]\n",
      "      1/100      6.32G      1.351      3.374      1.618         43        640:  26%|██▌       | 70/274 [03:46<12:13,  3.60s/it]\n",
      "      1/100      6.32G      1.351      3.353      1.618         53        640:  26%|██▌       | 70/274 [03:48<12:13,  3.60s/it]\n",
      "      1/100      6.32G      1.351      3.353      1.618         53        640:  26%|██▌       | 71/274 [03:48<10:26,  3.09s/it]\n",
      "      1/100      6.32G      1.352       3.34      1.618         33        640:  26%|██▌       | 71/274 [03:53<10:26,  3.09s/it]\n",
      "      1/100      6.32G      1.352       3.34      1.618         33        640:  26%|██▋       | 72/274 [03:53<12:24,  3.69s/it]\n",
      "      1/100      6.32G      1.351       3.32      1.616         58        640:  26%|██▋       | 72/274 [03:55<12:24,  3.69s/it]\n",
      "      1/100      6.32G      1.351       3.32      1.616         58        640:  27%|██▋       | 73/274 [03:55<10:21,  3.09s/it]\n",
      "      1/100      6.32G      1.349      3.299      1.614         49        640:  27%|██▋       | 73/274 [03:59<10:21,  3.09s/it]\n",
      "      1/100      6.32G      1.349      3.299      1.614         49        640:  27%|██▋       | 74/274 [03:59<11:40,  3.50s/it]\n",
      "      1/100      6.32G      1.348      3.284      1.613         43        640:  27%|██▋       | 74/274 [04:01<11:40,  3.50s/it]\n",
      "      1/100      6.32G      1.348      3.284      1.613         43        640:  27%|██▋       | 75/274 [04:01<10:01,  3.02s/it]\n",
      "      1/100      6.32G      1.346      3.268      1.613         32        640:  27%|██▋       | 75/274 [04:06<10:01,  3.02s/it]\n",
      "      1/100      6.32G      1.346      3.268      1.613         32        640:  28%|██▊       | 76/274 [04:06<11:39,  3.53s/it]\n",
      "      1/100      6.32G      1.342      3.251       1.61         36        640:  28%|██▊       | 76/274 [04:08<11:39,  3.53s/it]\n",
      "      1/100      6.32G      1.342      3.251       1.61         36        640:  28%|██▊       | 77/274 [04:08<09:59,  3.04s/it]\n",
      "      1/100      6.32G      1.343      3.245      1.608         31        640:  28%|██▊       | 77/274 [04:13<09:59,  3.04s/it]\n",
      "      1/100      6.32G      1.343      3.245      1.608         31        640:  28%|██▊       | 78/274 [04:13<11:50,  3.63s/it]\n",
      "      1/100      6.32G      1.341       3.23      1.606         39        640:  28%|██▊       | 78/274 [04:15<11:50,  3.63s/it]\n",
      "      1/100      6.32G      1.341       3.23      1.606         39        640:  29%|██▉       | 79/274 [04:15<10:00,  3.08s/it]\n",
      "      1/100      6.32G      1.341      3.216      1.605         43        640:  29%|██▉       | 79/274 [04:19<10:00,  3.08s/it]\n",
      "      1/100      6.32G      1.341      3.216      1.605         43        640:  29%|██▉       | 80/274 [04:19<11:28,  3.55s/it]\n",
      "      1/100      6.32G       1.34        3.2      1.604         53        640:  29%|██▉       | 80/274 [04:21<11:28,  3.55s/it]\n",
      "      1/100      6.32G       1.34        3.2      1.604         53        640:  30%|██▉       | 81/274 [04:21<09:44,  3.03s/it]\n",
      "      1/100      6.32G       1.34      3.187      1.604         39        640:  30%|██▉       | 81/274 [04:26<09:44,  3.03s/it]\n",
      "      1/100      6.32G       1.34      3.187      1.604         39        640:  30%|██▉       | 82/274 [04:26<11:34,  3.62s/it]\n",
      "      1/100      6.32G      1.339      3.172      1.601         42        640:  30%|██▉       | 82/274 [04:28<11:34,  3.62s/it]\n",
      "      1/100      6.32G      1.339      3.172      1.601         42        640:  30%|███       | 83/274 [04:28<09:50,  3.09s/it]\n",
      "      1/100      6.32G       1.34      3.156        1.6         61        640:  30%|███       | 83/274 [04:33<09:50,  3.09s/it]\n",
      "      1/100      6.32G       1.34      3.156        1.6         61        640:  31%|███       | 84/274 [04:33<11:49,  3.73s/it]\n",
      "      1/100      6.32G      1.339      3.143      1.598         42        640:  31%|███       | 84/274 [04:35<11:49,  3.73s/it]\n",
      "      1/100      6.32G      1.339      3.143      1.598         42        640:  31%|███       | 85/274 [04:35<09:58,  3.17s/it]\n",
      "      1/100      6.32G      1.338      3.128      1.597         52        640:  31%|███       | 85/274 [04:40<09:58,  3.17s/it]\n",
      "      1/100      6.32G      1.338      3.128      1.597         52        640:  31%|███▏      | 86/274 [04:40<11:30,  3.67s/it]\n",
      "      1/100      6.32G      1.335      3.114      1.595         39        640:  31%|███▏      | 86/274 [04:42<11:30,  3.67s/it]\n",
      "      1/100      6.32G      1.335      3.114      1.595         39        640:  32%|███▏      | 87/274 [04:42<09:48,  3.15s/it]\n",
      "      1/100      6.32G      1.335      3.098      1.594         46        640:  32%|███▏      | 87/274 [04:47<09:48,  3.15s/it]\n",
      "      1/100      6.32G      1.335      3.098      1.594         46        640:  32%|███▏      | 88/274 [04:47<11:18,  3.65s/it]\n",
      "      1/100      6.32G      1.334      3.083      1.592         45        640:  32%|███▏      | 88/274 [04:48<11:18,  3.65s/it]\n",
      "      1/100      6.32G      1.334      3.083      1.592         45        640:  32%|███▏      | 89/274 [04:48<09:37,  3.12s/it]\n",
      "      1/100      6.32G      1.334      3.069      1.592         31        640:  32%|███▏      | 89/274 [04:53<09:37,  3.12s/it]\n",
      "      1/100      6.32G      1.334      3.069      1.592         31        640:  33%|███▎      | 90/274 [04:53<10:59,  3.58s/it]\n",
      "      1/100      6.32G      1.334      3.055      1.591         39        640:  33%|███▎      | 90/274 [04:55<10:59,  3.58s/it]\n",
      "      1/100      6.32G      1.334      3.055      1.591         39        640:  33%|███▎      | 91/274 [04:55<09:12,  3.02s/it]\n",
      "      1/100      6.32G      1.333      3.041      1.589         48        640:  33%|███▎      | 91/274 [05:00<09:12,  3.02s/it]\n",
      "      1/100      6.32G      1.333      3.041      1.589         48        640:  34%|███▎      | 92/274 [05:00<10:57,  3.61s/it]\n",
      "      1/100      6.32G       1.33      3.025      1.587         39        640:  34%|███▎      | 92/274 [05:02<10:57,  3.61s/it]\n",
      "      1/100      6.32G       1.33      3.025      1.587         39        640:  34%|███▍      | 93/274 [05:02<09:09,  3.04s/it]\n",
      "      1/100      6.32G      1.331      3.011      1.588         47        640:  34%|███▍      | 93/274 [05:06<09:09,  3.04s/it]\n",
      "      1/100      6.32G      1.331      3.011      1.588         47        640:  34%|███▍      | 94/274 [05:06<10:24,  3.47s/it]\n",
      "      1/100      6.32G      1.332      3.004      1.589         36        640:  34%|███▍      | 94/274 [05:08<10:24,  3.47s/it]\n",
      "      1/100      6.32G      1.332      3.004      1.589         36        640:  35%|███▍      | 95/274 [05:08<08:49,  2.96s/it]\n",
      "      1/100      6.32G      1.331      2.991      1.588         37        640:  35%|███▍      | 95/274 [05:12<08:49,  2.96s/it]\n",
      "      1/100      6.32G      1.331      2.991      1.588         37        640:  35%|███▌      | 96/274 [05:12<10:18,  3.48s/it]\n",
      "      1/100      6.32G      1.332       2.98      1.589         43        640:  35%|███▌      | 96/274 [05:14<10:18,  3.48s/it]\n",
      "      1/100      6.32G      1.332       2.98      1.589         43        640:  35%|███▌      | 97/274 [05:14<08:50,  2.99s/it]\n",
      "      1/100      6.32G      1.332      2.968      1.589         44        640:  35%|███▌      | 97/274 [05:19<08:50,  2.99s/it]\n",
      "      1/100      6.32G      1.332      2.968      1.589         44        640:  36%|███▌      | 98/274 [05:19<10:23,  3.54s/it]\n",
      "      1/100      6.32G      1.333      2.956      1.588         46        640:  36%|███▌      | 98/274 [05:21<10:23,  3.54s/it]\n",
      "      1/100      6.32G      1.333      2.956      1.588         46        640:  36%|███▌      | 99/274 [05:21<08:49,  3.03s/it]\n",
      "      1/100      6.32G      1.334      2.946      1.588         37        640:  36%|███▌      | 99/274 [05:26<08:49,  3.03s/it]\n",
      "      1/100      6.32G      1.334      2.946      1.588         37        640:  36%|███▋      | 100/274 [05:26<10:34,  3.65s/it]\n",
      "      1/100      6.32G      1.334      2.936      1.588         43        640:  36%|███▋      | 100/274 [05:28<10:34,  3.65s/it]\n",
      "      1/100      6.32G      1.334      2.936      1.588         43        640:  37%|███▋      | 101/274 [05:28<08:54,  3.09s/it]\n",
      "      1/100      6.32G      1.332      2.923      1.586         39        640:  37%|███▋      | 101/274 [05:33<08:54,  3.09s/it]\n",
      "      1/100      6.32G      1.332      2.923      1.586         39        640:  37%|███▋      | 102/274 [05:33<10:18,  3.60s/it]\n",
      "      1/100      6.32G      1.332      2.913      1.586         41        640:  37%|███▋      | 102/274 [05:34<10:18,  3.60s/it]\n",
      "      1/100      6.32G      1.332      2.913      1.586         41        640:  38%|███▊      | 103/274 [05:34<08:43,  3.06s/it]\n",
      "      1/100      6.32G      1.333      2.905      1.586         43        640:  38%|███▊      | 103/274 [05:39<08:43,  3.06s/it]\n",
      "      1/100      6.32G      1.333      2.905      1.586         43        640:  38%|███▊      | 104/274 [05:39<10:15,  3.62s/it]\n",
      "      1/100      6.32G      1.332      2.893      1.586         41        640:  38%|███▊      | 104/274 [05:41<10:15,  3.62s/it]\n",
      "      1/100      6.32G      1.332      2.893      1.586         41        640:  38%|███▊      | 105/274 [05:41<08:40,  3.08s/it]\n",
      "      1/100      6.32G      1.331      2.884      1.586         34        640:  38%|███▊      | 105/274 [05:46<08:40,  3.08s/it]\n",
      "      1/100      6.32G      1.331      2.884      1.586         34        640:  39%|███▊      | 106/274 [05:46<10:05,  3.61s/it]\n",
      "      1/100      6.32G      1.331      2.871      1.586         41        640:  39%|███▊      | 106/274 [05:48<10:05,  3.61s/it]\n",
      "      1/100      6.32G      1.331      2.871      1.586         41        640:  39%|███▉      | 107/274 [05:48<08:31,  3.06s/it]\n",
      "      1/100      6.32G      1.332      2.859      1.586         39        640:  39%|███▉      | 107/274 [05:53<08:31,  3.06s/it]\n",
      "      1/100      6.32G      1.332      2.859      1.586         39        640:  39%|███▉      | 108/274 [05:53<09:49,  3.55s/it]\n",
      "      1/100      6.32G      1.331      2.847      1.585         51        640:  39%|███▉      | 108/274 [05:54<09:49,  3.55s/it]\n",
      "      1/100      6.32G      1.331      2.847      1.585         51        640:  40%|███▉      | 109/274 [05:54<08:18,  3.02s/it]\n",
      "      1/100      6.32G      1.331      2.839      1.586         38        640:  40%|███▉      | 109/274 [05:59<08:18,  3.02s/it]\n",
      "      1/100      6.32G      1.331      2.839      1.586         38        640:  40%|████      | 110/274 [05:59<09:53,  3.62s/it]\n",
      "      1/100      6.32G      1.329      2.829      1.585         46        640:  40%|████      | 110/274 [06:01<09:53,  3.62s/it]\n",
      "      1/100      6.32G      1.329      2.829      1.585         46        640:  41%|████      | 111/274 [06:01<08:28,  3.12s/it]\n",
      "      1/100      6.32G      1.329      2.821      1.585         43        640:  41%|████      | 111/274 [06:06<08:28,  3.12s/it]\n",
      "      1/100      6.32G      1.329      2.821      1.585         43        640:  41%|████      | 112/274 [06:06<09:48,  3.63s/it]\n",
      "      1/100      6.32G      1.328       2.81      1.583         48        640:  41%|████      | 112/274 [06:08<09:48,  3.63s/it]\n",
      "      1/100      6.32G      1.328       2.81      1.583         48        640:  41%|████      | 113/274 [06:08<08:12,  3.06s/it]\n",
      "      1/100      6.32G      1.329      2.799      1.584         39        640:  41%|████      | 113/274 [06:12<08:12,  3.06s/it]\n",
      "      1/100      6.32G      1.329      2.799      1.584         39        640:  42%|████▏     | 114/274 [06:12<09:15,  3.47s/it]\n",
      "      1/100      6.32G      1.328       2.79      1.584         42        640:  42%|████▏     | 114/274 [06:14<09:15,  3.47s/it]\n",
      "      1/100      6.32G      1.328       2.79      1.584         42        640:  42%|████▏     | 115/274 [06:14<07:53,  2.98s/it]\n",
      "      1/100      6.32G      1.327      2.783      1.583         35        640:  42%|████▏     | 115/274 [06:19<07:53,  2.98s/it]\n",
      "      1/100      6.32G      1.327      2.783      1.583         35        640:  42%|████▏     | 116/274 [06:19<09:24,  3.57s/it]\n",
      "      1/100      6.32G      1.326      2.771      1.583         41        640:  42%|████▏     | 116/274 [06:21<09:24,  3.57s/it]\n",
      "      1/100      6.32G      1.326      2.771      1.583         41        640:  43%|████▎     | 117/274 [06:21<07:55,  3.03s/it]\n",
      "      1/100      6.32G      1.324       2.76      1.581         49        640:  43%|████▎     | 117/274 [06:26<07:55,  3.03s/it]\n",
      "      1/100      6.32G      1.324       2.76      1.581         49        640:  43%|████▎     | 118/274 [06:26<09:29,  3.65s/it]\n",
      "      1/100      6.32G      1.322       2.75       1.58         44        640:  43%|████▎     | 118/274 [06:28<09:29,  3.65s/it]\n",
      "      1/100      6.32G      1.322       2.75       1.58         44        640:  43%|████▎     | 119/274 [06:28<08:09,  3.16s/it]\n",
      "      1/100      6.32G      1.322      2.741       1.58         40        640:  43%|████▎     | 119/274 [06:33<08:09,  3.16s/it]\n",
      "      1/100      6.32G      1.322      2.741       1.58         40        640:  44%|████▍     | 120/274 [06:33<09:18,  3.62s/it]\n",
      "      1/100      6.32G      1.321      2.732      1.579         46        640:  44%|████▍     | 120/274 [06:34<09:18,  3.62s/it]\n",
      "      1/100      6.32G      1.321      2.732      1.579         46        640:  44%|████▍     | 121/274 [06:34<07:48,  3.06s/it]\n",
      "      1/100      6.32G      1.322      2.724      1.579         42        640:  44%|████▍     | 121/274 [06:39<07:48,  3.06s/it]\n",
      "      1/100      6.32G      1.322      2.724      1.579         42        640:  45%|████▍     | 122/274 [06:39<09:14,  3.65s/it]\n",
      "      1/100      6.32G      1.322      2.716       1.58         34        640:  45%|████▍     | 122/274 [06:41<09:14,  3.65s/it]\n",
      "      1/100      6.32G      1.322      2.716       1.58         34        640:  45%|████▍     | 123/274 [06:41<07:52,  3.13s/it]\n",
      "      1/100      6.32G      1.322      2.709      1.581         41        640:  45%|████▍     | 123/274 [06:46<07:52,  3.13s/it]\n",
      "      1/100      6.32G      1.322      2.709      1.581         41        640:  45%|████▌     | 124/274 [06:46<09:11,  3.68s/it]\n",
      "      1/100      6.32G      1.322      2.698      1.581         46        640:  45%|████▌     | 124/274 [06:48<09:11,  3.68s/it]\n",
      "      1/100      6.32G      1.322      2.698      1.581         46        640:  46%|████▌     | 125/274 [06:48<07:44,  3.12s/it]\n",
      "      1/100      6.32G      1.321      2.689       1.58         39        640:  46%|████▌     | 125/274 [06:53<07:44,  3.12s/it]\n",
      "      1/100      6.32G      1.321      2.689       1.58         39        640:  46%|████▌     | 126/274 [06:53<08:53,  3.61s/it]\n",
      "      1/100      6.32G      1.321       2.68      1.579         39        640:  46%|████▌     | 126/274 [06:55<08:53,  3.61s/it]\n",
      "      1/100      6.32G      1.321       2.68      1.579         39        640:  46%|████▋     | 127/274 [06:55<07:28,  3.05s/it]\n",
      "      1/100      6.32G      1.322      2.673      1.579         46        640:  46%|████▋     | 127/274 [06:59<07:28,  3.05s/it]\n",
      "      1/100      6.32G      1.322      2.673      1.579         46        640:  47%|████▋     | 128/274 [06:59<08:39,  3.56s/it]\n",
      "      1/100      6.32G      1.322      2.665      1.579         36        640:  47%|████▋     | 128/274 [07:01<08:39,  3.56s/it]\n",
      "      1/100      6.32G      1.322      2.665      1.579         36        640:  47%|████▋     | 129/274 [07:01<07:22,  3.05s/it]\n",
      "      1/100      6.32G      1.321      2.655      1.578         56        640:  47%|████▋     | 129/274 [07:06<07:22,  3.05s/it]\n",
      "      1/100      6.32G      1.321      2.655      1.578         56        640:  47%|████▋     | 130/274 [07:06<08:53,  3.70s/it]\n",
      "      1/100      6.32G      1.322      2.649      1.578         40        640:  47%|████▋     | 130/274 [07:08<08:53,  3.70s/it]\n",
      "      1/100      6.32G      1.322      2.649      1.578         40        640:  48%|████▊     | 131/274 [07:08<07:36,  3.19s/it]\n",
      "      1/100      6.32G      1.323      2.641      1.577         42        640:  48%|████▊     | 131/274 [07:14<07:36,  3.19s/it]\n",
      "      1/100      6.32G      1.323      2.641      1.577         42        640:  48%|████▊     | 132/274 [07:14<08:54,  3.77s/it]\n",
      "      1/100      6.32G      1.322      2.633      1.576         46        640:  48%|████▊     | 132/274 [07:15<08:54,  3.77s/it]\n",
      "      1/100      6.32G      1.322      2.633      1.576         46        640:  49%|████▊     | 133/274 [07:15<07:28,  3.18s/it]\n",
      "      1/100      6.32G      1.322      2.627      1.575         40        640:  49%|████▊     | 133/274 [07:20<07:28,  3.18s/it]\n",
      "      1/100      6.32G      1.322      2.627      1.575         40        640:  49%|████▉     | 134/274 [07:20<08:29,  3.64s/it]\n",
      "      1/100      6.32G      1.323       2.62      1.576         58        640:  49%|████▉     | 134/274 [07:22<08:29,  3.64s/it]\n",
      "      1/100      6.32G      1.323       2.62      1.576         58        640:  49%|████▉     | 135/274 [07:22<07:16,  3.14s/it]\n",
      "      1/100      6.32G      1.324      2.611      1.577         38        640:  49%|████▉     | 135/274 [07:27<07:16,  3.14s/it]\n",
      "      1/100      6.32G      1.324      2.611      1.577         38        640:  50%|████▉     | 136/274 [07:27<08:26,  3.67s/it]\n",
      "      1/100      6.32G      1.323      2.602      1.575         48        640:  50%|████▉     | 136/274 [07:29<08:26,  3.67s/it]\n",
      "      1/100      6.32G      1.323      2.602      1.575         48        640:  50%|█████     | 137/274 [07:29<07:10,  3.14s/it]\n",
      "      1/100      6.32G      1.321      2.593      1.573         48        640:  50%|█████     | 137/274 [07:34<07:10,  3.14s/it]\n",
      "      1/100      6.32G      1.321      2.593      1.573         48        640:  50%|█████     | 138/274 [07:34<08:11,  3.61s/it]\n",
      "      1/100      6.33G      1.321      2.587      1.573         38        640:  50%|█████     | 138/274 [07:36<08:11,  3.61s/it]\n",
      "      1/100      6.33G      1.321      2.587      1.573         38        640:  51%|█████     | 139/274 [07:36<07:27,  3.32s/it]\n",
      "      1/100      6.33G      1.321       2.58      1.573         46        640:  51%|█████     | 139/274 [07:41<07:27,  3.32s/it]\n",
      "      1/100      6.33G      1.321       2.58      1.573         46        640:  51%|█████     | 140/274 [07:41<08:16,  3.71s/it]\n",
      "      1/100      6.33G      1.322      2.573      1.574         35        640:  51%|█████     | 140/274 [07:43<08:16,  3.71s/it]\n",
      "      1/100      6.33G      1.322      2.573      1.574         35        640:  51%|█████▏    | 141/274 [07:43<07:30,  3.38s/it]\n",
      "      1/100      6.33G      1.324      2.568      1.576         30        640:  51%|█████▏    | 141/274 [07:48<07:30,  3.38s/it]\n",
      "      1/100      6.33G      1.324      2.568      1.576         30        640:  52%|█████▏    | 142/274 [07:48<08:26,  3.83s/it]\n",
      "      1/100      6.33G      1.324      2.562      1.577         35        640:  52%|█████▏    | 142/274 [07:51<08:26,  3.83s/it]\n",
      "      1/100      6.33G      1.324      2.562      1.577         35        640:  52%|█████▏    | 143/274 [07:51<07:42,  3.53s/it]\n",
      "      1/100      6.33G      1.325      2.556      1.578         36        640:  52%|█████▏    | 143/274 [07:56<07:42,  3.53s/it]\n",
      "      1/100      6.33G      1.325      2.556      1.578         36        640:  53%|█████▎    | 144/274 [07:56<08:37,  3.98s/it]\n",
      "      1/100      6.33G      1.324      2.548      1.577         50        640:  53%|█████▎    | 144/274 [07:59<08:37,  3.98s/it]\n",
      "      1/100      6.33G      1.324      2.548      1.577         50        640:  53%|█████▎    | 145/274 [07:59<07:59,  3.71s/it]\n",
      "      1/100      6.33G      1.327      2.544      1.579         34        640:  53%|█████▎    | 145/274 [08:04<07:59,  3.71s/it]\n",
      "      1/100      6.33G      1.327      2.544      1.579         34        640:  53%|█████▎    | 146/274 [08:04<08:42,  4.08s/it]\n",
      "      1/100      6.33G      1.327      2.538      1.579         34        640:  53%|█████▎    | 146/274 [08:07<08:42,  4.08s/it]\n",
      "      1/100      6.33G      1.327      2.538      1.579         34        640:  54%|█████▎    | 147/274 [08:07<07:45,  3.67s/it]\n",
      "      1/100      6.33G      1.326      2.531      1.578         45        640:  54%|█████▎    | 147/274 [08:12<07:45,  3.67s/it]\n",
      "      1/100      6.33G      1.326      2.531      1.578         45        640:  54%|█████▍    | 148/274 [08:12<08:19,  3.97s/it]\n",
      "      1/100      6.33G      1.327      2.524      1.578         43        640:  54%|█████▍    | 148/274 [08:14<08:19,  3.97s/it]\n",
      "      1/100      6.33G      1.327      2.524      1.578         43        640:  54%|█████▍    | 149/274 [08:14<07:26,  3.57s/it]\n",
      "      1/100      6.33G      1.327      2.518      1.577         39        640:  54%|█████▍    | 149/274 [08:19<07:26,  3.57s/it]\n",
      "      1/100      6.33G      1.327      2.518      1.577         39        640:  55%|█████▍    | 150/274 [08:19<08:07,  3.93s/it]\n",
      "      1/100      6.33G      1.328      2.512      1.577         42        640:  55%|█████▍    | 150/274 [08:22<08:07,  3.93s/it]\n",
      "      1/100      6.33G      1.328      2.512      1.577         42        640:  55%|█████▌    | 151/274 [08:22<07:18,  3.56s/it]\n",
      "      1/100      6.33G      1.328      2.506      1.577         36        640:  55%|█████▌    | 151/274 [08:27<07:18,  3.56s/it]\n",
      "      1/100      6.33G      1.328      2.506      1.577         36        640:  55%|█████▌    | 152/274 [08:27<08:22,  4.12s/it]\n",
      "      1/100      6.33G      1.327      2.502      1.577         34        640:  55%|█████▌    | 152/274 [08:30<08:22,  4.12s/it]\n",
      "      1/100      6.33G      1.327      2.502      1.577         34        640:  56%|█████▌    | 153/274 [08:30<07:34,  3.76s/it]\n",
      "      1/100      6.33G      1.327      2.495      1.577         35        640:  56%|█████▌    | 153/274 [08:35<07:34,  3.76s/it]\n",
      "      1/100      6.33G      1.327      2.495      1.577         35        640:  56%|█████▌    | 154/274 [08:35<08:10,  4.09s/it]\n",
      "      1/100      6.33G      1.327      2.489      1.577         40        640:  56%|█████▌    | 154/274 [08:38<08:10,  4.09s/it]\n",
      "      1/100      6.33G      1.327      2.489      1.577         40        640:  57%|█████▋    | 155/274 [08:38<07:35,  3.82s/it]\n",
      "      1/100      6.33G      1.328      2.484      1.577         42        640:  57%|█████▋    | 155/274 [08:43<07:35,  3.82s/it]\n",
      "      1/100      6.33G      1.328      2.484      1.577         42        640:  57%|█████▋    | 156/274 [08:43<08:06,  4.12s/it]\n",
      "      1/100      6.33G      1.327      2.477      1.577         40        640:  57%|█████▋    | 156/274 [08:46<08:06,  4.12s/it]\n",
      "      1/100      6.33G      1.327      2.477      1.577         40        640:  57%|█████▋    | 157/274 [08:46<07:21,  3.78s/it]\n",
      "      1/100      6.33G      1.326       2.47      1.576         43        640:  57%|█████▋    | 157/274 [08:51<07:21,  3.78s/it]\n",
      "      1/100      6.33G      1.326       2.47      1.576         43        640:  58%|█████▊    | 158/274 [08:51<07:54,  4.09s/it]\n",
      "      1/100      6.33G      1.326      2.463      1.576         48        640:  58%|█████▊    | 158/274 [08:53<07:54,  4.09s/it]\n",
      "      1/100      6.33G      1.326      2.463      1.576         48        640:  58%|█████▊    | 159/274 [08:53<07:03,  3.69s/it]\n",
      "      1/100      6.33G      1.326      2.457      1.576         41        640:  58%|█████▊    | 159/274 [08:58<07:03,  3.69s/it]\n",
      "      1/100      6.33G      1.326      2.457      1.576         41        640:  58%|█████▊    | 160/274 [08:58<07:36,  4.00s/it]\n",
      "      1/100      6.33G      1.325       2.45      1.575         44        640:  58%|█████▊    | 160/274 [09:01<07:36,  4.00s/it]\n",
      "      1/100      6.33G      1.325       2.45      1.575         44        640:  59%|█████▉    | 161/274 [09:01<07:01,  3.73s/it]\n",
      "      1/100      6.33G      1.324      2.443      1.575         35        640:  59%|█████▉    | 161/274 [09:06<07:01,  3.73s/it]\n",
      "      1/100      6.33G      1.324      2.443      1.575         35        640:  59%|█████▉    | 162/274 [09:06<07:42,  4.13s/it]\n",
      "      1/100      6.33G      1.324      2.439      1.575         37        640:  59%|█████▉    | 162/274 [09:09<07:42,  4.13s/it]\n",
      "      1/100      6.33G      1.324      2.439      1.575         37        640:  59%|█████▉    | 163/274 [09:09<06:49,  3.69s/it]\n",
      "      1/100      6.33G      1.323      2.433      1.574         44        640:  59%|█████▉    | 163/274 [09:14<06:49,  3.69s/it]\n",
      "      1/100      6.33G      1.323      2.433      1.574         44        640:  60%|█████▉    | 164/274 [09:14<07:20,  4.00s/it]\n",
      "      1/100      6.33G      1.322      2.427      1.574         28        640:  60%|█████▉    | 164/274 [09:17<07:20,  4.00s/it]\n",
      "      1/100      6.33G      1.322      2.427      1.574         28        640:  60%|██████    | 165/274 [09:17<06:37,  3.65s/it]\n",
      "      1/100      6.33G      1.323      2.423      1.574         55        640:  60%|██████    | 165/274 [09:21<06:37,  3.65s/it]\n",
      "      1/100      6.33G      1.323      2.423      1.574         55        640:  61%|██████    | 166/274 [09:21<07:09,  3.98s/it]\n",
      "      1/100      6.33G      1.322      2.417      1.574         32        640:  61%|██████    | 166/274 [09:24<07:09,  3.98s/it]\n",
      "      1/100      6.33G      1.322      2.417      1.574         32        640:  61%|██████    | 167/274 [09:24<06:28,  3.63s/it]\n",
      "      1/100      6.33G      1.322      2.412      1.574         52        640:  61%|██████    | 167/274 [09:29<06:28,  3.63s/it]\n",
      "      1/100      6.33G      1.322      2.412      1.574         52        640:  61%|██████▏   | 168/274 [09:29<07:02,  3.99s/it]\n",
      "      1/100      6.33G      1.322      2.405      1.573         45        640:  61%|██████▏   | 168/274 [09:32<07:02,  3.99s/it]\n",
      "      1/100      6.33G      1.322      2.405      1.573         45        640:  62%|██████▏   | 169/274 [09:32<06:17,  3.59s/it]\n",
      "      1/100      6.33G      1.322      2.398      1.573         54        640:  62%|██████▏   | 169/274 [09:36<06:17,  3.59s/it]\n",
      "      1/100      6.33G      1.322      2.398      1.573         54        640:  62%|██████▏   | 170/274 [09:36<06:45,  3.90s/it]\n",
      "      1/100      6.33G      1.322      2.392      1.573         41        640:  62%|██████▏   | 170/274 [09:39<06:45,  3.90s/it]\n",
      "      1/100      6.33G      1.322      2.392      1.573         41        640:  62%|██████▏   | 171/274 [09:39<06:01,  3.51s/it]\n",
      "      1/100      6.33G      1.321      2.387      1.573         47        640:  62%|██████▏   | 171/274 [09:44<06:01,  3.51s/it]\n",
      "      1/100      6.33G      1.321      2.387      1.573         47        640:  63%|██████▎   | 172/274 [09:44<06:42,  3.94s/it]\n",
      "      1/100      6.33G      1.321      2.381      1.573         34        640:  63%|██████▎   | 172/274 [09:47<06:42,  3.94s/it]\n",
      "      1/100      6.33G      1.321      2.381      1.573         34        640:  63%|██████▎   | 173/274 [09:47<06:05,  3.61s/it]\n",
      "      1/100      6.33G      1.322      2.378      1.574         35        640:  63%|██████▎   | 173/274 [09:52<06:05,  3.61s/it]\n",
      "      1/100      6.33G      1.322      2.378      1.574         35        640:  64%|██████▎   | 174/274 [09:52<06:39,  3.99s/it]\n",
      "      1/100      6.33G      1.322      2.373      1.574         39        640:  64%|██████▎   | 174/274 [09:54<06:39,  3.99s/it]\n",
      "      1/100      6.33G      1.322      2.373      1.574         39        640:  64%|██████▍   | 175/274 [09:54<06:01,  3.65s/it]\n",
      "      1/100      6.33G      1.321      2.366      1.574         43        640:  64%|██████▍   | 175/274 [09:59<06:01,  3.65s/it]\n",
      "      1/100      6.33G      1.321      2.366      1.574         43        640:  64%|██████▍   | 176/274 [09:59<06:38,  4.06s/it]\n",
      "      1/100      6.33G      1.322      2.364      1.575         33        640:  64%|██████▍   | 176/274 [10:02<06:38,  4.06s/it]\n",
      "      1/100      6.33G      1.322      2.364      1.575         33        640:  65%|██████▍   | 177/274 [10:02<06:04,  3.75s/it]\n",
      "      1/100      6.33G      1.321      2.358      1.575         51        640:  65%|██████▍   | 177/274 [10:08<06:04,  3.75s/it]\n",
      "      1/100      6.33G      1.321      2.358      1.575         51        640:  65%|██████▍   | 178/274 [10:08<06:40,  4.17s/it]\n",
      "      1/100      6.33G      1.321      2.353      1.575         34        640:  65%|██████▍   | 178/274 [10:11<06:40,  4.17s/it]\n",
      "      1/100      6.33G      1.321      2.353      1.575         34        640:  65%|██████▌   | 179/274 [10:11<06:05,  3.85s/it]\n",
      "      1/100      6.33G      1.321      2.347      1.575         39        640:  65%|██████▌   | 179/274 [10:16<06:05,  3.85s/it]\n",
      "      1/100      6.33G      1.321      2.347      1.575         39        640:  66%|██████▌   | 180/274 [10:16<06:38,  4.24s/it]\n",
      "      1/100      6.33G      1.321      2.342      1.575         45        640:  66%|██████▌   | 180/274 [10:19<06:38,  4.24s/it]\n",
      "      1/100      6.33G      1.321      2.342      1.575         45        640:  66%|██████▌   | 181/274 [10:19<05:57,  3.85s/it]\n",
      "      1/100      6.33G      1.322      2.339      1.576         35        640:  66%|██████▌   | 181/274 [10:24<05:57,  3.85s/it]\n",
      "      1/100      6.33G      1.322      2.339      1.576         35        640:  66%|██████▋   | 182/274 [10:24<06:22,  4.16s/it]\n",
      "      1/100      6.33G      1.322      2.336      1.576         50        640:  66%|██████▋   | 182/274 [10:26<06:22,  4.16s/it]\n",
      "      1/100      6.33G      1.322      2.336      1.576         50        640:  67%|██████▋   | 183/274 [10:26<05:42,  3.76s/it]\n",
      "      1/100      6.33G      1.322      2.333      1.576         37        640:  67%|██████▋   | 183/274 [10:31<05:42,  3.76s/it]\n",
      "      1/100      6.33G      1.322      2.333      1.576         37        640:  67%|██████▋   | 184/274 [10:31<06:01,  4.01s/it]\n",
      "      1/100      6.33G      1.322      2.327      1.576         39        640:  67%|██████▋   | 184/274 [10:34<06:01,  4.01s/it]\n",
      "      1/100      6.33G      1.322      2.327      1.576         39        640:  68%|██████▊   | 185/274 [10:34<05:21,  3.61s/it]\n",
      "      1/100      6.33G      1.322      2.321      1.575         52        640:  68%|██████▊   | 185/274 [10:38<05:21,  3.61s/it]\n",
      "      1/100      6.33G      1.322      2.321      1.575         52        640:  68%|██████▊   | 186/274 [10:38<05:40,  3.87s/it]\n",
      "      1/100      6.33G      1.322      2.318      1.576         41        640:  68%|██████▊   | 186/274 [10:41<05:40,  3.87s/it]\n",
      "      1/100      6.33G      1.322      2.318      1.576         41        640:  68%|██████▊   | 187/274 [10:41<05:06,  3.52s/it]\n",
      "      1/100      6.33G      1.321      2.313      1.576         41        640:  68%|██████▊   | 187/274 [10:46<05:06,  3.52s/it]\n",
      "      1/100      6.33G      1.321      2.313      1.576         41        640:  69%|██████▊   | 188/274 [10:46<05:34,  3.89s/it]\n",
      "      1/100      6.33G       1.32      2.307      1.575         44        640:  69%|██████▊   | 188/274 [10:49<05:34,  3.89s/it]\n",
      "      1/100      6.33G       1.32      2.307      1.575         44        640:  69%|██████▉   | 189/274 [10:49<05:08,  3.62s/it]\n",
      "      1/100      6.33G       1.32      2.302      1.574         31        640:  69%|██████▉   | 189/274 [10:54<05:08,  3.62s/it]\n",
      "      1/100      6.33G       1.32      2.302      1.574         31        640:  69%|██████▉   | 190/274 [10:54<05:35,  4.00s/it]\n",
      "      1/100      6.33G      1.318      2.297      1.574         45        640:  69%|██████▉   | 190/274 [10:56<05:35,  4.00s/it]\n",
      "      1/100      6.33G      1.318      2.297      1.574         45        640:  70%|██████▉   | 191/274 [10:56<04:58,  3.60s/it]\n",
      "      1/100      6.33G      1.318      2.292      1.573         47        640:  70%|██████▉   | 191/274 [11:01<04:58,  3.60s/it]\n",
      "      1/100      6.33G      1.318      2.292      1.573         47        640:  70%|███████   | 192/274 [11:01<05:19,  3.90s/it]\n",
      "      1/100      6.33G      1.318      2.286      1.573         30        640:  70%|███████   | 192/274 [11:04<05:19,  3.90s/it]\n",
      "      1/100      6.33G      1.318      2.286      1.573         30        640:  70%|███████   | 193/274 [11:04<04:49,  3.58s/it]\n",
      "      1/100      6.33G      1.318      2.281      1.574         30        640:  70%|███████   | 193/274 [11:08<04:49,  3.58s/it]\n",
      "      1/100      6.33G      1.318      2.281      1.574         30        640:  71%|███████   | 194/274 [11:08<05:15,  3.94s/it]\n",
      "      1/100      6.33G      1.317      2.276      1.573         49        640:  71%|███████   | 194/274 [11:11<05:15,  3.94s/it]\n",
      "      1/100      6.33G      1.317      2.276      1.573         49        640:  71%|███████   | 195/274 [11:11<04:42,  3.58s/it]\n",
      "      1/100      6.33G      1.317      2.271      1.574         43        640:  71%|███████   | 195/274 [11:16<04:42,  3.58s/it]\n",
      "      1/100      6.33G      1.317      2.271      1.574         43        640:  72%|███████▏  | 196/274 [11:16<05:06,  3.93s/it]\n",
      "      1/100      6.33G      1.317      2.268      1.574         42        640:  72%|███████▏  | 196/274 [11:22<05:06,  3.93s/it]\n",
      "      1/100      6.33G      1.317      2.268      1.574         42        640:  72%|███████▏  | 197/274 [11:22<05:58,  4.66s/it]\n",
      "      1/100      6.33G      1.316      2.262      1.573         50        640:  72%|███████▏  | 197/274 [11:32<05:58,  4.66s/it]\n",
      "      1/100      6.33G      1.316      2.262      1.573         50        640:  72%|███████▏  | 198/274 [11:32<07:56,  6.27s/it]\n",
      "      1/100      6.33G      1.316      2.257      1.572         39        640:  72%|███████▏  | 198/274 [11:36<07:56,  6.27s/it]\n",
      "      1/100      6.33G      1.316      2.257      1.572         39        640:  73%|███████▎  | 199/274 [11:36<06:55,  5.54s/it]\n",
      "      1/100      6.33G      1.315      2.252      1.572         34        640:  73%|███████▎  | 199/274 [11:41<06:55,  5.54s/it]\n",
      "      1/100      6.33G      1.315      2.252      1.572         34        640:  73%|███████▎  | 200/274 [11:41<06:43,  5.45s/it]\n",
      "      1/100      6.33G      1.316      2.248      1.572         41        640:  73%|███████▎  | 200/274 [11:45<06:43,  5.45s/it]\n",
      "      1/100      6.33G      1.316      2.248      1.572         41        640:  73%|███████▎  | 201/274 [11:45<06:02,  4.97s/it]\n",
      "      1/100      6.33G      1.316      2.243      1.572         38        640:  73%|███████▎  | 201/274 [11:59<06:02,  4.97s/it]\n",
      "      1/100      6.33G      1.316      2.243      1.572         38        640:  74%|███████▎  | 202/274 [11:59<09:04,  7.56s/it]\n",
      "      1/100      6.33G      1.316      2.239      1.573         36        640:  74%|███████▎  | 202/274 [12:03<09:04,  7.56s/it]\n",
      "      1/100      6.33G      1.316      2.239      1.573         36        640:  74%|███████▍  | 203/274 [12:03<07:50,  6.62s/it]\n",
      "      1/100      6.33G      1.316      2.235      1.573         41        640:  74%|███████▍  | 203/274 [12:09<07:50,  6.62s/it]\n",
      "      1/100      6.33G      1.316      2.235      1.573         41        640:  74%|███████▍  | 204/274 [12:09<07:29,  6.42s/it]\n",
      "      1/100      6.33G      1.316      2.231      1.573         39        640:  74%|███████▍  | 204/274 [12:13<07:29,  6.42s/it]\n",
      "      1/100      6.33G      1.316      2.231      1.573         39        640:  75%|███████▍  | 205/274 [12:13<06:36,  5.75s/it]\n",
      "      1/100      6.33G      1.316      2.227      1.573         44        640:  75%|███████▍  | 205/274 [12:19<06:36,  5.75s/it]\n",
      "      1/100      6.33G      1.316      2.227      1.573         44        640:  75%|███████▌  | 206/274 [12:19<06:32,  5.78s/it]\n",
      "      1/100      6.33G      1.317      2.222      1.574         37        640:  75%|███████▌  | 206/274 [12:24<06:32,  5.78s/it]\n",
      "      1/100      6.33G      1.317      2.222      1.574         37        640:  76%|███████▌  | 207/274 [12:24<05:58,  5.36s/it]\n",
      "      1/100      6.33G      1.318       2.22      1.575         35        640:  76%|███████▌  | 207/274 [12:31<05:58,  5.36s/it]\n",
      "      1/100      6.33G      1.318       2.22      1.575         35        640:  76%|███████▌  | 208/274 [12:31<06:36,  6.00s/it]\n",
      "      1/100      6.33G      1.318      2.215      1.575         40        640:  76%|███████▌  | 208/274 [12:36<06:36,  6.00s/it]\n",
      "      1/100      6.33G      1.318      2.215      1.575         40        640:  76%|███████▋  | 209/274 [12:36<06:10,  5.69s/it]\n",
      "      1/100      6.33G      1.318       2.21      1.575         52        640:  76%|███████▋  | 209/274 [12:42<06:10,  5.69s/it]\n",
      "      1/100      6.33G      1.318       2.21      1.575         52        640:  77%|███████▋  | 210/274 [12:42<06:10,  5.79s/it]\n",
      "      1/100      6.33G      1.318      2.207      1.575         37        640:  77%|███████▋  | 210/274 [12:46<06:10,  5.79s/it]\n",
      "      1/100      6.33G      1.318      2.207      1.575         37        640:  77%|███████▋  | 211/274 [12:46<05:34,  5.30s/it]\n",
      "      1/100      6.33G      1.319      2.203      1.575         36        640:  77%|███████▋  | 211/274 [12:52<05:34,  5.30s/it]\n",
      "      1/100      6.33G      1.319      2.203      1.575         36        640:  77%|███████▋  | 212/274 [12:52<05:34,  5.40s/it]\n",
      "      1/100      6.33G      1.319      2.199      1.575         38        640:  77%|███████▋  | 212/274 [12:56<05:34,  5.40s/it]\n",
      "      1/100      6.33G      1.319      2.199      1.575         38        640:  78%|███████▊  | 213/274 [12:56<05:09,  5.08s/it]\n",
      "      1/100      6.33G       1.32      2.197      1.576         42        640:  78%|███████▊  | 213/274 [13:02<05:09,  5.08s/it]\n",
      "      1/100      6.33G       1.32      2.197      1.576         42        640:  78%|███████▊  | 214/274 [13:02<05:14,  5.23s/it]\n",
      "      1/100      6.33G       1.32      2.192      1.576         43        640:  78%|███████▊  | 214/274 [13:06<05:14,  5.23s/it]\n",
      "      1/100      6.33G       1.32      2.192      1.576         43        640:  78%|███████▊  | 215/274 [13:06<04:52,  4.95s/it]\n",
      "      1/100      6.33G       1.32      2.188      1.576         40        640:  78%|███████▊  | 215/274 [13:12<04:52,  4.95s/it]\n",
      "      1/100      6.33G       1.32      2.188      1.576         40        640:  79%|███████▉  | 216/274 [13:12<04:58,  5.14s/it]\n",
      "      1/100      6.33G       1.32      2.186      1.576         48        640:  79%|███████▉  | 216/274 [13:16<04:58,  5.14s/it]\n",
      "      1/100      6.33G       1.32      2.186      1.576         48        640:  79%|███████▉  | 217/274 [13:16<04:43,  4.98s/it]\n",
      "      1/100      6.33G       1.32      2.182      1.576         39        640:  79%|███████▉  | 217/274 [13:23<04:43,  4.98s/it]\n",
      "      1/100      6.33G       1.32      2.182      1.576         39        640:  80%|███████▉  | 218/274 [13:23<04:59,  5.35s/it]\n",
      "      1/100      6.33G      1.321       2.18      1.576         31        640:  80%|███████▉  | 218/274 [13:32<04:59,  5.35s/it]\n",
      "      1/100      6.33G      1.321       2.18      1.576         31        640:  80%|███████▉  | 219/274 [13:32<05:57,  6.50s/it]\n",
      "      1/100      6.33G      1.321      2.178      1.576         50        640:  80%|███████▉  | 219/274 [14:02<05:57,  6.50s/it]\n",
      "      1/100      6.33G      1.321      2.178      1.576         50        640:  80%|████████  | 220/274 [14:02<12:13, 13.59s/it]\n",
      "      1/100      6.33G      1.321      2.175      1.576         34        640:  80%|████████  | 220/274 [14:27<12:13, 13.59s/it]\n",
      "      1/100      6.33G      1.321      2.175      1.576         34        640:  81%|████████  | 221/274 [14:27<15:05, 17.08s/it]\n",
      "      1/100      6.33G      1.321      2.173      1.576         35        640:  81%|████████  | 221/274 [14:58<15:05, 17.08s/it]\n",
      "      1/100      6.33G      1.321      2.173      1.576         35        640:  81%|████████  | 222/274 [14:58<18:17, 21.11s/it]\n",
      "      1/100      6.33G      1.321      2.169      1.575         46        640:  81%|████████  | 222/274 [15:19<18:17, 21.11s/it]\n",
      "      1/100      6.33G      1.321      2.169      1.575         46        640:  81%|████████▏ | 223/274 [15:19<17:56, 21.11s/it]\n",
      "      1/100      6.33G      1.321      2.166      1.575         43        640:  81%|████████▏ | 223/274 [15:49<17:56, 21.11s/it]\n",
      "      1/100      6.33G      1.321      2.166      1.575         43        640:  82%|████████▏ | 224/274 [15:49<19:54, 23.89s/it]\n",
      "      1/100      6.33G      1.321      2.162      1.574         47        640:  82%|████████▏ | 224/274 [16:11<19:54, 23.89s/it]\n",
      "      1/100      6.33G      1.321      2.162      1.574         47        640:  82%|████████▏ | 225/274 [16:11<19:05, 23.38s/it]\n",
      "      1/100      6.33G      1.321      2.159      1.575         33        640:  82%|████████▏ | 225/274 [16:50<19:05, 23.38s/it]\n",
      "      1/100      6.33G      1.321      2.159      1.575         33        640:  82%|████████▏ | 226/274 [16:50<22:29, 28.12s/it]\n",
      "      1/100      6.33G       1.32      2.155      1.574         31        640:  82%|████████▏ | 226/274 [17:13<22:29, 28.12s/it]\n",
      "      1/100      6.33G       1.32      2.155      1.574         31        640:  83%|████████▎ | 227/274 [17:13<20:44, 26.47s/it]\n",
      "      1/100      6.33G       1.32      2.152      1.574         45        640:  83%|████████▎ | 227/274 [17:46<20:44, 26.47s/it]\n",
      "      1/100      6.33G       1.32      2.152      1.574         45        640:  83%|████████▎ | 228/274 [17:46<21:50, 28.49s/it]\n",
      "      1/100      6.33G       1.32      2.148      1.574         36        640:  83%|████████▎ | 228/274 [18:12<21:50, 28.49s/it]\n",
      "      1/100      6.33G       1.32      2.148      1.574         36        640:  84%|████████▎ | 229/274 [18:12<20:42, 27.60s/it]\n",
      "      1/100      6.33G       1.32      2.143      1.574         40        640:  84%|████████▎ | 229/274 [18:36<20:42, 27.60s/it]\n",
      "      1/100      6.33G       1.32      2.143      1.574         40        640:  84%|████████▍ | 230/274 [18:36<19:24, 26.46s/it]\n",
      "      1/100      6.33G       1.32      2.141      1.574         43        640:  84%|████████▍ | 230/274 [18:57<19:24, 26.46s/it]\n",
      "      1/100      6.33G       1.32      2.141      1.574         43        640:  84%|████████▍ | 231/274 [18:57<17:51, 24.92s/it]\n",
      "      1/100      6.33G       1.32      2.137      1.574         41        640:  84%|████████▍ | 231/274 [19:24<17:51, 24.92s/it]\n",
      "      1/100      6.33G       1.32      2.137      1.574         41        640:  85%|████████▍ | 232/274 [19:24<17:47, 25.43s/it]\n",
      "      1/100      6.33G       1.32      2.134      1.574         57        640:  85%|████████▍ | 232/274 [19:42<17:47, 25.43s/it]\n",
      "      1/100      6.33G       1.32      2.134      1.574         57        640:  85%|████████▌ | 233/274 [19:42<15:57, 23.35s/it]\n",
      "      1/100      6.33G       1.32      2.133      1.573         44        640:  85%|████████▌ | 233/274 [20:09<15:57, 23.35s/it]\n",
      "      1/100      6.33G       1.32      2.133      1.573         44        640:  85%|████████▌ | 234/274 [20:09<16:22, 24.56s/it]\n",
      "      1/100      6.33G      1.319       2.13      1.573         35        640:  85%|████████▌ | 234/274 [20:32<16:22, 24.56s/it]\n",
      "      1/100      6.33G      1.319       2.13      1.573         35        640:  86%|████████▌ | 235/274 [20:32<15:35, 23.98s/it]\n",
      "      1/100      6.33G       1.32      2.128      1.573         38        640:  86%|████████▌ | 235/274 [20:56<15:35, 23.98s/it]\n",
      "      1/100      6.33G       1.32      2.128      1.573         38        640:  86%|████████▌ | 236/274 [20:56<15:05, 23.83s/it]\n",
      "      1/100      6.33G      1.319      2.124      1.573         52        640:  86%|████████▌ | 236/274 [21:18<15:05, 23.83s/it]\n",
      "      1/100      6.33G      1.319      2.124      1.573         52        640:  86%|████████▋ | 237/274 [21:18<14:31, 23.55s/it]\n",
      "      1/100      6.33G      1.319      2.122      1.572         42        640:  86%|████████▋ | 237/274 [21:46<14:31, 23.55s/it]\n",
      "      1/100      6.33G      1.319      2.122      1.572         42        640:  87%|████████▋ | 238/274 [21:46<14:51, 24.77s/it]\n",
      "      1/100      6.33G      1.319      2.118      1.572         34        640:  87%|████████▋ | 238/274 [22:08<14:51, 24.77s/it]\n",
      "      1/100      6.33G      1.319      2.118      1.572         34        640:  87%|████████▋ | 239/274 [22:08<13:52, 23.80s/it]\n",
      "      1/100      6.33G      1.318      2.115      1.572         37        640:  87%|████████▋ | 239/274 [22:31<13:52, 23.80s/it]\n",
      "      1/100      6.33G      1.318      2.115      1.572         37        640:  88%|████████▊ | 240/274 [22:31<13:23, 23.63s/it]\n",
      "      1/100      6.33G      1.318      2.112      1.572         51        640:  88%|████████▊ | 240/274 [22:54<13:23, 23.63s/it]\n",
      "      1/100      6.33G      1.318      2.112      1.572         51        640:  88%|████████▊ | 241/274 [22:54<12:51, 23.39s/it]\n",
      "      1/100      6.33G      1.318      2.111      1.572         56        640:  88%|████████▊ | 241/274 [23:20<12:51, 23.39s/it]\n",
      "      1/100      6.33G      1.318      2.111      1.572         56        640:  88%|████████▊ | 242/274 [23:20<12:56, 24.26s/it]\n",
      "      1/100      6.33G      1.318      2.108      1.572         55        640:  88%|████████▊ | 242/274 [23:38<12:56, 24.26s/it]\n",
      "      1/100      6.33G      1.318      2.108      1.572         55        640:  89%|████████▊ | 243/274 [23:38<11:33, 22.38s/it]\n",
      "      1/100      6.33G      1.319      2.106      1.573         33        640:  89%|████████▊ | 243/274 [24:04<11:33, 22.38s/it]\n",
      "      1/100      6.33G      1.319      2.106      1.573         33        640:  89%|████████▉ | 244/274 [24:04<11:45, 23.50s/it]\n",
      "      1/100      6.33G      1.318      2.104      1.572         41        640:  89%|████████▉ | 244/274 [24:26<11:45, 23.50s/it]\n",
      "      1/100      6.33G      1.318      2.104      1.572         41        640:  89%|████████▉ | 245/274 [24:26<11:06, 22.97s/it]\n",
      "      1/100      6.33G      1.319      2.101      1.574         35        640:  89%|████████▉ | 245/274 [24:53<11:06, 22.97s/it]\n",
      "      1/100      6.33G      1.319      2.101      1.574         35        640:  90%|████████▉ | 246/274 [24:53<11:17, 24.19s/it]\n",
      "      1/100      6.33G      1.319      2.099      1.574         35        640:  90%|████████▉ | 246/274 [25:11<11:17, 24.19s/it]\n",
      "      1/100      6.33G      1.319      2.099      1.574         35        640:  90%|█████████ | 247/274 [25:11<10:03, 22.34s/it]\n",
      "      1/100      6.33G       1.32      2.097      1.575         31        640:  90%|█████████ | 247/274 [25:41<10:03, 22.34s/it]\n",
      "      1/100      6.33G       1.32      2.097      1.575         31        640:  91%|█████████ | 248/274 [25:41<10:44, 24.80s/it]\n",
      "      1/100      6.33G      1.321      2.094      1.575         47        640:  91%|█████████ | 248/274 [26:00<10:44, 24.80s/it]\n",
      "      1/100      6.33G      1.321      2.094      1.575         47        640:  91%|█████████ | 249/274 [26:00<09:31, 22.85s/it]\n",
      "      1/100      6.33G      1.321      2.091      1.575         48        640:  91%|█████████ | 249/274 [26:26<09:31, 22.85s/it]\n",
      "      1/100      6.33G      1.321      2.091      1.575         48        640:  91%|█████████ | 250/274 [26:26<09:34, 23.94s/it]\n",
      "      1/100      6.33G      1.321       2.09      1.576         37        640:  91%|█████████ | 250/274 [26:48<09:34, 23.94s/it]\n",
      "      1/100      6.33G      1.321       2.09      1.576         37        640:  92%|█████████▏| 251/274 [26:48<08:54, 23.22s/it]\n",
      "      1/100      6.33G      1.321      2.088      1.576         40        640:  92%|█████████▏| 251/274 [27:17<08:54, 23.22s/it]\n",
      "      1/100      6.33G      1.321      2.088      1.576         40        640:  92%|█████████▏| 252/274 [27:17<09:11, 25.07s/it]\n",
      "      1/100      6.33G      1.321      2.086      1.576         50        640:  92%|█████████▏| 252/274 [27:40<09:11, 25.07s/it]\n",
      "      1/100      6.33G      1.321      2.086      1.576         50        640:  92%|█████████▏| 253/274 [27:40<08:32, 24.38s/it]\n",
      "      1/100      6.33G      1.322      2.083      1.576         49        640:  92%|█████████▏| 253/274 [28:07<08:32, 24.38s/it]\n",
      "      1/100      6.33G      1.322      2.083      1.576         49        640:  93%|█████████▎| 254/274 [28:07<08:26, 25.33s/it]\n",
      "      1/100      6.33G      1.322       2.08      1.575         45        640:  93%|█████████▎| 254/274 [28:30<08:26, 25.33s/it]\n",
      "      1/100      6.33G      1.322       2.08      1.575         45        640:  93%|█████████▎| 255/274 [28:30<07:48, 24.65s/it]\n",
      "      1/100      6.33G      1.322      2.079      1.576         42        640:  93%|█████████▎| 255/274 [28:57<07:48, 24.65s/it]\n",
      "      1/100      6.33G      1.322      2.079      1.576         42        640:  93%|█████████▎| 256/274 [28:57<07:35, 25.31s/it]\n",
      "      1/100      6.33G      1.322      2.075      1.575         47        640:  93%|█████████▎| 256/274 [29:20<07:35, 25.31s/it]\n",
      "      1/100      6.33G      1.322      2.075      1.575         47        640:  94%|█████████▍| 257/274 [29:20<06:59, 24.65s/it]\n",
      "      1/100      6.33G      1.322      2.073      1.575         43        640:  94%|█████████▍| 257/274 [29:47<06:59, 24.65s/it]\n",
      "      1/100      6.33G      1.322      2.073      1.575         43        640:  94%|█████████▍| 258/274 [29:47<06:42, 25.16s/it]\n",
      "      1/100      6.33G      1.322       2.07      1.575         49        640:  94%|█████████▍| 258/274 [30:05<06:42, 25.16s/it]\n",
      "      1/100      6.33G      1.322       2.07      1.575         49        640:  95%|█████████▍| 259/274 [30:05<05:45, 23.04s/it]\n",
      "      1/100      6.33G      1.323      2.068      1.576         34        640:  95%|█████████▍| 259/274 [30:31<05:45, 23.04s/it]\n",
      "      1/100      6.33G      1.323      2.068      1.576         34        640:  95%|█████████▍| 260/274 [30:31<05:34, 23.86s/it]\n",
      "      1/100      6.33G      1.323      2.066      1.576         45        640:  95%|█████████▍| 260/274 [30:49<05:34, 23.86s/it]\n",
      "      1/100      6.33G      1.323      2.066      1.576         45        640:  95%|█████████▌| 261/274 [30:49<04:47, 22.14s/it]\n",
      "      1/100      6.33G      1.323      2.063      1.577         30        640:  95%|█████████▌| 261/274 [31:15<04:47, 22.14s/it]\n",
      "      1/100      6.33G      1.323      2.063      1.577         30        640:  96%|█████████▌| 262/274 [31:15<04:39, 23.28s/it]\n",
      "      1/100      6.33G      1.323      2.061      1.577         45        640:  96%|█████████▌| 262/274 [31:32<04:39, 23.28s/it]\n",
      "      1/100      6.33G      1.323      2.061      1.577         45        640:  96%|█████████▌| 263/274 [31:32<03:56, 21.54s/it]\n",
      "      1/100      6.33G      1.323      2.059      1.577         30        640:  96%|█████████▌| 263/274 [31:58<03:56, 21.54s/it]\n",
      "      1/100      6.33G      1.323      2.059      1.577         30        640:  96%|█████████▋| 264/274 [31:58<03:47, 22.75s/it]\n",
      "      1/100      6.33G      1.322      2.057      1.577         43        640:  96%|█████████▋| 264/274 [32:20<03:47, 22.75s/it]\n",
      "      1/100      6.33G      1.322      2.057      1.577         43        640:  97%|█████████▋| 265/274 [32:20<03:22, 22.47s/it]\n",
      "      1/100      6.33G      1.322      2.054      1.576         47        640:  97%|█████████▋| 265/274 [32:46<03:22, 22.47s/it]\n",
      "      1/100      6.33G      1.322      2.054      1.576         47        640:  97%|█████████▋| 266/274 [32:46<03:10, 23.79s/it]\n",
      "      1/100      6.33G      1.321      2.051      1.576         33        640:  97%|█████████▋| 266/274 [33:10<03:10, 23.79s/it]\n",
      "      1/100      6.33G      1.321      2.051      1.576         33        640:  97%|█████████▋| 267/274 [33:10<02:45, 23.65s/it]\n",
      "      1/100      6.33G      1.322      2.048      1.577         43        640:  97%|█████████▋| 267/274 [33:32<02:45, 23.65s/it]\n",
      "      1/100      6.33G      1.322      2.048      1.577         43        640:  98%|█████████▊| 268/274 [33:32<02:19, 23.31s/it]\n",
      "      1/100      6.33G      1.321      2.045      1.577         44        640:  98%|█████████▊| 268/274 [33:53<02:19, 23.31s/it]\n",
      "      1/100      6.33G      1.321      2.045      1.577         44        640:  98%|█████████▊| 269/274 [33:53<01:53, 22.64s/it]\n",
      "      1/100      6.33G      1.322      2.043      1.577         43        640:  98%|█████████▊| 269/274 [34:20<01:53, 22.64s/it]\n",
      "      1/100      6.33G      1.322      2.043      1.577         43        640:  99%|█████████▊| 270/274 [34:20<01:35, 23.84s/it]\n",
      "      1/100      6.33G      1.322      2.042      1.578         36        640:  99%|█████████▊| 270/274 [34:38<01:35, 23.84s/it]\n",
      "      1/100      6.33G      1.322      2.042      1.578         36        640:  99%|█████████▉| 271/274 [34:38<01:06, 22.07s/it]\n",
      "      1/100      6.33G      1.322       2.04      1.578         41        640:  99%|█████████▉| 271/274 [35:04<01:06, 22.07s/it]\n",
      "      1/100      6.33G      1.322       2.04      1.578         41        640:  99%|█████████▉| 272/274 [35:04<00:46, 23.35s/it]\n",
      "      1/100      6.33G      1.322      2.037      1.577         66        640:  99%|█████████▉| 272/274 [35:26<00:46, 23.35s/it]\n",
      "      1/100      6.33G      1.322      2.037      1.577         66        640: 100%|█████████▉| 273/274 [35:26<00:22, 22.88s/it]\n",
      "      1/100      6.33G      1.321      2.035      1.577         17        640: 100%|█████████▉| 273/274 [35:27<00:22, 22.88s/it]\n",
      "      1/100      6.33G      1.321      2.035      1.577         17        640: 100%|██████████| 274/274 [35:27<00:00, 16.22s/it]\n",
      "      1/100      6.33G      1.321      2.035      1.577         17        640: 100%|██████████| 274/274 [35:27<00:00,  7.76s/it]\n",
      "\n",
      "                 Class     Images  Instances      Box(P          R      mAP50  mAP50-95):   0%|          | 0/9 [00:00<?, ?it/s]\n",
      "                 Class     Images  Instances      Box(P          R      mAP50  mAP50-95):  11%|█         | 1/9 [00:17<02:23, 18.00s/it]\n",
      "                 Class     Images  Instances      Box(P          R      mAP50  mAP50-95):  22%|██▏       | 2/9 [00:31<01:48, 15.46s/it]\n",
      "                 Class     Images  Instances      Box(P          R      mAP50  mAP50-95):  33%|███▎      | 3/9 [00:45<01:29, 14.91s/it]\n",
      "                 Class     Images  Instances      Box(P          R      mAP50  mAP50-95):  44%|████▍     | 4/9 [01:00<01:12, 14.58s/it]\n",
      "                 Class     Images  Instances      Box(P          R      mAP50  mAP50-95):  56%|█████▌    | 5/9 [01:17<01:02, 15.54s/it]\n",
      "                 Class     Images  Instances      Box(P          R      mAP50  mAP50-95):  67%|██████▋   | 6/9 [01:31<00:44, 15.00s/it]\n",
      "                 Class     Images  Instances      Box(P          R      mAP50  mAP50-95):  78%|███████▊  | 7/9 [01:44<00:29, 14.50s/it]\n",
      "                 Class     Images  Instances      Box(P          R      mAP50  mAP50-95):  89%|████████▉ | 8/9 [01:58<00:14, 14.18s/it]\n",
      "                 Class     Images  Instances      Box(P          R      mAP50  mAP50-95): 100%|██████████| 9/9 [02:02<00:00, 11.19s/it]\n",
      "                 Class     Images  Instances      Box(P          R      mAP50  mAP50-95): 100%|██████████| 9/9 [02:02<00:00, 13.64s/it]\n",
      "Traceback (most recent call last):\n",
      "  File \"C:\\Users\\ishaa\\anaconda3\\envs\\ece4179stuff\\Scripts\\yolo-script.py\", line 9, in <module>\n",
      "    sys.exit(entrypoint())\n",
      "             ^^^^^^^^^^^^\n",
      "  File \"C:\\Users\\ishaa\\anaconda3\\envs\\ece4179stuff\\Lib\\site-packages\\ultralytics\\cfg\\__init__.py\", line 987, in entrypoint\n",
      "    getattr(model, mode)(**overrides)  # default args from model\n",
      "    ^^^^^^^^^^^^^^^^^^^^^^^^^^^^^^^^^\n",
      "  File \"C:\\Users\\ishaa\\anaconda3\\envs\\ece4179stuff\\Lib\\site-packages\\ultralytics\\engine\\model.py\", line 791, in train\n",
      "    self.trainer.train()\n",
      "  File \"C:\\Users\\ishaa\\anaconda3\\envs\\ece4179stuff\\Lib\\site-packages\\ultralytics\\engine\\trainer.py\", line 211, in train\n",
      "    self._do_train(world_size)\n",
      "  File \"C:\\Users\\ishaa\\anaconda3\\envs\\ece4179stuff\\Lib\\site-packages\\ultralytics\\engine\\trainer.py\", line 439, in _do_train\n",
      "    self.save_metrics(metrics={**self.label_loss_items(self.tloss), **self.metrics, **self.lr})\n",
      "  File \"C:\\Users\\ishaa\\anaconda3\\envs\\ece4179stuff\\Lib\\site-packages\\ultralytics\\engine\\trainer.py\", line 693, in save_metrics\n",
      "    with open(self.csv, \"a\", encoding=\"utf-8\") as f:\n",
      "         ^^^^^^^^^^^^^^^^^^^^^^^^^^^^^^^^^^^^^\n",
      "FileNotFoundError: [Errno 2] No such file or directory: 'runs\\\\detect\\\\train\\\\results.csv'\n",
      "       1/50      3.47G      1.359      2.038       1.63         12        640: 100%|██████████| 547/547 [26:38<00:00,  2.92s/it]\n",
      "                 Class     Images  Instances      Box(P          R      mAP50  mAP50-95): 100%|██████████| 18/18 [00:05<00:00,  3.48it/s]"
     ]
    },
    {
     "name": "stdout",
     "output_type": "stream",
     "text": [
      "                   all        281        393      0.761      0.597       0.74      0.507\n"
     ]
    },
    {
     "name": "stderr",
     "output_type": "stream",
     "text": [
      "\n"
     ]
    },
    {
     "name": "stdout",
     "output_type": "stream",
     "text": [
      "\n",
      "      Epoch    GPU_mem   box_loss   cls_loss   dfl_loss  Instances       Size\n"
     ]
    },
    {
     "name": "stderr",
     "output_type": "stream",
     "text": [
      "       2/50      4.06G      1.426      1.603      1.662         10        640: 100%|██████████| 547/547 [03:39<00:00,  2.50it/s]\n",
      "                 Class     Images  Instances      Box(P          R      mAP50  mAP50-95): 100%|██████████| 18/18 [00:05<00:00,  3.45it/s]"
     ]
    },
    {
     "name": "stdout",
     "output_type": "stream",
     "text": [
      "                   all        281        393      0.737        0.7      0.753      0.506\n"
     ]
    },
    {
     "name": "stderr",
     "output_type": "stream",
     "text": [
      "\n"
     ]
    },
    {
     "name": "stdout",
     "output_type": "stream",
     "text": [
      "\n",
      "      Epoch    GPU_mem   box_loss   cls_loss   dfl_loss  Instances       Size\n"
     ]
    },
    {
     "name": "stderr",
     "output_type": "stream",
     "text": [
      "       3/50      4.07G      1.413       1.51      1.669         18        640: 100%|██████████| 547/547 [03:40<00:00,  2.48it/s]\n",
      "                 Class     Images  Instances      Box(P          R      mAP50  mAP50-95): 100%|██████████| 18/18 [00:05<00:00,  3.21it/s]"
     ]
    },
    {
     "name": "stdout",
     "output_type": "stream",
     "text": [
      "                   all        281        393      0.754      0.733      0.786      0.527\n"
     ]
    },
    {
     "name": "stderr",
     "output_type": "stream",
     "text": [
      "\n"
     ]
    },
    {
     "name": "stdout",
     "output_type": "stream",
     "text": [
      "\n",
      "      Epoch    GPU_mem   box_loss   cls_loss   dfl_loss  Instances       Size\n"
     ]
    },
    {
     "name": "stderr",
     "output_type": "stream",
     "text": [
      "       4/50      4.07G      1.365      1.434      1.619         14        640: 100%|██████████| 547/547 [03:38<00:00,  2.50it/s]\n",
      "                 Class     Images  Instances      Box(P          R      mAP50  mAP50-95): 100%|██████████| 18/18 [00:05<00:00,  3.43it/s]"
     ]
    },
    {
     "name": "stdout",
     "output_type": "stream",
     "text": [
      "                   all        281        393      0.838      0.768      0.832      0.571\n"
     ]
    },
    {
     "name": "stderr",
     "output_type": "stream",
     "text": [
      "\n"
     ]
    },
    {
     "name": "stdout",
     "output_type": "stream",
     "text": [
      "\n",
      "      Epoch    GPU_mem   box_loss   cls_loss   dfl_loss  Instances       Size\n"
     ]
    },
    {
     "name": "stderr",
     "output_type": "stream",
     "text": [
      "       5/50      4.07G      1.293      1.269       1.56         20        640: 100%|██████████| 547/547 [03:38<00:00,  2.51it/s]\n",
      "                 Class     Images  Instances      Box(P          R      mAP50  mAP50-95): 100%|██████████| 18/18 [00:05<00:00,  3.47it/s]"
     ]
    },
    {
     "name": "stdout",
     "output_type": "stream",
     "text": [
      "                   all        281        393      0.803      0.814       0.85      0.666\n"
     ]
    },
    {
     "name": "stderr",
     "output_type": "stream",
     "text": [
      "\n"
     ]
    },
    {
     "name": "stdout",
     "output_type": "stream",
     "text": [
      "\n",
      "      Epoch    GPU_mem   box_loss   cls_loss   dfl_loss  Instances       Size\n"
     ]
    },
    {
     "name": "stderr",
     "output_type": "stream",
     "text": [
      "       6/50      4.07G      1.234      1.165      1.522         16        640: 100%|██████████| 547/547 [03:36<00:00,  2.53it/s]\n",
      "                 Class     Images  Instances      Box(P          R      mAP50  mAP50-95): 100%|██████████| 18/18 [00:05<00:00,  3.28it/s]"
     ]
    },
    {
     "name": "stdout",
     "output_type": "stream",
     "text": [
      "                   all        281        393      0.876      0.839      0.907      0.697\n"
     ]
    },
    {
     "name": "stderr",
     "output_type": "stream",
     "text": [
      "\n"
     ]
    },
    {
     "name": "stdout",
     "output_type": "stream",
     "text": [
      "\n",
      "      Epoch    GPU_mem   box_loss   cls_loss   dfl_loss  Instances       Size\n"
     ]
    },
    {
     "name": "stderr",
     "output_type": "stream",
     "text": [
      "       7/50      4.07G      1.197      1.118      1.504          8        640: 100%|██████████| 547/547 [03:35<00:00,  2.54it/s]\n",
      "                 Class     Images  Instances      Box(P          R      mAP50  mAP50-95): 100%|██████████| 18/18 [00:05<00:00,  3.48it/s]\n"
     ]
    },
    {
     "name": "stdout",
     "output_type": "stream",
     "text": [
      "                   all        281        393      0.843       0.87        0.9      0.708\n",
      "\n",
      "      Epoch    GPU_mem   box_loss   cls_loss   dfl_loss  Instances       Size\n"
     ]
    },
    {
     "name": "stderr",
     "output_type": "stream",
     "text": [
      "       8/50      4.07G      1.157      1.048      1.468         16        640: 100%|██████████| 547/547 [03:35<00:00,  2.54it/s]\n",
      "                 Class     Images  Instances      Box(P          R      mAP50  mAP50-95): 100%|██████████| 18/18 [00:05<00:00,  3.57it/s]"
     ]
    },
    {
     "name": "stdout",
     "output_type": "stream",
     "text": [
      "                   all        281        393      0.855      0.829      0.894      0.725\n"
     ]
    },
    {
     "name": "stderr",
     "output_type": "stream",
     "text": [
      "\n"
     ]
    },
    {
     "name": "stdout",
     "output_type": "stream",
     "text": [
      "\n",
      "      Epoch    GPU_mem   box_loss   cls_loss   dfl_loss  Instances       Size\n"
     ]
    },
    {
     "name": "stderr",
     "output_type": "stream",
     "text": [
      "       9/50      4.07G      1.132      1.001      1.452         16        640: 100%|██████████| 547/547 [03:34<00:00,  2.55it/s]\n",
      "                 Class     Images  Instances      Box(P          R      mAP50  mAP50-95): 100%|██████████| 18/18 [00:05<00:00,  3.53it/s]"
     ]
    },
    {
     "name": "stdout",
     "output_type": "stream",
     "text": [
      "                   all        281        393      0.901      0.859      0.933      0.748\n"
     ]
    },
    {
     "name": "stderr",
     "output_type": "stream",
     "text": [
      "\n"
     ]
    },
    {
     "name": "stdout",
     "output_type": "stream",
     "text": [
      "\n",
      "      Epoch    GPU_mem   box_loss   cls_loss   dfl_loss  Instances       Size\n"
     ]
    },
    {
     "name": "stderr",
     "output_type": "stream",
     "text": [
      "      10/50      4.07G      1.081      0.952      1.409         19        640: 100%|██████████| 547/547 [03:35<00:00,  2.53it/s]\n",
      "                 Class     Images  Instances      Box(P          R      mAP50  mAP50-95): 100%|██████████| 18/18 [00:05<00:00,  3.44it/s]"
     ]
    },
    {
     "name": "stdout",
     "output_type": "stream",
     "text": [
      "                   all        281        393      0.858       0.89      0.894        0.7\n"
     ]
    },
    {
     "name": "stderr",
     "output_type": "stream",
     "text": [
      "\n"
     ]
    },
    {
     "name": "stdout",
     "output_type": "stream",
     "text": [
      "\n",
      "      Epoch    GPU_mem   box_loss   cls_loss   dfl_loss  Instances       Size\n"
     ]
    },
    {
     "name": "stderr",
     "output_type": "stream",
     "text": [
      "      11/50      4.07G      1.069     0.9224      1.399         15        640: 100%|██████████| 547/547 [03:35<00:00,  2.54it/s]\n",
      "                 Class     Images  Instances      Box(P          R      mAP50  mAP50-95): 100%|██████████| 18/18 [00:05<00:00,  3.54it/s]"
     ]
    },
    {
     "name": "stdout",
     "output_type": "stream",
     "text": [
      "                   all        281        393      0.866      0.927      0.947      0.788\n"
     ]
    },
    {
     "name": "stderr",
     "output_type": "stream",
     "text": [
      "\n"
     ]
    },
    {
     "name": "stdout",
     "output_type": "stream",
     "text": [
      "\n",
      "      Epoch    GPU_mem   box_loss   cls_loss   dfl_loss  Instances       Size\n"
     ]
    },
    {
     "name": "stderr",
     "output_type": "stream",
     "text": [
      "      12/50      4.07G      1.042     0.8685      1.379         12        640: 100%|██████████| 547/547 [03:35<00:00,  2.54it/s]\n",
      "                 Class     Images  Instances      Box(P          R      mAP50  mAP50-95): 100%|██████████| 18/18 [00:05<00:00,  3.48it/s]"
     ]
    },
    {
     "name": "stdout",
     "output_type": "stream",
     "text": [
      "                   all        281        393      0.911      0.858      0.931      0.764\n"
     ]
    },
    {
     "name": "stderr",
     "output_type": "stream",
     "text": [
      "\n"
     ]
    },
    {
     "name": "stdout",
     "output_type": "stream",
     "text": [
      "\n",
      "      Epoch    GPU_mem   box_loss   cls_loss   dfl_loss  Instances       Size\n"
     ]
    },
    {
     "name": "stderr",
     "output_type": "stream",
     "text": [
      "      13/50      4.07G      1.029     0.8419      1.373         13        640: 100%|██████████| 547/547 [03:35<00:00,  2.54it/s]\n",
      "                 Class     Images  Instances      Box(P          R      mAP50  mAP50-95): 100%|██████████| 18/18 [00:05<00:00,  3.46it/s]"
     ]
    },
    {
     "name": "stdout",
     "output_type": "stream",
     "text": [
      "                   all        281        393      0.922      0.931       0.95      0.784\n"
     ]
    },
    {
     "name": "stderr",
     "output_type": "stream",
     "text": [
      "\n"
     ]
    },
    {
     "name": "stdout",
     "output_type": "stream",
     "text": [
      "\n",
      "      Epoch    GPU_mem   box_loss   cls_loss   dfl_loss  Instances       Size\n"
     ]
    },
    {
     "name": "stderr",
     "output_type": "stream",
     "text": [
      "      14/50      4.07G      1.021     0.8295      1.361          8        640: 100%|██████████| 547/547 [03:35<00:00,  2.54it/s]\n",
      "                 Class     Images  Instances      Box(P          R      mAP50  mAP50-95): 100%|██████████| 18/18 [00:05<00:00,  3.49it/s]"
     ]
    },
    {
     "name": "stdout",
     "output_type": "stream",
     "text": [
      "                   all        281        393       0.94      0.863      0.947       0.78\n"
     ]
    },
    {
     "name": "stderr",
     "output_type": "stream",
     "text": [
      "\n"
     ]
    },
    {
     "name": "stdout",
     "output_type": "stream",
     "text": [
      "\n",
      "      Epoch    GPU_mem   box_loss   cls_loss   dfl_loss  Instances       Size\n"
     ]
    },
    {
     "name": "stderr",
     "output_type": "stream",
     "text": [
      "      15/50      4.07G     0.9971     0.8055      1.344         10        640: 100%|██████████| 547/547 [03:35<00:00,  2.54it/s]\n",
      "                 Class     Images  Instances      Box(P          R      mAP50  mAP50-95): 100%|██████████| 18/18 [00:05<00:00,  3.44it/s]"
     ]
    },
    {
     "name": "stdout",
     "output_type": "stream",
     "text": [
      "                   all        281        393      0.911        0.9      0.938      0.791\n"
     ]
    },
    {
     "name": "stderr",
     "output_type": "stream",
     "text": [
      "\n"
     ]
    },
    {
     "name": "stdout",
     "output_type": "stream",
     "text": [
      "\n",
      "      Epoch    GPU_mem   box_loss   cls_loss   dfl_loss  Instances       Size\n"
     ]
    },
    {
     "name": "stderr",
     "output_type": "stream",
     "text": [
      "      16/50      4.07G     0.9831     0.7959      1.329         13        640: 100%|██████████| 547/547 [03:35<00:00,  2.54it/s]\n",
      "                 Class     Images  Instances      Box(P          R      mAP50  mAP50-95): 100%|██████████| 18/18 [00:05<00:00,  3.49it/s]"
     ]
    },
    {
     "name": "stdout",
     "output_type": "stream",
     "text": [
      "                   all        281        393      0.919      0.923      0.947      0.778\n"
     ]
    },
    {
     "name": "stderr",
     "output_type": "stream",
     "text": [
      "\n"
     ]
    },
    {
     "name": "stdout",
     "output_type": "stream",
     "text": [
      "\n",
      "      Epoch    GPU_mem   box_loss   cls_loss   dfl_loss  Instances       Size\n"
     ]
    },
    {
     "name": "stderr",
     "output_type": "stream",
     "text": [
      "      17/50      4.07G     0.9688     0.7724      1.323         14        640: 100%|██████████| 547/547 [03:35<00:00,  2.54it/s]\n",
      "                 Class     Images  Instances      Box(P          R      mAP50  mAP50-95): 100%|██████████| 18/18 [00:05<00:00,  3.52it/s]"
     ]
    },
    {
     "name": "stdout",
     "output_type": "stream",
     "text": [
      "                   all        281        393      0.919      0.946      0.962      0.812\n"
     ]
    },
    {
     "name": "stderr",
     "output_type": "stream",
     "text": [
      "\n"
     ]
    },
    {
     "name": "stdout",
     "output_type": "stream",
     "text": [
      "\n",
      "      Epoch    GPU_mem   box_loss   cls_loss   dfl_loss  Instances       Size\n"
     ]
    },
    {
     "name": "stderr",
     "output_type": "stream",
     "text": [
      "      18/50      4.07G     0.9551     0.7472      1.307         16        640: 100%|██████████| 547/547 [03:38<00:00,  2.50it/s]\n",
      "                 Class     Images  Instances      Box(P          R      mAP50  mAP50-95): 100%|██████████| 18/18 [00:05<00:00,  3.42it/s]"
     ]
    },
    {
     "name": "stdout",
     "output_type": "stream",
     "text": [
      "                   all        281        393      0.878      0.938      0.937      0.778\n"
     ]
    },
    {
     "name": "stderr",
     "output_type": "stream",
     "text": [
      "\n"
     ]
    },
    {
     "name": "stdout",
     "output_type": "stream",
     "text": [
      "\n",
      "      Epoch    GPU_mem   box_loss   cls_loss   dfl_loss  Instances       Size\n"
     ]
    },
    {
     "name": "stderr",
     "output_type": "stream",
     "text": [
      "      19/50      4.07G     0.9315     0.7388      1.295         13        640: 100%|██████████| 547/547 [03:35<00:00,  2.53it/s]\n",
      "                 Class     Images  Instances      Box(P          R      mAP50  mAP50-95): 100%|██████████| 18/18 [00:05<00:00,  3.52it/s]"
     ]
    },
    {
     "name": "stdout",
     "output_type": "stream",
     "text": [
      "                   all        281        393      0.912      0.939      0.961      0.816\n"
     ]
    },
    {
     "name": "stderr",
     "output_type": "stream",
     "text": [
      "\n"
     ]
    },
    {
     "name": "stdout",
     "output_type": "stream",
     "text": [
      "\n",
      "      Epoch    GPU_mem   box_loss   cls_loss   dfl_loss  Instances       Size\n"
     ]
    },
    {
     "name": "stderr",
     "output_type": "stream",
     "text": [
      "      20/50      4.07G     0.9218     0.7133      1.294         17        640: 100%|██████████| 547/547 [03:35<00:00,  2.54it/s]\n",
      "                 Class     Images  Instances      Box(P          R      mAP50  mAP50-95): 100%|██████████| 18/18 [00:05<00:00,  3.54it/s]"
     ]
    },
    {
     "name": "stdout",
     "output_type": "stream",
     "text": [
      "                   all        281        393      0.912      0.921       0.95      0.805\n"
     ]
    },
    {
     "name": "stderr",
     "output_type": "stream",
     "text": [
      "\n"
     ]
    },
    {
     "name": "stdout",
     "output_type": "stream",
     "text": [
      "\n",
      "      Epoch    GPU_mem   box_loss   cls_loss   dfl_loss  Instances       Size\n"
     ]
    },
    {
     "name": "stderr",
     "output_type": "stream",
     "text": [
      "      21/50      4.07G     0.9017     0.6839      1.277         13        640: 100%|██████████| 547/547 [03:35<00:00,  2.54it/s]\n",
      "                 Class     Images  Instances      Box(P          R      mAP50  mAP50-95): 100%|██████████| 18/18 [00:05<00:00,  3.43it/s]"
     ]
    },
    {
     "name": "stdout",
     "output_type": "stream",
     "text": [
      "                   all        281        393      0.916      0.943      0.962      0.821\n"
     ]
    },
    {
     "name": "stderr",
     "output_type": "stream",
     "text": [
      "\n"
     ]
    },
    {
     "name": "stdout",
     "output_type": "stream",
     "text": [
      "\n",
      "      Epoch    GPU_mem   box_loss   cls_loss   dfl_loss  Instances       Size\n"
     ]
    },
    {
     "name": "stderr",
     "output_type": "stream",
     "text": [
      "      22/50      4.07G     0.8951     0.6788      1.268         12        640: 100%|██████████| 547/547 [03:35<00:00,  2.54it/s]\n",
      "                 Class     Images  Instances      Box(P          R      mAP50  mAP50-95): 100%|██████████| 18/18 [00:05<00:00,  3.52it/s]"
     ]
    },
    {
     "name": "stdout",
     "output_type": "stream",
     "text": [
      "                   all        281        393       0.91      0.941      0.958      0.824\n"
     ]
    },
    {
     "name": "stderr",
     "output_type": "stream",
     "text": [
      "\n"
     ]
    },
    {
     "name": "stdout",
     "output_type": "stream",
     "text": [
      "\n",
      "      Epoch    GPU_mem   box_loss   cls_loss   dfl_loss  Instances       Size\n"
     ]
    },
    {
     "name": "stderr",
     "output_type": "stream",
     "text": [
      "      23/50      4.07G     0.8961     0.6881       1.27         18        640: 100%|██████████| 547/547 [03:35<00:00,  2.54it/s]\n",
      "                 Class     Images  Instances      Box(P          R      mAP50  mAP50-95): 100%|██████████| 18/18 [00:05<00:00,  3.49it/s]"
     ]
    },
    {
     "name": "stdout",
     "output_type": "stream",
     "text": [
      "                   all        281        393      0.885       0.97       0.96       0.83\n"
     ]
    },
    {
     "name": "stderr",
     "output_type": "stream",
     "text": [
      "\n"
     ]
    },
    {
     "name": "stdout",
     "output_type": "stream",
     "text": [
      "\n",
      "      Epoch    GPU_mem   box_loss   cls_loss   dfl_loss  Instances       Size\n"
     ]
    },
    {
     "name": "stderr",
     "output_type": "stream",
     "text": [
      "      24/50      4.07G     0.8748      0.661      1.258         18        640: 100%|██████████| 547/547 [03:35<00:00,  2.54it/s]\n",
      "                 Class     Images  Instances      Box(P          R      mAP50  mAP50-95): 100%|██████████| 18/18 [00:05<00:00,  3.47it/s]"
     ]
    },
    {
     "name": "stdout",
     "output_type": "stream",
     "text": [
      "                   all        281        393      0.915      0.941      0.967      0.842\n"
     ]
    },
    {
     "name": "stderr",
     "output_type": "stream",
     "text": [
      "\n"
     ]
    },
    {
     "name": "stdout",
     "output_type": "stream",
     "text": [
      "\n",
      "      Epoch    GPU_mem   box_loss   cls_loss   dfl_loss  Instances       Size\n"
     ]
    },
    {
     "name": "stderr",
     "output_type": "stream",
     "text": [
      "      25/50      4.07G     0.8689     0.6507      1.254         11        640: 100%|██████████| 547/547 [03:35<00:00,  2.54it/s]\n",
      "                 Class     Images  Instances      Box(P          R      mAP50  mAP50-95): 100%|██████████| 18/18 [00:05<00:00,  3.45it/s]"
     ]
    },
    {
     "name": "stdout",
     "output_type": "stream",
     "text": [
      "                   all        281        393      0.913      0.928      0.955      0.818\n"
     ]
    },
    {
     "name": "stderr",
     "output_type": "stream",
     "text": [
      "\n"
     ]
    },
    {
     "name": "stdout",
     "output_type": "stream",
     "text": [
      "\n",
      "      Epoch    GPU_mem   box_loss   cls_loss   dfl_loss  Instances       Size\n"
     ]
    },
    {
     "name": "stderr",
     "output_type": "stream",
     "text": [
      "      26/50      4.07G      0.854     0.6326      1.242          9        640: 100%|██████████| 547/547 [03:35<00:00,  2.54it/s]\n",
      "                 Class     Images  Instances      Box(P          R      mAP50  mAP50-95): 100%|██████████| 18/18 [00:05<00:00,  3.49it/s]\n"
     ]
    },
    {
     "name": "stdout",
     "output_type": "stream",
     "text": [
      "                   all        281        393      0.883      0.952      0.951      0.821\n",
      "\n",
      "      Epoch    GPU_mem   box_loss   cls_loss   dfl_loss  Instances       Size\n"
     ]
    },
    {
     "name": "stderr",
     "output_type": "stream",
     "text": [
      "      27/50      4.07G     0.8395     0.6182      1.231          6        640: 100%|██████████| 547/547 [03:35<00:00,  2.54it/s]\n",
      "                 Class     Images  Instances      Box(P          R      mAP50  mAP50-95): 100%|██████████| 18/18 [00:05<00:00,  3.55it/s]"
     ]
    },
    {
     "name": "stdout",
     "output_type": "stream",
     "text": [
      "                   all        281        393      0.912      0.928      0.944      0.812\n"
     ]
    },
    {
     "name": "stderr",
     "output_type": "stream",
     "text": [
      "\n"
     ]
    },
    {
     "name": "stdout",
     "output_type": "stream",
     "text": [
      "\n",
      "      Epoch    GPU_mem   box_loss   cls_loss   dfl_loss  Instances       Size\n"
     ]
    },
    {
     "name": "stderr",
     "output_type": "stream",
     "text": [
      "      28/50      4.07G     0.8413     0.6178      1.233         17        640: 100%|██████████| 547/547 [03:36<00:00,  2.53it/s]\n",
      "                 Class     Images  Instances      Box(P          R      mAP50  mAP50-95): 100%|██████████| 18/18 [00:05<00:00,  3.51it/s]"
     ]
    },
    {
     "name": "stdout",
     "output_type": "stream",
     "text": [
      "                   all        281        393      0.889      0.948      0.955      0.833\n"
     ]
    },
    {
     "name": "stderr",
     "output_type": "stream",
     "text": [
      "\n"
     ]
    },
    {
     "name": "stdout",
     "output_type": "stream",
     "text": [
      "\n",
      "      Epoch    GPU_mem   box_loss   cls_loss   dfl_loss  Instances       Size\n"
     ]
    },
    {
     "name": "stderr",
     "output_type": "stream",
     "text": [
      "      29/50      4.07G     0.8298     0.6076      1.228         22        640: 100%|██████████| 547/547 [03:35<00:00,  2.54it/s]\n",
      "                 Class     Images  Instances      Box(P          R      mAP50  mAP50-95): 100%|██████████| 18/18 [00:05<00:00,  3.25it/s]"
     ]
    },
    {
     "name": "stdout",
     "output_type": "stream",
     "text": [
      "                   all        281        393      0.932      0.927      0.964      0.838\n"
     ]
    },
    {
     "name": "stderr",
     "output_type": "stream",
     "text": [
      "\n"
     ]
    },
    {
     "name": "stdout",
     "output_type": "stream",
     "text": [
      "\n",
      "      Epoch    GPU_mem   box_loss   cls_loss   dfl_loss  Instances       Size\n"
     ]
    },
    {
     "name": "stderr",
     "output_type": "stream",
     "text": [
      "      30/50      4.07G     0.8223     0.6015       1.22         19        640: 100%|██████████| 547/547 [03:36<00:00,  2.53it/s]\n",
      "                 Class     Images  Instances      Box(P          R      mAP50  mAP50-95): 100%|██████████| 18/18 [00:05<00:00,  3.51it/s]"
     ]
    },
    {
     "name": "stdout",
     "output_type": "stream",
     "text": [
      "                   all        281        393      0.929      0.939      0.958      0.837\n"
     ]
    },
    {
     "name": "stderr",
     "output_type": "stream",
     "text": [
      "\n"
     ]
    },
    {
     "name": "stdout",
     "output_type": "stream",
     "text": [
      "\n",
      "      Epoch    GPU_mem   box_loss   cls_loss   dfl_loss  Instances       Size\n"
     ]
    },
    {
     "name": "stderr",
     "output_type": "stream",
     "text": [
      "      31/50      4.07G     0.8114     0.5849      1.211         14        640: 100%|██████████| 547/547 [03:36<00:00,  2.53it/s]\n",
      "                 Class     Images  Instances      Box(P          R      mAP50  mAP50-95): 100%|██████████| 18/18 [00:05<00:00,  3.51it/s]"
     ]
    },
    {
     "name": "stdout",
     "output_type": "stream",
     "text": [
      "                   all        281        393      0.932      0.938      0.964      0.835\n"
     ]
    },
    {
     "name": "stderr",
     "output_type": "stream",
     "text": [
      "\n"
     ]
    },
    {
     "name": "stdout",
     "output_type": "stream",
     "text": [
      "\n",
      "      Epoch    GPU_mem   box_loss   cls_loss   dfl_loss  Instances       Size\n"
     ]
    },
    {
     "name": "stderr",
     "output_type": "stream",
     "text": [
      "      32/50      4.07G     0.8065     0.5784      1.211         19        640: 100%|██████████| 547/547 [03:36<00:00,  2.53it/s]\n",
      "                 Class     Images  Instances      Box(P          R      mAP50  mAP50-95): 100%|██████████| 18/18 [00:05<00:00,  3.44it/s]"
     ]
    },
    {
     "name": "stdout",
     "output_type": "stream",
     "text": [
      "                   all        281        393      0.942      0.948      0.973      0.851\n"
     ]
    },
    {
     "name": "stderr",
     "output_type": "stream",
     "text": [
      "\n"
     ]
    },
    {
     "name": "stdout",
     "output_type": "stream",
     "text": [
      "\n",
      "      Epoch    GPU_mem   box_loss   cls_loss   dfl_loss  Instances       Size\n"
     ]
    },
    {
     "name": "stderr",
     "output_type": "stream",
     "text": [
      "      33/50      4.07G     0.8031     0.5763      1.212         17        640: 100%|██████████| 547/547 [03:35<00:00,  2.54it/s]\n",
      "                 Class     Images  Instances      Box(P          R      mAP50  mAP50-95): 100%|██████████| 18/18 [00:05<00:00,  3.52it/s]"
     ]
    },
    {
     "name": "stdout",
     "output_type": "stream",
     "text": [
      "                   all        281        393      0.934      0.928      0.963      0.839\n"
     ]
    },
    {
     "name": "stderr",
     "output_type": "stream",
     "text": [
      "\n"
     ]
    },
    {
     "name": "stdout",
     "output_type": "stream",
     "text": [
      "\n",
      "      Epoch    GPU_mem   box_loss   cls_loss   dfl_loss  Instances       Size\n"
     ]
    },
    {
     "name": "stderr",
     "output_type": "stream",
     "text": [
      "      34/50      4.07G       0.78     0.5593       1.19         15        640: 100%|██████████| 547/547 [03:35<00:00,  2.54it/s]\n",
      "                 Class     Images  Instances      Box(P          R      mAP50  mAP50-95): 100%|██████████| 18/18 [00:05<00:00,  3.52it/s]"
     ]
    },
    {
     "name": "stdout",
     "output_type": "stream",
     "text": [
      "                   all        281        393      0.935       0.93      0.959      0.833\n"
     ]
    },
    {
     "name": "stderr",
     "output_type": "stream",
     "text": [
      "\n"
     ]
    },
    {
     "name": "stdout",
     "output_type": "stream",
     "text": [
      "\n",
      "      Epoch    GPU_mem   box_loss   cls_loss   dfl_loss  Instances       Size\n"
     ]
    },
    {
     "name": "stderr",
     "output_type": "stream",
     "text": [
      "      35/50      4.07G     0.7645     0.5367       1.18         33        640: 100%|██████████| 547/547 [03:36<00:00,  2.53it/s]\n",
      "                 Class     Images  Instances      Box(P          R      mAP50  mAP50-95): 100%|██████████| 18/18 [00:05<00:00,  3.56it/s]"
     ]
    },
    {
     "name": "stdout",
     "output_type": "stream",
     "text": [
      "                   all        281        393      0.935      0.943      0.962      0.844\n"
     ]
    },
    {
     "name": "stderr",
     "output_type": "stream",
     "text": [
      "\n"
     ]
    },
    {
     "name": "stdout",
     "output_type": "stream",
     "text": [
      "\n",
      "      Epoch    GPU_mem   box_loss   cls_loss   dfl_loss  Instances       Size\n"
     ]
    },
    {
     "name": "stderr",
     "output_type": "stream",
     "text": [
      "      36/50      4.07G     0.7645     0.5337      1.186         17        640: 100%|██████████| 547/547 [03:35<00:00,  2.53it/s]\n",
      "                 Class     Images  Instances      Box(P          R      mAP50  mAP50-95): 100%|██████████| 18/18 [00:05<00:00,  3.48it/s]"
     ]
    },
    {
     "name": "stdout",
     "output_type": "stream",
     "text": [
      "                   all        281        393      0.938      0.934      0.969      0.845\n"
     ]
    },
    {
     "name": "stderr",
     "output_type": "stream",
     "text": [
      "\n"
     ]
    },
    {
     "name": "stdout",
     "output_type": "stream",
     "text": [
      "\n",
      "      Epoch    GPU_mem   box_loss   cls_loss   dfl_loss  Instances       Size\n"
     ]
    },
    {
     "name": "stderr",
     "output_type": "stream",
     "text": [
      "      37/50      4.07G     0.7619     0.5307      1.185         18        640: 100%|██████████| 547/547 [03:35<00:00,  2.54it/s]\n",
      "                 Class     Images  Instances      Box(P          R      mAP50  mAP50-95): 100%|██████████| 18/18 [00:05<00:00,  3.47it/s]"
     ]
    },
    {
     "name": "stdout",
     "output_type": "stream",
     "text": [
      "                   all        281        393       0.91      0.954      0.969      0.853\n"
     ]
    },
    {
     "name": "stderr",
     "output_type": "stream",
     "text": [
      "\n"
     ]
    },
    {
     "name": "stdout",
     "output_type": "stream",
     "text": [
      "\n",
      "      Epoch    GPU_mem   box_loss   cls_loss   dfl_loss  Instances       Size\n"
     ]
    },
    {
     "name": "stderr",
     "output_type": "stream",
     "text": [
      "      38/50      4.07G     0.7424     0.5193      1.164         22        640: 100%|██████████| 547/547 [03:35<00:00,  2.54it/s]\n",
      "                 Class     Images  Instances      Box(P          R      mAP50  mAP50-95): 100%|██████████| 18/18 [00:05<00:00,  3.45it/s]"
     ]
    },
    {
     "name": "stdout",
     "output_type": "stream",
     "text": [
      "                   all        281        393      0.927      0.955      0.962       0.84\n"
     ]
    },
    {
     "name": "stderr",
     "output_type": "stream",
     "text": [
      "\n"
     ]
    },
    {
     "name": "stdout",
     "output_type": "stream",
     "text": [
      "\n",
      "      Epoch    GPU_mem   box_loss   cls_loss   dfl_loss  Instances       Size\n"
     ]
    },
    {
     "name": "stderr",
     "output_type": "stream",
     "text": [
      "      39/50      4.07G     0.7382     0.5231      1.168         18        640: 100%|██████████| 547/547 [03:35<00:00,  2.54it/s]\n",
      "                 Class     Images  Instances      Box(P          R      mAP50  mAP50-95): 100%|██████████| 18/18 [00:05<00:00,  3.45it/s]"
     ]
    },
    {
     "name": "stdout",
     "output_type": "stream",
     "text": [
      "                   all        281        393      0.926      0.958       0.97      0.845\n"
     ]
    },
    {
     "name": "stderr",
     "output_type": "stream",
     "text": [
      "\n"
     ]
    },
    {
     "name": "stdout",
     "output_type": "stream",
     "text": [
      "\n",
      "      Epoch    GPU_mem   box_loss   cls_loss   dfl_loss  Instances       Size\n"
     ]
    },
    {
     "name": "stderr",
     "output_type": "stream",
     "text": [
      "      40/50      4.07G     0.7376      0.508      1.166         20        640: 100%|██████████| 547/547 [03:35<00:00,  2.54it/s]\n",
      "                 Class     Images  Instances      Box(P          R      mAP50  mAP50-95): 100%|██████████| 18/18 [00:04<00:00,  3.64it/s]"
     ]
    },
    {
     "name": "stdout",
     "output_type": "stream",
     "text": [
      "                   all        281        393      0.916      0.957      0.973      0.858\n"
     ]
    },
    {
     "name": "stderr",
     "output_type": "stream",
     "text": [
      "\n"
     ]
    },
    {
     "name": "stdout",
     "output_type": "stream",
     "text": [
      "Closing dataloader mosaic\n",
      "\n",
      "      Epoch    GPU_mem   box_loss   cls_loss   dfl_loss  Instances       Size\n"
     ]
    },
    {
     "name": "stderr",
     "output_type": "stream",
     "text": [
      "      41/50      4.07G     0.6667     0.3501      1.119          7        640: 100%|██████████| 547/547 [03:38<00:00,  2.51it/s]\n",
      "                 Class     Images  Instances      Box(P          R      mAP50  mAP50-95): 100%|██████████| 18/18 [00:05<00:00,  3.37it/s]"
     ]
    },
    {
     "name": "stdout",
     "output_type": "stream",
     "text": [
      "                   all        281        393       0.92       0.95       0.97      0.859\n"
     ]
    },
    {
     "name": "stderr",
     "output_type": "stream",
     "text": [
      "\n"
     ]
    },
    {
     "name": "stdout",
     "output_type": "stream",
     "text": [
      "\n",
      "      Epoch    GPU_mem   box_loss   cls_loss   dfl_loss  Instances       Size\n"
     ]
    },
    {
     "name": "stderr",
     "output_type": "stream",
     "text": [
      "      42/50      4.07G     0.6329     0.3309      1.088          8        640: 100%|██████████| 547/547 [03:35<00:00,  2.54it/s]\n",
      "                 Class     Images  Instances      Box(P          R      mAP50  mAP50-95): 100%|██████████| 18/18 [00:05<00:00,  3.51it/s]"
     ]
    },
    {
     "name": "stdout",
     "output_type": "stream",
     "text": [
      "                   all        281        393      0.943      0.946      0.974      0.859\n"
     ]
    },
    {
     "name": "stderr",
     "output_type": "stream",
     "text": [
      "\n"
     ]
    },
    {
     "name": "stdout",
     "output_type": "stream",
     "text": [
      "\n",
      "      Epoch    GPU_mem   box_loss   cls_loss   dfl_loss  Instances       Size\n"
     ]
    },
    {
     "name": "stderr",
     "output_type": "stream",
     "text": [
      "      43/50      4.07G     0.6136     0.3179      1.081         10        640: 100%|██████████| 547/547 [03:34<00:00,  2.55it/s]\n",
      "                 Class     Images  Instances      Box(P          R      mAP50  mAP50-95): 100%|██████████| 18/18 [00:05<00:00,  3.53it/s]"
     ]
    },
    {
     "name": "stdout",
     "output_type": "stream",
     "text": [
      "                   all        281        393      0.914      0.961      0.971      0.852\n"
     ]
    },
    {
     "name": "stderr",
     "output_type": "stream",
     "text": [
      "\n"
     ]
    },
    {
     "name": "stdout",
     "output_type": "stream",
     "text": [
      "\n",
      "      Epoch    GPU_mem   box_loss   cls_loss   dfl_loss  Instances       Size\n"
     ]
    },
    {
     "name": "stderr",
     "output_type": "stream",
     "text": [
      "      44/50      4.07G     0.5972     0.3142      1.067          8        640: 100%|██████████| 547/547 [03:34<00:00,  2.55it/s]\n",
      "                 Class     Images  Instances      Box(P          R      mAP50  mAP50-95): 100%|██████████| 18/18 [00:05<00:00,  3.50it/s]"
     ]
    },
    {
     "name": "stdout",
     "output_type": "stream",
     "text": [
      "                   all        281        393      0.929      0.943       0.97      0.859\n"
     ]
    },
    {
     "name": "stderr",
     "output_type": "stream",
     "text": [
      "\n"
     ]
    },
    {
     "name": "stdout",
     "output_type": "stream",
     "text": [
      "\n",
      "      Epoch    GPU_mem   box_loss   cls_loss   dfl_loss  Instances       Size\n"
     ]
    },
    {
     "name": "stderr",
     "output_type": "stream",
     "text": [
      "      45/50      4.07G     0.5866     0.3061      1.065          9        640: 100%|██████████| 547/547 [03:34<00:00,  2.55it/s]\n",
      "                 Class     Images  Instances      Box(P          R      mAP50  mAP50-95): 100%|██████████| 18/18 [00:05<00:00,  3.55it/s]"
     ]
    },
    {
     "name": "stdout",
     "output_type": "stream",
     "text": [
      "                   all        281        393      0.943      0.933       0.97      0.854\n"
     ]
    },
    {
     "name": "stderr",
     "output_type": "stream",
     "text": [
      "\n"
     ]
    },
    {
     "name": "stdout",
     "output_type": "stream",
     "text": [
      "\n",
      "      Epoch    GPU_mem   box_loss   cls_loss   dfl_loss  Instances       Size\n"
     ]
    },
    {
     "name": "stderr",
     "output_type": "stream",
     "text": [
      "      46/50      4.07G     0.5708     0.2953      1.049          8        640: 100%|██████████| 547/547 [03:34<00:00,  2.55it/s]\n",
      "                 Class     Images  Instances      Box(P          R      mAP50  mAP50-95): 100%|██████████| 18/18 [00:05<00:00,  3.53it/s]"
     ]
    },
    {
     "name": "stdout",
     "output_type": "stream",
     "text": [
      "                   all        281        393      0.934      0.962      0.974      0.863\n"
     ]
    },
    {
     "name": "stderr",
     "output_type": "stream",
     "text": [
      "\n"
     ]
    },
    {
     "name": "stdout",
     "output_type": "stream",
     "text": [
      "\n",
      "      Epoch    GPU_mem   box_loss   cls_loss   dfl_loss  Instances       Size\n"
     ]
    },
    {
     "name": "stderr",
     "output_type": "stream",
     "text": [
      "      47/50      4.07G     0.5736     0.2937      1.055          7        640: 100%|██████████| 547/547 [03:34<00:00,  2.55it/s]\n",
      "                 Class     Images  Instances      Box(P          R      mAP50  mAP50-95): 100%|██████████| 18/18 [00:05<00:00,  3.46it/s]"
     ]
    },
    {
     "name": "stdout",
     "output_type": "stream",
     "text": [
      "                   all        281        393      0.943      0.944      0.976      0.866\n"
     ]
    },
    {
     "name": "stderr",
     "output_type": "stream",
     "text": [
      "\n"
     ]
    },
    {
     "name": "stdout",
     "output_type": "stream",
     "text": [
      "\n",
      "      Epoch    GPU_mem   box_loss   cls_loss   dfl_loss  Instances       Size\n"
     ]
    },
    {
     "name": "stderr",
     "output_type": "stream",
     "text": [
      "      48/50      4.07G     0.5591     0.2899      1.045          9        640: 100%|██████████| 547/547 [03:35<00:00,  2.54it/s]\n",
      "                 Class     Images  Instances      Box(P          R      mAP50  mAP50-95): 100%|██████████| 18/18 [00:04<00:00,  3.63it/s]"
     ]
    },
    {
     "name": "stdout",
     "output_type": "stream",
     "text": [
      "                   all        281        393      0.954      0.943      0.977      0.863\n"
     ]
    },
    {
     "name": "stderr",
     "output_type": "stream",
     "text": [
      "\n"
     ]
    },
    {
     "name": "stdout",
     "output_type": "stream",
     "text": [
      "\n",
      "      Epoch    GPU_mem   box_loss   cls_loss   dfl_loss  Instances       Size\n"
     ]
    },
    {
     "name": "stderr",
     "output_type": "stream",
     "text": [
      "      49/50      4.07G     0.5508     0.2831      1.039          8        640: 100%|██████████| 547/547 [03:35<00:00,  2.54it/s]\n",
      "                 Class     Images  Instances      Box(P          R      mAP50  mAP50-95): 100%|██████████| 18/18 [00:04<00:00,  3.67it/s]"
     ]
    },
    {
     "name": "stdout",
     "output_type": "stream",
     "text": [
      "                   all        281        393      0.955      0.944      0.974      0.864\n"
     ]
    },
    {
     "name": "stderr",
     "output_type": "stream",
     "text": [
      "\n"
     ]
    },
    {
     "name": "stdout",
     "output_type": "stream",
     "text": [
      "\n",
      "      Epoch    GPU_mem   box_loss   cls_loss   dfl_loss  Instances       Size\n"
     ]
    },
    {
     "name": "stderr",
     "output_type": "stream",
     "text": [
      "      50/50      4.07G     0.5336     0.2777      1.028          9        640: 100%|██████████| 547/547 [03:35<00:00,  2.54it/s]\n",
      "                 Class     Images  Instances      Box(P          R      mAP50  mAP50-95): 100%|██████████| 18/18 [00:05<00:00,  3.52it/s]"
     ]
    },
    {
     "name": "stdout",
     "output_type": "stream",
     "text": [
      "                   all        281        393      0.931      0.964      0.973      0.863\n"
     ]
    },
    {
     "name": "stderr",
     "output_type": "stream",
     "text": [
      "\n"
     ]
    },
    {
     "name": "stdout",
     "output_type": "stream",
     "text": [
      "\n",
      "50 epochs completed in 3.477 hours.\n",
      "Optimizer stripped from runs\\detect\\yolov8m_custom\\weights\\last.pt, 52.0MB\n",
      "Optimizer stripped from runs\\detect\\yolov8m_custom\\weights\\best.pt, 52.0MB\n",
      "\n",
      "Validating runs\\detect\\yolov8m_custom\\weights\\best.pt...\n",
      "Ultralytics 8.3.99  Python-3.11.11 torch-2.0.1 CUDA:0 (NVIDIA GeForce RTX 3060 Laptop GPU, 6144MiB)\n",
      "Model summary (fused): 92 layers, 25,844,392 parameters, 0 gradients, 78.7 GFLOPs\n"
     ]
    },
    {
     "name": "stderr",
     "output_type": "stream",
     "text": [
      "                 Class     Images  Instances      Box(P          R      mAP50  mAP50-95): 100%|██████████| 18/18 [00:05<00:00,  3.18it/s]\n"
     ]
    },
    {
     "name": "stdout",
     "output_type": "stream",
     "text": [
      "                   all        281        393      0.942      0.944      0.977      0.867\n",
      "              cockatoo         61         65      0.953      0.932      0.984      0.875\n",
      "             crocodile         75         77      0.996      0.961      0.973      0.935\n",
      "                  frog         41         41      0.922          1      0.995       0.92\n",
      "              kangaroo        100        100       0.98      0.984      0.993      0.904\n",
      "                 koala         18         18      0.806      0.944      0.965      0.843\n",
      "              platypus         51         51      0.941      0.946      0.967      0.875\n",
      "       tasmanian devil         22         22          1      0.931      0.992      0.814\n",
      "                wombat         18         19      0.942      0.853      0.945      0.772\n",
      "Speed: 0.4ms preprocess, 14.8ms inference, 0.0ms loss, 1.0ms postprocess per image\n",
      "Results saved to \u001b[1mruns\\detect\\yolov8m_custom\u001b[0m\n"
     ]
    }
   ],
   "source": [
    "# training - adjust epochs as needed, and can reduce batch size if you get oom errors\n",
    "\n",
    "from ultralytics import YOLO\n",
    "#!yolo detect train data=C:/Users/ishaa/Desktop/AI_Testing_Ground/Model_Training/ECE4191/datasets/animal-classification-lfjqm-1/data.yaml model=yolov8m.pt imgsz=640 epochs=100 batch=16\n",
    "\n",
    "model = YOLO(\"yolov8m.pt\")\n",
    "\n",
    "# Train\n",
    "results = model.train(\n",
    "    data=\"C:/Users/ishaa/Desktop/AI_Testing_Ground/Model_Training/ECE4191/datasets/animal-classification-lfjqm-1/data.yaml\",\n",
    "    epochs=50,          # adjust as needed\n",
    "    imgsz=640,\n",
    "    batch=8,           # tune for your GPU\n",
    "    device=0,           # GPU index, or 'cpu'\n",
    "    name=\"yolov8m_custom\"\n",
    ")\n"
   ]
  },
  {
   "cell_type": "code",
   "execution_count": 28,
   "id": "7eebfa5f",
   "metadata": {},
   "outputs": [],
   "source": [
    "# test on test set\n",
    "#!yolo task=detect mode=predict \\\n",
    "#model=\"runs/detect/train/weights/best.pt\" \\\n",
    "#conf=0.25 \\\n",
    "#source=\"animal-classification-lfjqm-1/test/images\" \\\n",
    "#save \\\n",
    "#project=\"runs/detect\" \\\n",
    "#name=\"predictions\"\n"
   ]
  },
  {
   "cell_type": "code",
   "execution_count": 29,
   "id": "793da514",
   "metadata": {},
   "outputs": [],
   "source": [
    "# optional: some eval metrics\n",
    "#!yolo detect val model=\"runs/detect/train/weights/best.pt\" data=\"animal-classification-lfjqm-1/data.yaml\""
   ]
  },
  {
   "cell_type": "code",
   "execution_count": 30,
   "id": "58dd129d",
   "metadata": {},
   "outputs": [
    {
     "name": "stdout",
     "output_type": "stream",
     "text": [
      "Ultralytics 8.3.99  Python-3.11.11 torch-2.0.1 CUDA:0 (NVIDIA GeForce RTX 3060 Laptop GPU, 6144MiB)\n",
      "Model summary (fused): 92 layers, 25,844,392 parameters, 0 gradients, 78.7 GFLOPs\n"
     ]
    },
    {
     "name": "stderr",
     "output_type": "stream",
     "text": [
      "\u001b[34m\u001b[1mval: \u001b[0mScanning C:\\Users\\ishaa\\Desktop\\AI_Testing_Ground\\Model_Training\\ECE4191\\datasets\\animal-classification-lfjqm-1\\valid\\labels.cache... 281 images, 6 backgrounds, 0 corrupt: 100%|██████████| 281/281 [00:00<?, ?it/s]\n",
      "                 Class     Images  Instances      Box(P          R      mAP50  mAP50-95): 100%|██████████| 36/36 [00:08<00:00,  4.16it/s]\n"
     ]
    },
    {
     "name": "stdout",
     "output_type": "stream",
     "text": [
      "                   all        281        393      0.942      0.945      0.976      0.867\n",
      "              cockatoo         61         65      0.953      0.935      0.984      0.875\n",
      "             crocodile         75         77      0.996      0.961      0.973      0.936\n",
      "                  frog         41         41      0.922          1      0.995      0.931\n",
      "              kangaroo        100        100       0.98      0.985      0.993      0.906\n",
      "                 koala         18         18      0.802      0.944      0.965      0.823\n",
      "              platypus         51         51      0.941      0.947      0.967      0.875\n",
      "       tasmanian devil         22         22          1      0.932      0.992      0.815\n",
      "                wombat         18         19      0.942      0.855      0.942      0.779\n",
      "Speed: 0.5ms preprocess, 25.8ms inference, 0.0ms loss, 1.2ms postprocess per image\n",
      "Results saved to \u001b[1mruns\\detect\\yolov8m_custom2\u001b[0m\n",
      "ultralytics.utils.metrics.DetMetrics object with attributes:\n",
      "\n",
      "ap_class_index: array([0, 1, 2, 3, 4, 5, 6, 7])\n",
      "box: ultralytics.utils.metrics.Metric object\n",
      "confusion_matrix: <ultralytics.utils.metrics.ConfusionMatrix object at 0x000002582EF6BF90>\n",
      "curves: ['Precision-Recall(B)', 'F1-Confidence(B)', 'Precision-Confidence(B)', 'Recall-Confidence(B)']\n",
      "curves_results: [[array([          0,    0.001001,    0.002002,    0.003003,    0.004004,    0.005005,    0.006006,    0.007007,    0.008008,    0.009009,     0.01001,    0.011011,    0.012012,    0.013013,    0.014014,    0.015015,    0.016016,    0.017017,    0.018018,    0.019019,     0.02002,    0.021021,    0.022022,    0.023023,\n",
      "          0.024024,    0.025025,    0.026026,    0.027027,    0.028028,    0.029029,     0.03003,    0.031031,    0.032032,    0.033033,    0.034034,    0.035035,    0.036036,    0.037037,    0.038038,    0.039039,     0.04004,    0.041041,    0.042042,    0.043043,    0.044044,    0.045045,    0.046046,    0.047047,\n",
      "          0.048048,    0.049049,     0.05005,    0.051051,    0.052052,    0.053053,    0.054054,    0.055055,    0.056056,    0.057057,    0.058058,    0.059059,     0.06006,    0.061061,    0.062062,    0.063063,    0.064064,    0.065065,    0.066066,    0.067067,    0.068068,    0.069069,     0.07007,    0.071071,\n",
      "          0.072072,    0.073073,    0.074074,    0.075075,    0.076076,    0.077077,    0.078078,    0.079079,     0.08008,    0.081081,    0.082082,    0.083083,    0.084084,    0.085085,    0.086086,    0.087087,    0.088088,    0.089089,     0.09009,    0.091091,    0.092092,    0.093093,    0.094094,    0.095095,\n",
      "          0.096096,    0.097097,    0.098098,    0.099099,      0.1001,      0.1011,      0.1021,      0.1031,      0.1041,     0.10511,     0.10611,     0.10711,     0.10811,     0.10911,     0.11011,     0.11111,     0.11211,     0.11311,     0.11411,     0.11512,     0.11612,     0.11712,     0.11812,     0.11912,\n",
      "           0.12012,     0.12112,     0.12212,     0.12312,     0.12412,     0.12513,     0.12613,     0.12713,     0.12813,     0.12913,     0.13013,     0.13113,     0.13213,     0.13313,     0.13413,     0.13514,     0.13614,     0.13714,     0.13814,     0.13914,     0.14014,     0.14114,     0.14214,     0.14314,\n",
      "           0.14414,     0.14515,     0.14615,     0.14715,     0.14815,     0.14915,     0.15015,     0.15115,     0.15215,     0.15315,     0.15415,     0.15516,     0.15616,     0.15716,     0.15816,     0.15916,     0.16016,     0.16116,     0.16216,     0.16316,     0.16416,     0.16517,     0.16617,     0.16717,\n",
      "           0.16817,     0.16917,     0.17017,     0.17117,     0.17217,     0.17317,     0.17417,     0.17518,     0.17618,     0.17718,     0.17818,     0.17918,     0.18018,     0.18118,     0.18218,     0.18318,     0.18418,     0.18519,     0.18619,     0.18719,     0.18819,     0.18919,     0.19019,     0.19119,\n",
      "           0.19219,     0.19319,     0.19419,      0.1952,      0.1962,      0.1972,      0.1982,      0.1992,      0.2002,      0.2012,      0.2022,      0.2032,      0.2042,     0.20521,     0.20621,     0.20721,     0.20821,     0.20921,     0.21021,     0.21121,     0.21221,     0.21321,     0.21421,     0.21522,\n",
      "           0.21622,     0.21722,     0.21822,     0.21922,     0.22022,     0.22122,     0.22222,     0.22322,     0.22422,     0.22523,     0.22623,     0.22723,     0.22823,     0.22923,     0.23023,     0.23123,     0.23223,     0.23323,     0.23423,     0.23524,     0.23624,     0.23724,     0.23824,     0.23924,\n",
      "           0.24024,     0.24124,     0.24224,     0.24324,     0.24424,     0.24525,     0.24625,     0.24725,     0.24825,     0.24925,     0.25025,     0.25125,     0.25225,     0.25325,     0.25425,     0.25526,     0.25626,     0.25726,     0.25826,     0.25926,     0.26026,     0.26126,     0.26226,     0.26326,\n",
      "           0.26426,     0.26527,     0.26627,     0.26727,     0.26827,     0.26927,     0.27027,     0.27127,     0.27227,     0.27327,     0.27427,     0.27528,     0.27628,     0.27728,     0.27828,     0.27928,     0.28028,     0.28128,     0.28228,     0.28328,     0.28428,     0.28529,     0.28629,     0.28729,\n",
      "           0.28829,     0.28929,     0.29029,     0.29129,     0.29229,     0.29329,     0.29429,      0.2953,      0.2963,      0.2973,      0.2983,      0.2993,      0.3003,      0.3013,      0.3023,      0.3033,      0.3043,     0.30531,     0.30631,     0.30731,     0.30831,     0.30931,     0.31031,     0.31131,\n",
      "           0.31231,     0.31331,     0.31431,     0.31532,     0.31632,     0.31732,     0.31832,     0.31932,     0.32032,     0.32132,     0.32232,     0.32332,     0.32432,     0.32533,     0.32633,     0.32733,     0.32833,     0.32933,     0.33033,     0.33133,     0.33233,     0.33333,     0.33433,     0.33534,\n",
      "           0.33634,     0.33734,     0.33834,     0.33934,     0.34034,     0.34134,     0.34234,     0.34334,     0.34434,     0.34535,     0.34635,     0.34735,     0.34835,     0.34935,     0.35035,     0.35135,     0.35235,     0.35335,     0.35435,     0.35536,     0.35636,     0.35736,     0.35836,     0.35936,\n",
      "           0.36036,     0.36136,     0.36236,     0.36336,     0.36436,     0.36537,     0.36637,     0.36737,     0.36837,     0.36937,     0.37037,     0.37137,     0.37237,     0.37337,     0.37437,     0.37538,     0.37638,     0.37738,     0.37838,     0.37938,     0.38038,     0.38138,     0.38238,     0.38338,\n",
      "           0.38438,     0.38539,     0.38639,     0.38739,     0.38839,     0.38939,     0.39039,     0.39139,     0.39239,     0.39339,     0.39439,      0.3954,      0.3964,      0.3974,      0.3984,      0.3994,      0.4004,      0.4014,      0.4024,      0.4034,      0.4044,     0.40541,     0.40641,     0.40741,\n",
      "           0.40841,     0.40941,     0.41041,     0.41141,     0.41241,     0.41341,     0.41441,     0.41542,     0.41642,     0.41742,     0.41842,     0.41942,     0.42042,     0.42142,     0.42242,     0.42342,     0.42442,     0.42543,     0.42643,     0.42743,     0.42843,     0.42943,     0.43043,     0.43143,\n",
      "           0.43243,     0.43343,     0.43443,     0.43544,     0.43644,     0.43744,     0.43844,     0.43944,     0.44044,     0.44144,     0.44244,     0.44344,     0.44444,     0.44545,     0.44645,     0.44745,     0.44845,     0.44945,     0.45045,     0.45145,     0.45245,     0.45345,     0.45445,     0.45546,\n",
      "           0.45646,     0.45746,     0.45846,     0.45946,     0.46046,     0.46146,     0.46246,     0.46346,     0.46446,     0.46547,     0.46647,     0.46747,     0.46847,     0.46947,     0.47047,     0.47147,     0.47247,     0.47347,     0.47447,     0.47548,     0.47648,     0.47748,     0.47848,     0.47948,\n",
      "           0.48048,     0.48148,     0.48248,     0.48348,     0.48448,     0.48549,     0.48649,     0.48749,     0.48849,     0.48949,     0.49049,     0.49149,     0.49249,     0.49349,     0.49449,      0.4955,      0.4965,      0.4975,      0.4985,      0.4995,      0.5005,      0.5015,      0.5025,      0.5035,\n",
      "            0.5045,     0.50551,     0.50651,     0.50751,     0.50851,     0.50951,     0.51051,     0.51151,     0.51251,     0.51351,     0.51451,     0.51552,     0.51652,     0.51752,     0.51852,     0.51952,     0.52052,     0.52152,     0.52252,     0.52352,     0.52452,     0.52553,     0.52653,     0.52753,\n",
      "           0.52853,     0.52953,     0.53053,     0.53153,     0.53253,     0.53353,     0.53453,     0.53554,     0.53654,     0.53754,     0.53854,     0.53954,     0.54054,     0.54154,     0.54254,     0.54354,     0.54454,     0.54555,     0.54655,     0.54755,     0.54855,     0.54955,     0.55055,     0.55155,\n",
      "           0.55255,     0.55355,     0.55455,     0.55556,     0.55656,     0.55756,     0.55856,     0.55956,     0.56056,     0.56156,     0.56256,     0.56356,     0.56456,     0.56557,     0.56657,     0.56757,     0.56857,     0.56957,     0.57057,     0.57157,     0.57257,     0.57357,     0.57457,     0.57558,\n",
      "           0.57658,     0.57758,     0.57858,     0.57958,     0.58058,     0.58158,     0.58258,     0.58358,     0.58458,     0.58559,     0.58659,     0.58759,     0.58859,     0.58959,     0.59059,     0.59159,     0.59259,     0.59359,     0.59459,      0.5956,      0.5966,      0.5976,      0.5986,      0.5996,\n",
      "            0.6006,      0.6016,      0.6026,      0.6036,      0.6046,     0.60561,     0.60661,     0.60761,     0.60861,     0.60961,     0.61061,     0.61161,     0.61261,     0.61361,     0.61461,     0.61562,     0.61662,     0.61762,     0.61862,     0.61962,     0.62062,     0.62162,     0.62262,     0.62362,\n",
      "           0.62462,     0.62563,     0.62663,     0.62763,     0.62863,     0.62963,     0.63063,     0.63163,     0.63263,     0.63363,     0.63463,     0.63564,     0.63664,     0.63764,     0.63864,     0.63964,     0.64064,     0.64164,     0.64264,     0.64364,     0.64464,     0.64565,     0.64665,     0.64765,\n",
      "           0.64865,     0.64965,     0.65065,     0.65165,     0.65265,     0.65365,     0.65465,     0.65566,     0.65666,     0.65766,     0.65866,     0.65966,     0.66066,     0.66166,     0.66266,     0.66366,     0.66466,     0.66567,     0.66667,     0.66767,     0.66867,     0.66967,     0.67067,     0.67167,\n",
      "           0.67267,     0.67367,     0.67467,     0.67568,     0.67668,     0.67768,     0.67868,     0.67968,     0.68068,     0.68168,     0.68268,     0.68368,     0.68468,     0.68569,     0.68669,     0.68769,     0.68869,     0.68969,     0.69069,     0.69169,     0.69269,     0.69369,     0.69469,      0.6957,\n",
      "            0.6967,      0.6977,      0.6987,      0.6997,      0.7007,      0.7017,      0.7027,      0.7037,      0.7047,     0.70571,     0.70671,     0.70771,     0.70871,     0.70971,     0.71071,     0.71171,     0.71271,     0.71371,     0.71471,     0.71572,     0.71672,     0.71772,     0.71872,     0.71972,\n",
      "           0.72072,     0.72172,     0.72272,     0.72372,     0.72472,     0.72573,     0.72673,     0.72773,     0.72873,     0.72973,     0.73073,     0.73173,     0.73273,     0.73373,     0.73473,     0.73574,     0.73674,     0.73774,     0.73874,     0.73974,     0.74074,     0.74174,     0.74274,     0.74374,\n",
      "           0.74474,     0.74575,     0.74675,     0.74775,     0.74875,     0.74975,     0.75075,     0.75175,     0.75275,     0.75375,     0.75475,     0.75576,     0.75676,     0.75776,     0.75876,     0.75976,     0.76076,     0.76176,     0.76276,     0.76376,     0.76476,     0.76577,     0.76677,     0.76777,\n",
      "           0.76877,     0.76977,     0.77077,     0.77177,     0.77277,     0.77377,     0.77477,     0.77578,     0.77678,     0.77778,     0.77878,     0.77978,     0.78078,     0.78178,     0.78278,     0.78378,     0.78478,     0.78579,     0.78679,     0.78779,     0.78879,     0.78979,     0.79079,     0.79179,\n",
      "           0.79279,     0.79379,     0.79479,      0.7958,      0.7968,      0.7978,      0.7988,      0.7998,      0.8008,      0.8018,      0.8028,      0.8038,      0.8048,     0.80581,     0.80681,     0.80781,     0.80881,     0.80981,     0.81081,     0.81181,     0.81281,     0.81381,     0.81481,     0.81582,\n",
      "           0.81682,     0.81782,     0.81882,     0.81982,     0.82082,     0.82182,     0.82282,     0.82382,     0.82482,     0.82583,     0.82683,     0.82783,     0.82883,     0.82983,     0.83083,     0.83183,     0.83283,     0.83383,     0.83483,     0.83584,     0.83684,     0.83784,     0.83884,     0.83984,\n",
      "           0.84084,     0.84184,     0.84284,     0.84384,     0.84484,     0.84585,     0.84685,     0.84785,     0.84885,     0.84985,     0.85085,     0.85185,     0.85285,     0.85385,     0.85485,     0.85586,     0.85686,     0.85786,     0.85886,     0.85986,     0.86086,     0.86186,     0.86286,     0.86386,\n",
      "           0.86486,     0.86587,     0.86687,     0.86787,     0.86887,     0.86987,     0.87087,     0.87187,     0.87287,     0.87387,     0.87487,     0.87588,     0.87688,     0.87788,     0.87888,     0.87988,     0.88088,     0.88188,     0.88288,     0.88388,     0.88488,     0.88589,     0.88689,     0.88789,\n",
      "           0.88889,     0.88989,     0.89089,     0.89189,     0.89289,     0.89389,     0.89489,      0.8959,      0.8969,      0.8979,      0.8989,      0.8999,      0.9009,      0.9019,      0.9029,      0.9039,      0.9049,     0.90591,     0.90691,     0.90791,     0.90891,     0.90991,     0.91091,     0.91191,\n",
      "           0.91291,     0.91391,     0.91491,     0.91592,     0.91692,     0.91792,     0.91892,     0.91992,     0.92092,     0.92192,     0.92292,     0.92392,     0.92492,     0.92593,     0.92693,     0.92793,     0.92893,     0.92993,     0.93093,     0.93193,     0.93293,     0.93393,     0.93493,     0.93594,\n",
      "           0.93694,     0.93794,     0.93894,     0.93994,     0.94094,     0.94194,     0.94294,     0.94394,     0.94494,     0.94595,     0.94695,     0.94795,     0.94895,     0.94995,     0.95095,     0.95195,     0.95295,     0.95395,     0.95495,     0.95596,     0.95696,     0.95796,     0.95896,     0.95996,\n",
      "           0.96096,     0.96196,     0.96296,     0.96396,     0.96496,     0.96597,     0.96697,     0.96797,     0.96897,     0.96997,     0.97097,     0.97197,     0.97297,     0.97397,     0.97497,     0.97598,     0.97698,     0.97798,     0.97898,     0.97998,     0.98098,     0.98198,     0.98298,     0.98398,\n",
      "           0.98498,     0.98599,     0.98699,     0.98799,     0.98899,     0.98999,     0.99099,     0.99199,     0.99299,     0.99399,     0.99499,       0.996,       0.997,       0.998,       0.999,           1]), array([[          1,           1,           1, ...,     0.92857,     0.92857,           0],\n",
      "       [          1,           1,           1, ...,     0.02552,     0.01276,           0],\n",
      "       [          1,           1,           1, ...,           1,           1,           0],\n",
      "       ...,\n",
      "       [          1,           1,           1, ...,    0.052093,    0.026046,           0],\n",
      "       [          1,           1,           1, ...,     0.91667,     0.91667,           0],\n",
      "       [          1,           1,           1, ...,     0.39583,     0.39583,           0]]), 'Recall', 'Precision'], [array([          0,    0.001001,    0.002002,    0.003003,    0.004004,    0.005005,    0.006006,    0.007007,    0.008008,    0.009009,     0.01001,    0.011011,    0.012012,    0.013013,    0.014014,    0.015015,    0.016016,    0.017017,    0.018018,    0.019019,     0.02002,    0.021021,    0.022022,    0.023023,\n",
      "          0.024024,    0.025025,    0.026026,    0.027027,    0.028028,    0.029029,     0.03003,    0.031031,    0.032032,    0.033033,    0.034034,    0.035035,    0.036036,    0.037037,    0.038038,    0.039039,     0.04004,    0.041041,    0.042042,    0.043043,    0.044044,    0.045045,    0.046046,    0.047047,\n",
      "          0.048048,    0.049049,     0.05005,    0.051051,    0.052052,    0.053053,    0.054054,    0.055055,    0.056056,    0.057057,    0.058058,    0.059059,     0.06006,    0.061061,    0.062062,    0.063063,    0.064064,    0.065065,    0.066066,    0.067067,    0.068068,    0.069069,     0.07007,    0.071071,\n",
      "          0.072072,    0.073073,    0.074074,    0.075075,    0.076076,    0.077077,    0.078078,    0.079079,     0.08008,    0.081081,    0.082082,    0.083083,    0.084084,    0.085085,    0.086086,    0.087087,    0.088088,    0.089089,     0.09009,    0.091091,    0.092092,    0.093093,    0.094094,    0.095095,\n",
      "          0.096096,    0.097097,    0.098098,    0.099099,      0.1001,      0.1011,      0.1021,      0.1031,      0.1041,     0.10511,     0.10611,     0.10711,     0.10811,     0.10911,     0.11011,     0.11111,     0.11211,     0.11311,     0.11411,     0.11512,     0.11612,     0.11712,     0.11812,     0.11912,\n",
      "           0.12012,     0.12112,     0.12212,     0.12312,     0.12412,     0.12513,     0.12613,     0.12713,     0.12813,     0.12913,     0.13013,     0.13113,     0.13213,     0.13313,     0.13413,     0.13514,     0.13614,     0.13714,     0.13814,     0.13914,     0.14014,     0.14114,     0.14214,     0.14314,\n",
      "           0.14414,     0.14515,     0.14615,     0.14715,     0.14815,     0.14915,     0.15015,     0.15115,     0.15215,     0.15315,     0.15415,     0.15516,     0.15616,     0.15716,     0.15816,     0.15916,     0.16016,     0.16116,     0.16216,     0.16316,     0.16416,     0.16517,     0.16617,     0.16717,\n",
      "           0.16817,     0.16917,     0.17017,     0.17117,     0.17217,     0.17317,     0.17417,     0.17518,     0.17618,     0.17718,     0.17818,     0.17918,     0.18018,     0.18118,     0.18218,     0.18318,     0.18418,     0.18519,     0.18619,     0.18719,     0.18819,     0.18919,     0.19019,     0.19119,\n",
      "           0.19219,     0.19319,     0.19419,      0.1952,      0.1962,      0.1972,      0.1982,      0.1992,      0.2002,      0.2012,      0.2022,      0.2032,      0.2042,     0.20521,     0.20621,     0.20721,     0.20821,     0.20921,     0.21021,     0.21121,     0.21221,     0.21321,     0.21421,     0.21522,\n",
      "           0.21622,     0.21722,     0.21822,     0.21922,     0.22022,     0.22122,     0.22222,     0.22322,     0.22422,     0.22523,     0.22623,     0.22723,     0.22823,     0.22923,     0.23023,     0.23123,     0.23223,     0.23323,     0.23423,     0.23524,     0.23624,     0.23724,     0.23824,     0.23924,\n",
      "           0.24024,     0.24124,     0.24224,     0.24324,     0.24424,     0.24525,     0.24625,     0.24725,     0.24825,     0.24925,     0.25025,     0.25125,     0.25225,     0.25325,     0.25425,     0.25526,     0.25626,     0.25726,     0.25826,     0.25926,     0.26026,     0.26126,     0.26226,     0.26326,\n",
      "           0.26426,     0.26527,     0.26627,     0.26727,     0.26827,     0.26927,     0.27027,     0.27127,     0.27227,     0.27327,     0.27427,     0.27528,     0.27628,     0.27728,     0.27828,     0.27928,     0.28028,     0.28128,     0.28228,     0.28328,     0.28428,     0.28529,     0.28629,     0.28729,\n",
      "           0.28829,     0.28929,     0.29029,     0.29129,     0.29229,     0.29329,     0.29429,      0.2953,      0.2963,      0.2973,      0.2983,      0.2993,      0.3003,      0.3013,      0.3023,      0.3033,      0.3043,     0.30531,     0.30631,     0.30731,     0.30831,     0.30931,     0.31031,     0.31131,\n",
      "           0.31231,     0.31331,     0.31431,     0.31532,     0.31632,     0.31732,     0.31832,     0.31932,     0.32032,     0.32132,     0.32232,     0.32332,     0.32432,     0.32533,     0.32633,     0.32733,     0.32833,     0.32933,     0.33033,     0.33133,     0.33233,     0.33333,     0.33433,     0.33534,\n",
      "           0.33634,     0.33734,     0.33834,     0.33934,     0.34034,     0.34134,     0.34234,     0.34334,     0.34434,     0.34535,     0.34635,     0.34735,     0.34835,     0.34935,     0.35035,     0.35135,     0.35235,     0.35335,     0.35435,     0.35536,     0.35636,     0.35736,     0.35836,     0.35936,\n",
      "           0.36036,     0.36136,     0.36236,     0.36336,     0.36436,     0.36537,     0.36637,     0.36737,     0.36837,     0.36937,     0.37037,     0.37137,     0.37237,     0.37337,     0.37437,     0.37538,     0.37638,     0.37738,     0.37838,     0.37938,     0.38038,     0.38138,     0.38238,     0.38338,\n",
      "           0.38438,     0.38539,     0.38639,     0.38739,     0.38839,     0.38939,     0.39039,     0.39139,     0.39239,     0.39339,     0.39439,      0.3954,      0.3964,      0.3974,      0.3984,      0.3994,      0.4004,      0.4014,      0.4024,      0.4034,      0.4044,     0.40541,     0.40641,     0.40741,\n",
      "           0.40841,     0.40941,     0.41041,     0.41141,     0.41241,     0.41341,     0.41441,     0.41542,     0.41642,     0.41742,     0.41842,     0.41942,     0.42042,     0.42142,     0.42242,     0.42342,     0.42442,     0.42543,     0.42643,     0.42743,     0.42843,     0.42943,     0.43043,     0.43143,\n",
      "           0.43243,     0.43343,     0.43443,     0.43544,     0.43644,     0.43744,     0.43844,     0.43944,     0.44044,     0.44144,     0.44244,     0.44344,     0.44444,     0.44545,     0.44645,     0.44745,     0.44845,     0.44945,     0.45045,     0.45145,     0.45245,     0.45345,     0.45445,     0.45546,\n",
      "           0.45646,     0.45746,     0.45846,     0.45946,     0.46046,     0.46146,     0.46246,     0.46346,     0.46446,     0.46547,     0.46647,     0.46747,     0.46847,     0.46947,     0.47047,     0.47147,     0.47247,     0.47347,     0.47447,     0.47548,     0.47648,     0.47748,     0.47848,     0.47948,\n",
      "           0.48048,     0.48148,     0.48248,     0.48348,     0.48448,     0.48549,     0.48649,     0.48749,     0.48849,     0.48949,     0.49049,     0.49149,     0.49249,     0.49349,     0.49449,      0.4955,      0.4965,      0.4975,      0.4985,      0.4995,      0.5005,      0.5015,      0.5025,      0.5035,\n",
      "            0.5045,     0.50551,     0.50651,     0.50751,     0.50851,     0.50951,     0.51051,     0.51151,     0.51251,     0.51351,     0.51451,     0.51552,     0.51652,     0.51752,     0.51852,     0.51952,     0.52052,     0.52152,     0.52252,     0.52352,     0.52452,     0.52553,     0.52653,     0.52753,\n",
      "           0.52853,     0.52953,     0.53053,     0.53153,     0.53253,     0.53353,     0.53453,     0.53554,     0.53654,     0.53754,     0.53854,     0.53954,     0.54054,     0.54154,     0.54254,     0.54354,     0.54454,     0.54555,     0.54655,     0.54755,     0.54855,     0.54955,     0.55055,     0.55155,\n",
      "           0.55255,     0.55355,     0.55455,     0.55556,     0.55656,     0.55756,     0.55856,     0.55956,     0.56056,     0.56156,     0.56256,     0.56356,     0.56456,     0.56557,     0.56657,     0.56757,     0.56857,     0.56957,     0.57057,     0.57157,     0.57257,     0.57357,     0.57457,     0.57558,\n",
      "           0.57658,     0.57758,     0.57858,     0.57958,     0.58058,     0.58158,     0.58258,     0.58358,     0.58458,     0.58559,     0.58659,     0.58759,     0.58859,     0.58959,     0.59059,     0.59159,     0.59259,     0.59359,     0.59459,      0.5956,      0.5966,      0.5976,      0.5986,      0.5996,\n",
      "            0.6006,      0.6016,      0.6026,      0.6036,      0.6046,     0.60561,     0.60661,     0.60761,     0.60861,     0.60961,     0.61061,     0.61161,     0.61261,     0.61361,     0.61461,     0.61562,     0.61662,     0.61762,     0.61862,     0.61962,     0.62062,     0.62162,     0.62262,     0.62362,\n",
      "           0.62462,     0.62563,     0.62663,     0.62763,     0.62863,     0.62963,     0.63063,     0.63163,     0.63263,     0.63363,     0.63463,     0.63564,     0.63664,     0.63764,     0.63864,     0.63964,     0.64064,     0.64164,     0.64264,     0.64364,     0.64464,     0.64565,     0.64665,     0.64765,\n",
      "           0.64865,     0.64965,     0.65065,     0.65165,     0.65265,     0.65365,     0.65465,     0.65566,     0.65666,     0.65766,     0.65866,     0.65966,     0.66066,     0.66166,     0.66266,     0.66366,     0.66466,     0.66567,     0.66667,     0.66767,     0.66867,     0.66967,     0.67067,     0.67167,\n",
      "           0.67267,     0.67367,     0.67467,     0.67568,     0.67668,     0.67768,     0.67868,     0.67968,     0.68068,     0.68168,     0.68268,     0.68368,     0.68468,     0.68569,     0.68669,     0.68769,     0.68869,     0.68969,     0.69069,     0.69169,     0.69269,     0.69369,     0.69469,      0.6957,\n",
      "            0.6967,      0.6977,      0.6987,      0.6997,      0.7007,      0.7017,      0.7027,      0.7037,      0.7047,     0.70571,     0.70671,     0.70771,     0.70871,     0.70971,     0.71071,     0.71171,     0.71271,     0.71371,     0.71471,     0.71572,     0.71672,     0.71772,     0.71872,     0.71972,\n",
      "           0.72072,     0.72172,     0.72272,     0.72372,     0.72472,     0.72573,     0.72673,     0.72773,     0.72873,     0.72973,     0.73073,     0.73173,     0.73273,     0.73373,     0.73473,     0.73574,     0.73674,     0.73774,     0.73874,     0.73974,     0.74074,     0.74174,     0.74274,     0.74374,\n",
      "           0.74474,     0.74575,     0.74675,     0.74775,     0.74875,     0.74975,     0.75075,     0.75175,     0.75275,     0.75375,     0.75475,     0.75576,     0.75676,     0.75776,     0.75876,     0.75976,     0.76076,     0.76176,     0.76276,     0.76376,     0.76476,     0.76577,     0.76677,     0.76777,\n",
      "           0.76877,     0.76977,     0.77077,     0.77177,     0.77277,     0.77377,     0.77477,     0.77578,     0.77678,     0.77778,     0.77878,     0.77978,     0.78078,     0.78178,     0.78278,     0.78378,     0.78478,     0.78579,     0.78679,     0.78779,     0.78879,     0.78979,     0.79079,     0.79179,\n",
      "           0.79279,     0.79379,     0.79479,      0.7958,      0.7968,      0.7978,      0.7988,      0.7998,      0.8008,      0.8018,      0.8028,      0.8038,      0.8048,     0.80581,     0.80681,     0.80781,     0.80881,     0.80981,     0.81081,     0.81181,     0.81281,     0.81381,     0.81481,     0.81582,\n",
      "           0.81682,     0.81782,     0.81882,     0.81982,     0.82082,     0.82182,     0.82282,     0.82382,     0.82482,     0.82583,     0.82683,     0.82783,     0.82883,     0.82983,     0.83083,     0.83183,     0.83283,     0.83383,     0.83483,     0.83584,     0.83684,     0.83784,     0.83884,     0.83984,\n",
      "           0.84084,     0.84184,     0.84284,     0.84384,     0.84484,     0.84585,     0.84685,     0.84785,     0.84885,     0.84985,     0.85085,     0.85185,     0.85285,     0.85385,     0.85485,     0.85586,     0.85686,     0.85786,     0.85886,     0.85986,     0.86086,     0.86186,     0.86286,     0.86386,\n",
      "           0.86486,     0.86587,     0.86687,     0.86787,     0.86887,     0.86987,     0.87087,     0.87187,     0.87287,     0.87387,     0.87487,     0.87588,     0.87688,     0.87788,     0.87888,     0.87988,     0.88088,     0.88188,     0.88288,     0.88388,     0.88488,     0.88589,     0.88689,     0.88789,\n",
      "           0.88889,     0.88989,     0.89089,     0.89189,     0.89289,     0.89389,     0.89489,      0.8959,      0.8969,      0.8979,      0.8989,      0.8999,      0.9009,      0.9019,      0.9029,      0.9039,      0.9049,     0.90591,     0.90691,     0.90791,     0.90891,     0.90991,     0.91091,     0.91191,\n",
      "           0.91291,     0.91391,     0.91491,     0.91592,     0.91692,     0.91792,     0.91892,     0.91992,     0.92092,     0.92192,     0.92292,     0.92392,     0.92492,     0.92593,     0.92693,     0.92793,     0.92893,     0.92993,     0.93093,     0.93193,     0.93293,     0.93393,     0.93493,     0.93594,\n",
      "           0.93694,     0.93794,     0.93894,     0.93994,     0.94094,     0.94194,     0.94294,     0.94394,     0.94494,     0.94595,     0.94695,     0.94795,     0.94895,     0.94995,     0.95095,     0.95195,     0.95295,     0.95395,     0.95495,     0.95596,     0.95696,     0.95796,     0.95896,     0.95996,\n",
      "           0.96096,     0.96196,     0.96296,     0.96396,     0.96496,     0.96597,     0.96697,     0.96797,     0.96897,     0.96997,     0.97097,     0.97197,     0.97297,     0.97397,     0.97497,     0.97598,     0.97698,     0.97798,     0.97898,     0.97998,     0.98098,     0.98198,     0.98298,     0.98398,\n",
      "           0.98498,     0.98599,     0.98699,     0.98799,     0.98899,     0.98999,     0.99099,     0.99199,     0.99299,     0.99399,     0.99499,       0.996,       0.997,       0.998,       0.999,           1]), array([[    0.71823,     0.71823,     0.78521, ...,           0,           0,           0],\n",
      "       [    0.65487,     0.65487,     0.74729, ...,           0,           0,           0],\n",
      "       [    0.71304,     0.71304,     0.76321, ...,           0,           0,           0],\n",
      "       ...,\n",
      "       [    0.67114,     0.67114,     0.76153, ...,           0,           0,           0],\n",
      "       [    0.59459,     0.59459,     0.73159, ...,           0,           0,           0],\n",
      "       [    0.52778,     0.52778,     0.57246, ...,           0,           0,           0]]), 'Confidence', 'F1'], [array([          0,    0.001001,    0.002002,    0.003003,    0.004004,    0.005005,    0.006006,    0.007007,    0.008008,    0.009009,     0.01001,    0.011011,    0.012012,    0.013013,    0.014014,    0.015015,    0.016016,    0.017017,    0.018018,    0.019019,     0.02002,    0.021021,    0.022022,    0.023023,\n",
      "          0.024024,    0.025025,    0.026026,    0.027027,    0.028028,    0.029029,     0.03003,    0.031031,    0.032032,    0.033033,    0.034034,    0.035035,    0.036036,    0.037037,    0.038038,    0.039039,     0.04004,    0.041041,    0.042042,    0.043043,    0.044044,    0.045045,    0.046046,    0.047047,\n",
      "          0.048048,    0.049049,     0.05005,    0.051051,    0.052052,    0.053053,    0.054054,    0.055055,    0.056056,    0.057057,    0.058058,    0.059059,     0.06006,    0.061061,    0.062062,    0.063063,    0.064064,    0.065065,    0.066066,    0.067067,    0.068068,    0.069069,     0.07007,    0.071071,\n",
      "          0.072072,    0.073073,    0.074074,    0.075075,    0.076076,    0.077077,    0.078078,    0.079079,     0.08008,    0.081081,    0.082082,    0.083083,    0.084084,    0.085085,    0.086086,    0.087087,    0.088088,    0.089089,     0.09009,    0.091091,    0.092092,    0.093093,    0.094094,    0.095095,\n",
      "          0.096096,    0.097097,    0.098098,    0.099099,      0.1001,      0.1011,      0.1021,      0.1031,      0.1041,     0.10511,     0.10611,     0.10711,     0.10811,     0.10911,     0.11011,     0.11111,     0.11211,     0.11311,     0.11411,     0.11512,     0.11612,     0.11712,     0.11812,     0.11912,\n",
      "           0.12012,     0.12112,     0.12212,     0.12312,     0.12412,     0.12513,     0.12613,     0.12713,     0.12813,     0.12913,     0.13013,     0.13113,     0.13213,     0.13313,     0.13413,     0.13514,     0.13614,     0.13714,     0.13814,     0.13914,     0.14014,     0.14114,     0.14214,     0.14314,\n",
      "           0.14414,     0.14515,     0.14615,     0.14715,     0.14815,     0.14915,     0.15015,     0.15115,     0.15215,     0.15315,     0.15415,     0.15516,     0.15616,     0.15716,     0.15816,     0.15916,     0.16016,     0.16116,     0.16216,     0.16316,     0.16416,     0.16517,     0.16617,     0.16717,\n",
      "           0.16817,     0.16917,     0.17017,     0.17117,     0.17217,     0.17317,     0.17417,     0.17518,     0.17618,     0.17718,     0.17818,     0.17918,     0.18018,     0.18118,     0.18218,     0.18318,     0.18418,     0.18519,     0.18619,     0.18719,     0.18819,     0.18919,     0.19019,     0.19119,\n",
      "           0.19219,     0.19319,     0.19419,      0.1952,      0.1962,      0.1972,      0.1982,      0.1992,      0.2002,      0.2012,      0.2022,      0.2032,      0.2042,     0.20521,     0.20621,     0.20721,     0.20821,     0.20921,     0.21021,     0.21121,     0.21221,     0.21321,     0.21421,     0.21522,\n",
      "           0.21622,     0.21722,     0.21822,     0.21922,     0.22022,     0.22122,     0.22222,     0.22322,     0.22422,     0.22523,     0.22623,     0.22723,     0.22823,     0.22923,     0.23023,     0.23123,     0.23223,     0.23323,     0.23423,     0.23524,     0.23624,     0.23724,     0.23824,     0.23924,\n",
      "           0.24024,     0.24124,     0.24224,     0.24324,     0.24424,     0.24525,     0.24625,     0.24725,     0.24825,     0.24925,     0.25025,     0.25125,     0.25225,     0.25325,     0.25425,     0.25526,     0.25626,     0.25726,     0.25826,     0.25926,     0.26026,     0.26126,     0.26226,     0.26326,\n",
      "           0.26426,     0.26527,     0.26627,     0.26727,     0.26827,     0.26927,     0.27027,     0.27127,     0.27227,     0.27327,     0.27427,     0.27528,     0.27628,     0.27728,     0.27828,     0.27928,     0.28028,     0.28128,     0.28228,     0.28328,     0.28428,     0.28529,     0.28629,     0.28729,\n",
      "           0.28829,     0.28929,     0.29029,     0.29129,     0.29229,     0.29329,     0.29429,      0.2953,      0.2963,      0.2973,      0.2983,      0.2993,      0.3003,      0.3013,      0.3023,      0.3033,      0.3043,     0.30531,     0.30631,     0.30731,     0.30831,     0.30931,     0.31031,     0.31131,\n",
      "           0.31231,     0.31331,     0.31431,     0.31532,     0.31632,     0.31732,     0.31832,     0.31932,     0.32032,     0.32132,     0.32232,     0.32332,     0.32432,     0.32533,     0.32633,     0.32733,     0.32833,     0.32933,     0.33033,     0.33133,     0.33233,     0.33333,     0.33433,     0.33534,\n",
      "           0.33634,     0.33734,     0.33834,     0.33934,     0.34034,     0.34134,     0.34234,     0.34334,     0.34434,     0.34535,     0.34635,     0.34735,     0.34835,     0.34935,     0.35035,     0.35135,     0.35235,     0.35335,     0.35435,     0.35536,     0.35636,     0.35736,     0.35836,     0.35936,\n",
      "           0.36036,     0.36136,     0.36236,     0.36336,     0.36436,     0.36537,     0.36637,     0.36737,     0.36837,     0.36937,     0.37037,     0.37137,     0.37237,     0.37337,     0.37437,     0.37538,     0.37638,     0.37738,     0.37838,     0.37938,     0.38038,     0.38138,     0.38238,     0.38338,\n",
      "           0.38438,     0.38539,     0.38639,     0.38739,     0.38839,     0.38939,     0.39039,     0.39139,     0.39239,     0.39339,     0.39439,      0.3954,      0.3964,      0.3974,      0.3984,      0.3994,      0.4004,      0.4014,      0.4024,      0.4034,      0.4044,     0.40541,     0.40641,     0.40741,\n",
      "           0.40841,     0.40941,     0.41041,     0.41141,     0.41241,     0.41341,     0.41441,     0.41542,     0.41642,     0.41742,     0.41842,     0.41942,     0.42042,     0.42142,     0.42242,     0.42342,     0.42442,     0.42543,     0.42643,     0.42743,     0.42843,     0.42943,     0.43043,     0.43143,\n",
      "           0.43243,     0.43343,     0.43443,     0.43544,     0.43644,     0.43744,     0.43844,     0.43944,     0.44044,     0.44144,     0.44244,     0.44344,     0.44444,     0.44545,     0.44645,     0.44745,     0.44845,     0.44945,     0.45045,     0.45145,     0.45245,     0.45345,     0.45445,     0.45546,\n",
      "           0.45646,     0.45746,     0.45846,     0.45946,     0.46046,     0.46146,     0.46246,     0.46346,     0.46446,     0.46547,     0.46647,     0.46747,     0.46847,     0.46947,     0.47047,     0.47147,     0.47247,     0.47347,     0.47447,     0.47548,     0.47648,     0.47748,     0.47848,     0.47948,\n",
      "           0.48048,     0.48148,     0.48248,     0.48348,     0.48448,     0.48549,     0.48649,     0.48749,     0.48849,     0.48949,     0.49049,     0.49149,     0.49249,     0.49349,     0.49449,      0.4955,      0.4965,      0.4975,      0.4985,      0.4995,      0.5005,      0.5015,      0.5025,      0.5035,\n",
      "            0.5045,     0.50551,     0.50651,     0.50751,     0.50851,     0.50951,     0.51051,     0.51151,     0.51251,     0.51351,     0.51451,     0.51552,     0.51652,     0.51752,     0.51852,     0.51952,     0.52052,     0.52152,     0.52252,     0.52352,     0.52452,     0.52553,     0.52653,     0.52753,\n",
      "           0.52853,     0.52953,     0.53053,     0.53153,     0.53253,     0.53353,     0.53453,     0.53554,     0.53654,     0.53754,     0.53854,     0.53954,     0.54054,     0.54154,     0.54254,     0.54354,     0.54454,     0.54555,     0.54655,     0.54755,     0.54855,     0.54955,     0.55055,     0.55155,\n",
      "           0.55255,     0.55355,     0.55455,     0.55556,     0.55656,     0.55756,     0.55856,     0.55956,     0.56056,     0.56156,     0.56256,     0.56356,     0.56456,     0.56557,     0.56657,     0.56757,     0.56857,     0.56957,     0.57057,     0.57157,     0.57257,     0.57357,     0.57457,     0.57558,\n",
      "           0.57658,     0.57758,     0.57858,     0.57958,     0.58058,     0.58158,     0.58258,     0.58358,     0.58458,     0.58559,     0.58659,     0.58759,     0.58859,     0.58959,     0.59059,     0.59159,     0.59259,     0.59359,     0.59459,      0.5956,      0.5966,      0.5976,      0.5986,      0.5996,\n",
      "            0.6006,      0.6016,      0.6026,      0.6036,      0.6046,     0.60561,     0.60661,     0.60761,     0.60861,     0.60961,     0.61061,     0.61161,     0.61261,     0.61361,     0.61461,     0.61562,     0.61662,     0.61762,     0.61862,     0.61962,     0.62062,     0.62162,     0.62262,     0.62362,\n",
      "           0.62462,     0.62563,     0.62663,     0.62763,     0.62863,     0.62963,     0.63063,     0.63163,     0.63263,     0.63363,     0.63463,     0.63564,     0.63664,     0.63764,     0.63864,     0.63964,     0.64064,     0.64164,     0.64264,     0.64364,     0.64464,     0.64565,     0.64665,     0.64765,\n",
      "           0.64865,     0.64965,     0.65065,     0.65165,     0.65265,     0.65365,     0.65465,     0.65566,     0.65666,     0.65766,     0.65866,     0.65966,     0.66066,     0.66166,     0.66266,     0.66366,     0.66466,     0.66567,     0.66667,     0.66767,     0.66867,     0.66967,     0.67067,     0.67167,\n",
      "           0.67267,     0.67367,     0.67467,     0.67568,     0.67668,     0.67768,     0.67868,     0.67968,     0.68068,     0.68168,     0.68268,     0.68368,     0.68468,     0.68569,     0.68669,     0.68769,     0.68869,     0.68969,     0.69069,     0.69169,     0.69269,     0.69369,     0.69469,      0.6957,\n",
      "            0.6967,      0.6977,      0.6987,      0.6997,      0.7007,      0.7017,      0.7027,      0.7037,      0.7047,     0.70571,     0.70671,     0.70771,     0.70871,     0.70971,     0.71071,     0.71171,     0.71271,     0.71371,     0.71471,     0.71572,     0.71672,     0.71772,     0.71872,     0.71972,\n",
      "           0.72072,     0.72172,     0.72272,     0.72372,     0.72472,     0.72573,     0.72673,     0.72773,     0.72873,     0.72973,     0.73073,     0.73173,     0.73273,     0.73373,     0.73473,     0.73574,     0.73674,     0.73774,     0.73874,     0.73974,     0.74074,     0.74174,     0.74274,     0.74374,\n",
      "           0.74474,     0.74575,     0.74675,     0.74775,     0.74875,     0.74975,     0.75075,     0.75175,     0.75275,     0.75375,     0.75475,     0.75576,     0.75676,     0.75776,     0.75876,     0.75976,     0.76076,     0.76176,     0.76276,     0.76376,     0.76476,     0.76577,     0.76677,     0.76777,\n",
      "           0.76877,     0.76977,     0.77077,     0.77177,     0.77277,     0.77377,     0.77477,     0.77578,     0.77678,     0.77778,     0.77878,     0.77978,     0.78078,     0.78178,     0.78278,     0.78378,     0.78478,     0.78579,     0.78679,     0.78779,     0.78879,     0.78979,     0.79079,     0.79179,\n",
      "           0.79279,     0.79379,     0.79479,      0.7958,      0.7968,      0.7978,      0.7988,      0.7998,      0.8008,      0.8018,      0.8028,      0.8038,      0.8048,     0.80581,     0.80681,     0.80781,     0.80881,     0.80981,     0.81081,     0.81181,     0.81281,     0.81381,     0.81481,     0.81582,\n",
      "           0.81682,     0.81782,     0.81882,     0.81982,     0.82082,     0.82182,     0.82282,     0.82382,     0.82482,     0.82583,     0.82683,     0.82783,     0.82883,     0.82983,     0.83083,     0.83183,     0.83283,     0.83383,     0.83483,     0.83584,     0.83684,     0.83784,     0.83884,     0.83984,\n",
      "           0.84084,     0.84184,     0.84284,     0.84384,     0.84484,     0.84585,     0.84685,     0.84785,     0.84885,     0.84985,     0.85085,     0.85185,     0.85285,     0.85385,     0.85485,     0.85586,     0.85686,     0.85786,     0.85886,     0.85986,     0.86086,     0.86186,     0.86286,     0.86386,\n",
      "           0.86486,     0.86587,     0.86687,     0.86787,     0.86887,     0.86987,     0.87087,     0.87187,     0.87287,     0.87387,     0.87487,     0.87588,     0.87688,     0.87788,     0.87888,     0.87988,     0.88088,     0.88188,     0.88288,     0.88388,     0.88488,     0.88589,     0.88689,     0.88789,\n",
      "           0.88889,     0.88989,     0.89089,     0.89189,     0.89289,     0.89389,     0.89489,      0.8959,      0.8969,      0.8979,      0.8989,      0.8999,      0.9009,      0.9019,      0.9029,      0.9039,      0.9049,     0.90591,     0.90691,     0.90791,     0.90891,     0.90991,     0.91091,     0.91191,\n",
      "           0.91291,     0.91391,     0.91491,     0.91592,     0.91692,     0.91792,     0.91892,     0.91992,     0.92092,     0.92192,     0.92292,     0.92392,     0.92492,     0.92593,     0.92693,     0.92793,     0.92893,     0.92993,     0.93093,     0.93193,     0.93293,     0.93393,     0.93493,     0.93594,\n",
      "           0.93694,     0.93794,     0.93894,     0.93994,     0.94094,     0.94194,     0.94294,     0.94394,     0.94494,     0.94595,     0.94695,     0.94795,     0.94895,     0.94995,     0.95095,     0.95195,     0.95295,     0.95395,     0.95495,     0.95596,     0.95696,     0.95796,     0.95896,     0.95996,\n",
      "           0.96096,     0.96196,     0.96296,     0.96396,     0.96496,     0.96597,     0.96697,     0.96797,     0.96897,     0.96997,     0.97097,     0.97197,     0.97297,     0.97397,     0.97497,     0.97598,     0.97698,     0.97798,     0.97898,     0.97998,     0.98098,     0.98198,     0.98298,     0.98398,\n",
      "           0.98498,     0.98599,     0.98699,     0.98799,     0.98899,     0.98999,     0.99099,     0.99199,     0.99299,     0.99399,     0.99499,       0.996,       0.997,       0.998,       0.999,           1]), array([[    0.56034,     0.56034,     0.64637, ...,           1,           1,           1],\n",
      "       [    0.49664,     0.49664,     0.61132, ...,           1,           1,           1],\n",
      "       [    0.55405,     0.55405,     0.61709, ...,           1,           1,           1],\n",
      "       ...,\n",
      "       [     0.5102,      0.5102,     0.62255, ...,           1,           1,           1],\n",
      "       [    0.42308,     0.42308,     0.57678, ...,           1,           1,           1],\n",
      "       [    0.35849,     0.35849,     0.41014, ...,           1,           1,           1]]), 'Confidence', 'Precision'], [array([          0,    0.001001,    0.002002,    0.003003,    0.004004,    0.005005,    0.006006,    0.007007,    0.008008,    0.009009,     0.01001,    0.011011,    0.012012,    0.013013,    0.014014,    0.015015,    0.016016,    0.017017,    0.018018,    0.019019,     0.02002,    0.021021,    0.022022,    0.023023,\n",
      "          0.024024,    0.025025,    0.026026,    0.027027,    0.028028,    0.029029,     0.03003,    0.031031,    0.032032,    0.033033,    0.034034,    0.035035,    0.036036,    0.037037,    0.038038,    0.039039,     0.04004,    0.041041,    0.042042,    0.043043,    0.044044,    0.045045,    0.046046,    0.047047,\n",
      "          0.048048,    0.049049,     0.05005,    0.051051,    0.052052,    0.053053,    0.054054,    0.055055,    0.056056,    0.057057,    0.058058,    0.059059,     0.06006,    0.061061,    0.062062,    0.063063,    0.064064,    0.065065,    0.066066,    0.067067,    0.068068,    0.069069,     0.07007,    0.071071,\n",
      "          0.072072,    0.073073,    0.074074,    0.075075,    0.076076,    0.077077,    0.078078,    0.079079,     0.08008,    0.081081,    0.082082,    0.083083,    0.084084,    0.085085,    0.086086,    0.087087,    0.088088,    0.089089,     0.09009,    0.091091,    0.092092,    0.093093,    0.094094,    0.095095,\n",
      "          0.096096,    0.097097,    0.098098,    0.099099,      0.1001,      0.1011,      0.1021,      0.1031,      0.1041,     0.10511,     0.10611,     0.10711,     0.10811,     0.10911,     0.11011,     0.11111,     0.11211,     0.11311,     0.11411,     0.11512,     0.11612,     0.11712,     0.11812,     0.11912,\n",
      "           0.12012,     0.12112,     0.12212,     0.12312,     0.12412,     0.12513,     0.12613,     0.12713,     0.12813,     0.12913,     0.13013,     0.13113,     0.13213,     0.13313,     0.13413,     0.13514,     0.13614,     0.13714,     0.13814,     0.13914,     0.14014,     0.14114,     0.14214,     0.14314,\n",
      "           0.14414,     0.14515,     0.14615,     0.14715,     0.14815,     0.14915,     0.15015,     0.15115,     0.15215,     0.15315,     0.15415,     0.15516,     0.15616,     0.15716,     0.15816,     0.15916,     0.16016,     0.16116,     0.16216,     0.16316,     0.16416,     0.16517,     0.16617,     0.16717,\n",
      "           0.16817,     0.16917,     0.17017,     0.17117,     0.17217,     0.17317,     0.17417,     0.17518,     0.17618,     0.17718,     0.17818,     0.17918,     0.18018,     0.18118,     0.18218,     0.18318,     0.18418,     0.18519,     0.18619,     0.18719,     0.18819,     0.18919,     0.19019,     0.19119,\n",
      "           0.19219,     0.19319,     0.19419,      0.1952,      0.1962,      0.1972,      0.1982,      0.1992,      0.2002,      0.2012,      0.2022,      0.2032,      0.2042,     0.20521,     0.20621,     0.20721,     0.20821,     0.20921,     0.21021,     0.21121,     0.21221,     0.21321,     0.21421,     0.21522,\n",
      "           0.21622,     0.21722,     0.21822,     0.21922,     0.22022,     0.22122,     0.22222,     0.22322,     0.22422,     0.22523,     0.22623,     0.22723,     0.22823,     0.22923,     0.23023,     0.23123,     0.23223,     0.23323,     0.23423,     0.23524,     0.23624,     0.23724,     0.23824,     0.23924,\n",
      "           0.24024,     0.24124,     0.24224,     0.24324,     0.24424,     0.24525,     0.24625,     0.24725,     0.24825,     0.24925,     0.25025,     0.25125,     0.25225,     0.25325,     0.25425,     0.25526,     0.25626,     0.25726,     0.25826,     0.25926,     0.26026,     0.26126,     0.26226,     0.26326,\n",
      "           0.26426,     0.26527,     0.26627,     0.26727,     0.26827,     0.26927,     0.27027,     0.27127,     0.27227,     0.27327,     0.27427,     0.27528,     0.27628,     0.27728,     0.27828,     0.27928,     0.28028,     0.28128,     0.28228,     0.28328,     0.28428,     0.28529,     0.28629,     0.28729,\n",
      "           0.28829,     0.28929,     0.29029,     0.29129,     0.29229,     0.29329,     0.29429,      0.2953,      0.2963,      0.2973,      0.2983,      0.2993,      0.3003,      0.3013,      0.3023,      0.3033,      0.3043,     0.30531,     0.30631,     0.30731,     0.30831,     0.30931,     0.31031,     0.31131,\n",
      "           0.31231,     0.31331,     0.31431,     0.31532,     0.31632,     0.31732,     0.31832,     0.31932,     0.32032,     0.32132,     0.32232,     0.32332,     0.32432,     0.32533,     0.32633,     0.32733,     0.32833,     0.32933,     0.33033,     0.33133,     0.33233,     0.33333,     0.33433,     0.33534,\n",
      "           0.33634,     0.33734,     0.33834,     0.33934,     0.34034,     0.34134,     0.34234,     0.34334,     0.34434,     0.34535,     0.34635,     0.34735,     0.34835,     0.34935,     0.35035,     0.35135,     0.35235,     0.35335,     0.35435,     0.35536,     0.35636,     0.35736,     0.35836,     0.35936,\n",
      "           0.36036,     0.36136,     0.36236,     0.36336,     0.36436,     0.36537,     0.36637,     0.36737,     0.36837,     0.36937,     0.37037,     0.37137,     0.37237,     0.37337,     0.37437,     0.37538,     0.37638,     0.37738,     0.37838,     0.37938,     0.38038,     0.38138,     0.38238,     0.38338,\n",
      "           0.38438,     0.38539,     0.38639,     0.38739,     0.38839,     0.38939,     0.39039,     0.39139,     0.39239,     0.39339,     0.39439,      0.3954,      0.3964,      0.3974,      0.3984,      0.3994,      0.4004,      0.4014,      0.4024,      0.4034,      0.4044,     0.40541,     0.40641,     0.40741,\n",
      "           0.40841,     0.40941,     0.41041,     0.41141,     0.41241,     0.41341,     0.41441,     0.41542,     0.41642,     0.41742,     0.41842,     0.41942,     0.42042,     0.42142,     0.42242,     0.42342,     0.42442,     0.42543,     0.42643,     0.42743,     0.42843,     0.42943,     0.43043,     0.43143,\n",
      "           0.43243,     0.43343,     0.43443,     0.43544,     0.43644,     0.43744,     0.43844,     0.43944,     0.44044,     0.44144,     0.44244,     0.44344,     0.44444,     0.44545,     0.44645,     0.44745,     0.44845,     0.44945,     0.45045,     0.45145,     0.45245,     0.45345,     0.45445,     0.45546,\n",
      "           0.45646,     0.45746,     0.45846,     0.45946,     0.46046,     0.46146,     0.46246,     0.46346,     0.46446,     0.46547,     0.46647,     0.46747,     0.46847,     0.46947,     0.47047,     0.47147,     0.47247,     0.47347,     0.47447,     0.47548,     0.47648,     0.47748,     0.47848,     0.47948,\n",
      "           0.48048,     0.48148,     0.48248,     0.48348,     0.48448,     0.48549,     0.48649,     0.48749,     0.48849,     0.48949,     0.49049,     0.49149,     0.49249,     0.49349,     0.49449,      0.4955,      0.4965,      0.4975,      0.4985,      0.4995,      0.5005,      0.5015,      0.5025,      0.5035,\n",
      "            0.5045,     0.50551,     0.50651,     0.50751,     0.50851,     0.50951,     0.51051,     0.51151,     0.51251,     0.51351,     0.51451,     0.51552,     0.51652,     0.51752,     0.51852,     0.51952,     0.52052,     0.52152,     0.52252,     0.52352,     0.52452,     0.52553,     0.52653,     0.52753,\n",
      "           0.52853,     0.52953,     0.53053,     0.53153,     0.53253,     0.53353,     0.53453,     0.53554,     0.53654,     0.53754,     0.53854,     0.53954,     0.54054,     0.54154,     0.54254,     0.54354,     0.54454,     0.54555,     0.54655,     0.54755,     0.54855,     0.54955,     0.55055,     0.55155,\n",
      "           0.55255,     0.55355,     0.55455,     0.55556,     0.55656,     0.55756,     0.55856,     0.55956,     0.56056,     0.56156,     0.56256,     0.56356,     0.56456,     0.56557,     0.56657,     0.56757,     0.56857,     0.56957,     0.57057,     0.57157,     0.57257,     0.57357,     0.57457,     0.57558,\n",
      "           0.57658,     0.57758,     0.57858,     0.57958,     0.58058,     0.58158,     0.58258,     0.58358,     0.58458,     0.58559,     0.58659,     0.58759,     0.58859,     0.58959,     0.59059,     0.59159,     0.59259,     0.59359,     0.59459,      0.5956,      0.5966,      0.5976,      0.5986,      0.5996,\n",
      "            0.6006,      0.6016,      0.6026,      0.6036,      0.6046,     0.60561,     0.60661,     0.60761,     0.60861,     0.60961,     0.61061,     0.61161,     0.61261,     0.61361,     0.61461,     0.61562,     0.61662,     0.61762,     0.61862,     0.61962,     0.62062,     0.62162,     0.62262,     0.62362,\n",
      "           0.62462,     0.62563,     0.62663,     0.62763,     0.62863,     0.62963,     0.63063,     0.63163,     0.63263,     0.63363,     0.63463,     0.63564,     0.63664,     0.63764,     0.63864,     0.63964,     0.64064,     0.64164,     0.64264,     0.64364,     0.64464,     0.64565,     0.64665,     0.64765,\n",
      "           0.64865,     0.64965,     0.65065,     0.65165,     0.65265,     0.65365,     0.65465,     0.65566,     0.65666,     0.65766,     0.65866,     0.65966,     0.66066,     0.66166,     0.66266,     0.66366,     0.66466,     0.66567,     0.66667,     0.66767,     0.66867,     0.66967,     0.67067,     0.67167,\n",
      "           0.67267,     0.67367,     0.67467,     0.67568,     0.67668,     0.67768,     0.67868,     0.67968,     0.68068,     0.68168,     0.68268,     0.68368,     0.68468,     0.68569,     0.68669,     0.68769,     0.68869,     0.68969,     0.69069,     0.69169,     0.69269,     0.69369,     0.69469,      0.6957,\n",
      "            0.6967,      0.6977,      0.6987,      0.6997,      0.7007,      0.7017,      0.7027,      0.7037,      0.7047,     0.70571,     0.70671,     0.70771,     0.70871,     0.70971,     0.71071,     0.71171,     0.71271,     0.71371,     0.71471,     0.71572,     0.71672,     0.71772,     0.71872,     0.71972,\n",
      "           0.72072,     0.72172,     0.72272,     0.72372,     0.72472,     0.72573,     0.72673,     0.72773,     0.72873,     0.72973,     0.73073,     0.73173,     0.73273,     0.73373,     0.73473,     0.73574,     0.73674,     0.73774,     0.73874,     0.73974,     0.74074,     0.74174,     0.74274,     0.74374,\n",
      "           0.74474,     0.74575,     0.74675,     0.74775,     0.74875,     0.74975,     0.75075,     0.75175,     0.75275,     0.75375,     0.75475,     0.75576,     0.75676,     0.75776,     0.75876,     0.75976,     0.76076,     0.76176,     0.76276,     0.76376,     0.76476,     0.76577,     0.76677,     0.76777,\n",
      "           0.76877,     0.76977,     0.77077,     0.77177,     0.77277,     0.77377,     0.77477,     0.77578,     0.77678,     0.77778,     0.77878,     0.77978,     0.78078,     0.78178,     0.78278,     0.78378,     0.78478,     0.78579,     0.78679,     0.78779,     0.78879,     0.78979,     0.79079,     0.79179,\n",
      "           0.79279,     0.79379,     0.79479,      0.7958,      0.7968,      0.7978,      0.7988,      0.7998,      0.8008,      0.8018,      0.8028,      0.8038,      0.8048,     0.80581,     0.80681,     0.80781,     0.80881,     0.80981,     0.81081,     0.81181,     0.81281,     0.81381,     0.81481,     0.81582,\n",
      "           0.81682,     0.81782,     0.81882,     0.81982,     0.82082,     0.82182,     0.82282,     0.82382,     0.82482,     0.82583,     0.82683,     0.82783,     0.82883,     0.82983,     0.83083,     0.83183,     0.83283,     0.83383,     0.83483,     0.83584,     0.83684,     0.83784,     0.83884,     0.83984,\n",
      "           0.84084,     0.84184,     0.84284,     0.84384,     0.84484,     0.84585,     0.84685,     0.84785,     0.84885,     0.84985,     0.85085,     0.85185,     0.85285,     0.85385,     0.85485,     0.85586,     0.85686,     0.85786,     0.85886,     0.85986,     0.86086,     0.86186,     0.86286,     0.86386,\n",
      "           0.86486,     0.86587,     0.86687,     0.86787,     0.86887,     0.86987,     0.87087,     0.87187,     0.87287,     0.87387,     0.87487,     0.87588,     0.87688,     0.87788,     0.87888,     0.87988,     0.88088,     0.88188,     0.88288,     0.88388,     0.88488,     0.88589,     0.88689,     0.88789,\n",
      "           0.88889,     0.88989,     0.89089,     0.89189,     0.89289,     0.89389,     0.89489,      0.8959,      0.8969,      0.8979,      0.8989,      0.8999,      0.9009,      0.9019,      0.9029,      0.9039,      0.9049,     0.90591,     0.90691,     0.90791,     0.90891,     0.90991,     0.91091,     0.91191,\n",
      "           0.91291,     0.91391,     0.91491,     0.91592,     0.91692,     0.91792,     0.91892,     0.91992,     0.92092,     0.92192,     0.92292,     0.92392,     0.92492,     0.92593,     0.92693,     0.92793,     0.92893,     0.92993,     0.93093,     0.93193,     0.93293,     0.93393,     0.93493,     0.93594,\n",
      "           0.93694,     0.93794,     0.93894,     0.93994,     0.94094,     0.94194,     0.94294,     0.94394,     0.94494,     0.94595,     0.94695,     0.94795,     0.94895,     0.94995,     0.95095,     0.95195,     0.95295,     0.95395,     0.95495,     0.95596,     0.95696,     0.95796,     0.95896,     0.95996,\n",
      "           0.96096,     0.96196,     0.96296,     0.96396,     0.96496,     0.96597,     0.96697,     0.96797,     0.96897,     0.96997,     0.97097,     0.97197,     0.97297,     0.97397,     0.97497,     0.97598,     0.97698,     0.97798,     0.97898,     0.97998,     0.98098,     0.98198,     0.98298,     0.98398,\n",
      "           0.98498,     0.98599,     0.98699,     0.98799,     0.98899,     0.98999,     0.99099,     0.99199,     0.99299,     0.99399,     0.99499,       0.996,       0.997,       0.998,       0.999,           1]), array([[          1,           1,           1, ...,           0,           0,           0],\n",
      "       [    0.96104,     0.96104,     0.96104, ...,           0,           0,           0],\n",
      "       [          1,           1,           1, ...,           0,           0,           0],\n",
      "       ...,\n",
      "       [    0.98039,     0.98039,     0.98039, ...,           0,           0,           0],\n",
      "       [          1,           1,           1, ...,           0,           0,           0],\n",
      "       [          1,           1,     0.94737, ...,           0,           0,           0]]), 'Confidence', 'Recall']]\n",
      "fitness: 0.8782980432784175\n",
      "keys: ['metrics/precision(B)', 'metrics/recall(B)', 'metrics/mAP50(B)', 'metrics/mAP50-95(B)']\n",
      "maps: array([    0.87492,     0.93575,     0.93103,     0.90566,      0.8234,     0.87456,     0.81463,     0.77929])\n",
      "names: {0: 'cockatoo', 1: 'crocodile', 2: 'frog', 3: 'kangaroo', 4: 'koala', 5: 'platypus', 6: 'tasmanian devil', 7: 'wombat'}\n",
      "plot: True\n",
      "results_dict: {'metrics/precision(B)': 0.9419422602739295, 'metrics/recall(B)': 0.9447303323722241, 'metrics/mAP50(B)': 0.9763454223660434, 'metrics/mAP50-95(B)': 0.8674038900464591, 'fitness': 0.8782980432784175}\n",
      "save_dir: WindowsPath('runs/detect/yolov8m_custom2')\n",
      "speed: {'preprocess': 0.5280619215392557, 'inference': 25.77453345189607, 'loss': 0.0011024910051813117, 'postprocess': 1.1593156587001054}\n",
      "task: 'detect'\n"
     ]
    }
   ],
   "source": [
    "# Cell 6 — Evaluate model\n",
    "metrics = model.val()  # runs validation\n",
    "print(metrics)"
   ]
  },
  {
   "cell_type": "code",
   "execution_count": 31,
   "id": "f48941a5",
   "metadata": {},
   "outputs": [
    {
     "name": "stdout",
     "output_type": "stream",
     "text": [
      "Ultralytics 8.3.99  Python-3.11.11 torch-2.0.1 CPU (11th Gen Intel Core(TM) i9-11900H 2.50GHz)\n",
      "\n",
      "\u001b[34m\u001b[1mPyTorch:\u001b[0m starting from 'runs\\detect\\yolov8m_custom\\weights\\best.pt' with input shape (1, 3, 640, 640) BCHW and output shape(s) (1, 12, 8400) (49.6 MB)\n",
      "\u001b[31m\u001b[1mrequirements:\u001b[0m Ultralytics requirements ['onnx>=1.12.0', 'onnxslim', 'onnxruntime-gpu'] not found, attempting AutoUpdate...\n",
      "Collecting onnx>=1.12.0\n",
      "  Downloading onnx-1.18.0-cp311-cp311-win_amd64.whl.metadata (7.0 kB)\n",
      "Collecting onnxslim\n",
      "  Downloading onnxslim-0.1.65-py3-none-any.whl.metadata (7.6 kB)\n",
      "Collecting onnxruntime-gpu\n",
      "  Downloading onnxruntime_gpu-1.22.0-cp311-cp311-win_amd64.whl.metadata (5.1 kB)\n",
      "Requirement already satisfied: numpy>=1.22 in c:\\users\\ishaa\\anaconda3\\envs\\ece4179stuff\\lib\\site-packages (from onnx>=1.12.0) (1.24.4)\n",
      "Collecting protobuf>=4.25.1 (from onnx>=1.12.0)\n",
      "  Downloading protobuf-6.32.0-cp310-abi3-win_amd64.whl.metadata (593 bytes)\n",
      "Collecting typing_extensions>=4.7.1 (from onnx>=1.12.0)\n",
      "  Downloading typing_extensions-4.14.1-py3-none-any.whl.metadata (3.0 kB)\n",
      "Collecting sympy>=1.13.3 (from onnxslim)\n",
      "  Downloading sympy-1.14.0-py3-none-any.whl.metadata (12 kB)\n",
      "Requirement already satisfied: packaging in c:\\users\\ishaa\\anaconda3\\envs\\ece4179stuff\\lib\\site-packages (from onnxslim) (23.0)\n",
      "Requirement already satisfied: colorama in c:\\users\\ishaa\\anaconda3\\envs\\ece4179stuff\\lib\\site-packages (from onnxslim) (0.4.6)\n",
      "Collecting coloredlogs (from onnxruntime-gpu)\n",
      "  Downloading coloredlogs-15.0.1-py2.py3-none-any.whl.metadata (12 kB)\n",
      "Collecting flatbuffers (from onnxruntime-gpu)\n",
      "  Downloading flatbuffers-25.2.10-py2.py3-none-any.whl.metadata (875 bytes)\n",
      "Requirement already satisfied: mpmath<1.4,>=1.1.0 in c:\\users\\ishaa\\anaconda3\\envs\\ece4179stuff\\lib\\site-packages (from sympy>=1.13.3->onnxslim) (1.2.1)\n",
      "Collecting humanfriendly>=9.1 (from coloredlogs->onnxruntime-gpu)\n",
      "  Downloading humanfriendly-10.0-py2.py3-none-any.whl.metadata (9.2 kB)\n",
      "Collecting pyreadline3 (from humanfriendly>=9.1->coloredlogs->onnxruntime-gpu)\n",
      "  Downloading pyreadline3-3.5.4-py3-none-any.whl.metadata (4.7 kB)\n",
      "Downloading onnx-1.18.0-cp311-cp311-win_amd64.whl (15.8 MB)\n",
      "   ---------------------------------------- 15.8/15.8 MB 50.4 MB/s eta 0:00:00\n",
      "Downloading onnxslim-0.1.65-py3-none-any.whl (164 kB)\n",
      "   ---------------------------------------- 164.1/164.1 kB ? eta 0:00:00\n",
      "Downloading onnxruntime_gpu-1.22.0-cp311-cp311-win_amd64.whl (214.9 MB)\n",
      "   ---------------------------------------- 214.9/214.9 MB 8.1 MB/s eta 0:00:00\n",
      "Downloading protobuf-6.32.0-cp310-abi3-win_amd64.whl (435 kB)\n",
      "   ---------------------------------------- 435.7/435.7 kB 9.1 MB/s eta 0:00:00\n",
      "Downloading sympy-1.14.0-py3-none-any.whl (6.3 MB)\n",
      "   ---------------------------------------- 6.3/6.3 MB 8.0 MB/s eta 0:00:001\n",
      "Downloading typing_extensions-4.14.1-py3-none-any.whl (43 kB)\n",
      "   ---------------------------------------- 43.9/43.9 kB ? eta 0:00:00\n",
      "Downloading coloredlogs-15.0.1-py2.py3-none-any.whl (46 kB)\n",
      "   ---------------------------------------- 46.0/46.0 kB ? eta 0:00:00\n",
      "Downloading flatbuffers-25.2.10-py2.py3-none-any.whl (30 kB)\n",
      "Downloading humanfriendly-10.0-py2.py3-none-any.whl (86 kB)\n",
      "   ---------------------------------------- 86.8/86.8 kB ? eta 0:00:00\n",
      "Downloading pyreadline3-3.5.4-py3-none-any.whl (83 kB)\n",
      "   ---------------------------------------- 83.2/83.2 kB ? eta 0:00:00\n",
      "Installing collected packages: flatbuffers, typing_extensions, sympy, pyreadline3, protobuf, onnx, humanfriendly, onnxslim, coloredlogs, onnxruntime-gpu\n",
      "  Attempting uninstall: typing_extensions\n",
      "    Found existing installation: typing_extensions 4.6.3\n",
      "    Uninstalling typing_extensions-4.6.3:\n",
      "      Successfully uninstalled typing_extensions-4.6.3\n",
      "  Attempting uninstall: sympy\n",
      "    Found existing installation: sympy 1.11.1\n",
      "    Uninstalling sympy-1.11.1:\n",
      "      Successfully uninstalled sympy-1.11.1\n",
      "Successfully installed coloredlogs-15.0.1 flatbuffers-25.2.10 humanfriendly-10.0 onnx-1.18.0 onnxruntime-gpu-1.22.0 onnxslim-0.1.65 protobuf-6.32.0 pyreadline3-3.5.4 sympy-1.14.0 typing_extensions-4.14.1\n",
      "\n",
      "\u001b[31m\u001b[1mrequirements:\u001b[0m AutoUpdate success  72.4s, installed 3 packages: ['onnx>=1.12.0', 'onnxslim', 'onnxruntime-gpu']\n",
      "\u001b[31m\u001b[1mrequirements:\u001b[0m  \u001b[1mRestart runtime or rerun command for updates to take effect\u001b[0m\n",
      "\n",
      "\n",
      "\u001b[34m\u001b[1mONNX:\u001b[0m starting export with onnx 1.18.0 opset 17...\n",
      "================ Diagnostic Run torch.onnx.export version 2.0.1 ================\n",
      "verbose: False, log level: Level.ERROR\n",
      "======================= 0 NONE 0 NOTE 0 WARNING 0 ERROR ========================\n",
      "\n",
      "\u001b[34m\u001b[1mONNX:\u001b[0m simplifier failure: cannot import name 'equal_valued' from 'sympy.core.numbers' (c:\\Users\\ishaa\\anaconda3\\envs\\ece4179stuff\\Lib\\site-packages\\sympy\\core\\numbers.py)\n",
      "\u001b[34m\u001b[1mONNX:\u001b[0m export success  75.1s, saved as 'runs\\detect\\yolov8m_custom\\weights\\best.onnx' (98.8 MB)\n",
      "\n",
      "Export complete (78.1s)\n",
      "Results saved to \u001b[1mC:\\Users\\ishaa\\Desktop\\AI_Testing_Ground\\Model_Training\\ECE4191\\runs\\detect\\yolov8m_custom\\weights\u001b[0m\n",
      "Predict:         yolo predict task=detect model=runs\\detect\\yolov8m_custom\\weights\\best.onnx imgsz=640  \n",
      "Validate:        yolo val task=detect model=runs\\detect\\yolov8m_custom\\weights\\best.onnx imgsz=640 data=C:/Users/ishaa/Desktop/AI_Testing_Ground/Model_Training/ECE4191/datasets/animal-classification-lfjqm-1/data.yaml  \n",
      "Visualize:       https://netron.app\n"
     ]
    },
    {
     "data": {
      "text/plain": [
       "'runs\\\\detect\\\\yolov8m_custom\\\\weights\\\\best.onnx'"
      ]
     },
     "execution_count": 31,
     "metadata": {},
     "output_type": "execute_result"
    }
   ],
   "source": [
    "# Cell 8 — Export model for deployment\n",
    "# Options: 'onnx', 'torchscript', 'tflite', 'engine' (TensorRT), etc.\n",
    "model.export(format=\"onnx\")\n"
   ]
  },
  {
   "cell_type": "code",
   "execution_count": 32,
   "id": "18109ba7",
   "metadata": {},
   "outputs": [],
   "source": [
    "#from ultralytics import YOLO\n",
    "\n",
    "# Load a COCO-pretrained YOLOv8n model\n",
    "#model = YOLO(\"yolov8n.pt\")\n",
    "\n",
    "# Display model information (optional)\n",
    "#model.info()\n",
    "\n",
    "# Train the model on the COCO8 example dataset for 100 epochs\n",
    "#results = model.train(data=\"coco8.yaml\", epochs=100, imgsz=640)\n",
    "\n",
    "# Run inference with the YOLOv8n model on the 'bus.jpg' image\n",
    "#results = model(\"path/to/bus.jpg\")"
   ]
  }
 ],
 "metadata": {
  "kernelspec": {
   "display_name": "ece4179stuff",
   "language": "python",
   "name": "python3"
  },
  "language_info": {
   "codemirror_mode": {
    "name": "ipython",
    "version": 3
   },
   "file_extension": ".py",
   "mimetype": "text/x-python",
   "name": "python",
   "nbconvert_exporter": "python",
   "pygments_lexer": "ipython3",
   "version": "3.11.11"
  }
 },
 "nbformat": 4,
 "nbformat_minor": 5
}
