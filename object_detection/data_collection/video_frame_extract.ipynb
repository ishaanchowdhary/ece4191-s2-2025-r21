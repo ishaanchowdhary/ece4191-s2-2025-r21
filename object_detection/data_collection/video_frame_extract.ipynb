{
 "cells": [
  {
   "cell_type": "code",
   "execution_count": 1,
   "id": "b089237d",
   "metadata": {},
   "outputs": [
    {
     "name": "stdout",
     "output_type": "stream",
     "text": [
      "Extracted 174 frames from WIN_20250919_12_25_53_Pro.mp4 into frames\\WIN_20250919_12_25_53_Pro\n",
      "Extracted 204 frames from WIN_20250919_12_30_07_Pro.mp4 into frames\\WIN_20250919_12_30_07_Pro\n",
      "Extracted 357 frames from WIN_20250919_12_34_31_Pro.mp4 into frames\\WIN_20250919_12_34_31_Pro\n",
      "Extracted 582 frames from WIN_20250919_12_41_34_Pro.mp4 into frames\\WIN_20250919_12_41_34_Pro\n",
      "Extracted 48 frames from WIN_20250919_12_47_12_Pro.mp4 into frames\\WIN_20250919_12_47_12_Pro\n"
     ]
    }
   ],
   "source": [
    "import cv2\n",
    "import os\n",
    "import numpy as np\n",
    "\n",
    "def extract_frames_from_videos(video_folder, output_folder, mode=\"interval\", frame_skip=15, diff_thresh=10):\n",
    "    \"\"\"\n",
    "    Extract frames from all videos in a folder.\n",
    "\n",
    "    Args:\n",
    "        video_folder (str): Path to the folder containing videos.\n",
    "        output_folder (str): Path where extracted frames will be saved.\n",
    "        mode (str): \"interval\" or \"motion\"\n",
    "        frame_skip (int): Save 1 frame every 'frame_skip' frames (for interval mode).\n",
    "        diff_thresh (float): Threshold for detecting scene change (for motion mode).\n",
    "    \"\"\"\n",
    "    if not os.path.exists(output_folder):\n",
    "        os.makedirs(output_folder)\n",
    "\n",
    "    for filename in os.listdir(video_folder):\n",
    "        if filename.lower().endswith(('.mp4', '.avi', '.mov', '.mkv')):\n",
    "            video_path = os.path.join(video_folder, filename)\n",
    "            video_name = os.path.splitext(filename)[0]\n",
    "            save_path = os.path.join(output_folder, video_name)\n",
    "\n",
    "            if not os.path.exists(save_path):\n",
    "                os.makedirs(save_path)\n",
    "\n",
    "            cap = cv2.VideoCapture(video_path)\n",
    "            frame_count = 0\n",
    "            saved_count = 0\n",
    "            prev_hist = None\n",
    "\n",
    "            while True:\n",
    "                ret, frame = cap.read()\n",
    "                if not ret:\n",
    "                    break\n",
    "\n",
    "                if mode == \"interval\":\n",
    "                    if frame_count % frame_skip == 0:\n",
    "                        frame_filename = os.path.join(save_path, f\"{video_name}_frame{frame_count}.jpg\")\n",
    "                        cv2.imwrite(frame_filename, frame)\n",
    "                        saved_count += 1\n",
    "\n",
    "                elif mode == \"motion\":\n",
    "                    gray = cv2.cvtColor(frame, cv2.COLOR_BGR2GRAY)\n",
    "                    hist = cv2.calcHist([gray], [0], None, [256], [0, 256])\n",
    "                    hist = cv2.normalize(hist, hist).flatten()\n",
    "\n",
    "                    if prev_hist is None:\n",
    "                        prev_hist = hist\n",
    "                        frame_filename = os.path.join(save_path, f\"{video_name}_frame{frame_count}.jpg\")\n",
    "                        cv2.imwrite(frame_filename, frame)\n",
    "                        saved_count += 1\n",
    "                    else:\n",
    "                        diff = cv2.compareHist(prev_hist, hist, cv2.HISTCMP_BHATTACHARYYA) * 100\n",
    "                        if diff > diff_thresh:\n",
    "                            frame_filename = os.path.join(save_path, f\"{video_name}_frame{frame_count}.jpg\")\n",
    "                            cv2.imwrite(frame_filename, frame)\n",
    "                            saved_count += 1\n",
    "                            prev_hist = hist  # update reference histogram\n",
    "\n",
    "                frame_count += 1\n",
    "\n",
    "            cap.release()\n",
    "            print(f\"Extracted {saved_count} frames from {filename} into {save_path}\")\n",
    "\n",
    "# Example usage:\n",
    "video_folder = \"videos_batch_190925\"         # Folder containing your .mp4, .avi etc.\n",
    "output_folder = \"frames\"  # Where to save extracted frames\n",
    "\n",
    "# Choose mode:\n",
    "# \"interval\" → every Nth frame\n",
    "# \"motion\"   → based on scene change\n",
    "extract_frames_from_videos(video_folder, output_folder, mode=\"motion\", frame_skip=15, diff_thresh=15)\n"
   ]
  },
  {
   "cell_type": "code",
   "execution_count": null,
   "id": "0674601e",
   "metadata": {},
   "outputs": [],
   "source": []
  }
 ],
 "metadata": {
  "kernelspec": {
   "display_name": "ece4179stuff",
   "language": "python",
   "name": "python3"
  },
  "language_info": {
   "codemirror_mode": {
    "name": "ipython",
    "version": 3
   },
   "file_extension": ".py",
   "mimetype": "text/x-python",
   "name": "python",
   "nbconvert_exporter": "python",
   "pygments_lexer": "ipython3",
   "version": "3.11.11"
  }
 },
 "nbformat": 4,
 "nbformat_minor": 5
}
