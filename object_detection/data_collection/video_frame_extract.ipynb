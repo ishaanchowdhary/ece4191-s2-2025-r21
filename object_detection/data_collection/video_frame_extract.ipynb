{
 "cells": [
  {
   "cell_type": "code",
   "execution_count": null,
   "id": "b089237d",
   "metadata": {},
   "outputs": [
    {
     "name": "stdout",
     "output_type": "stream",
     "text": [
      "Extracted 74 frames from croc_1.mp4 into imgs\\croc_1\n",
      "Extracted 1 frames from croc_plat_1.mp4 into imgs\\croc_plat_1\n",
      "Extracted 43 frames from croc_plat_2.mp4 into imgs\\croc_plat_2\n",
      "Extracted 19 frames from kangaroo_1.mp4 into imgs\\kangaroo_1\n",
      "Extracted 78 frames from kangaroo_2.mp4 into imgs\\kangaroo_2\n"
     ]
    },
    {
     "ename": "KeyboardInterrupt",
     "evalue": "",
     "output_type": "error",
     "traceback": [
      "\u001b[1;31m---------------------------------------------------------------------------\u001b[0m",
      "\u001b[1;31mKeyboardInterrupt\u001b[0m                         Traceback (most recent call last)",
      "Cell \u001b[1;32mIn[2], line 74\u001b[0m\n\u001b[0;32m     69\u001b[0m output_folder \u001b[38;5;241m=\u001b[39m \u001b[38;5;124m\"\u001b[39m\u001b[38;5;124mimgs\u001b[39m\u001b[38;5;124m\"\u001b[39m  \u001b[38;5;66;03m# Where to save extracted frames\u001b[39;00m\n\u001b[0;32m     71\u001b[0m \u001b[38;5;66;03m# Choose mode:\u001b[39;00m\n\u001b[0;32m     72\u001b[0m \u001b[38;5;66;03m# \"interval\" → every Nth frame\u001b[39;00m\n\u001b[0;32m     73\u001b[0m \u001b[38;5;66;03m# \"motion\"   → based on scene change\u001b[39;00m\n\u001b[1;32m---> 74\u001b[0m \u001b[43mextract_frames_from_videos\u001b[49m\u001b[43m(\u001b[49m\u001b[43mvideo_folder\u001b[49m\u001b[43m,\u001b[49m\u001b[43m \u001b[49m\u001b[43moutput_folder\u001b[49m\u001b[43m,\u001b[49m\u001b[43m \u001b[49m\u001b[43mmode\u001b[49m\u001b[38;5;241;43m=\u001b[39;49m\u001b[38;5;124;43m\"\u001b[39;49m\u001b[38;5;124;43mmotion\u001b[39;49m\u001b[38;5;124;43m\"\u001b[39;49m\u001b[43m,\u001b[49m\u001b[43m \u001b[49m\u001b[43mframe_skip\u001b[49m\u001b[38;5;241;43m=\u001b[39;49m\u001b[38;5;241;43m30\u001b[39;49m\u001b[43m,\u001b[49m\u001b[43m \u001b[49m\u001b[43mdiff_thresh\u001b[49m\u001b[38;5;241;43m=\u001b[39;49m\u001b[38;5;241;43m30\u001b[39;49m\u001b[43m)\u001b[49m\n",
      "Cell \u001b[1;32mIn[2], line 34\u001b[0m, in \u001b[0;36mextract_frames_from_videos\u001b[1;34m(video_folder, output_folder, mode, frame_skip, diff_thresh)\u001b[0m\n\u001b[0;32m     31\u001b[0m prev_hist \u001b[38;5;241m=\u001b[39m \u001b[38;5;28;01mNone\u001b[39;00m\n\u001b[0;32m     33\u001b[0m \u001b[38;5;28;01mwhile\u001b[39;00m \u001b[38;5;28;01mTrue\u001b[39;00m:\n\u001b[1;32m---> 34\u001b[0m     ret, frame \u001b[38;5;241m=\u001b[39m \u001b[43mcap\u001b[49m\u001b[38;5;241;43m.\u001b[39;49m\u001b[43mread\u001b[49m\u001b[43m(\u001b[49m\u001b[43m)\u001b[49m\n\u001b[0;32m     35\u001b[0m     \u001b[38;5;28;01mif\u001b[39;00m \u001b[38;5;129;01mnot\u001b[39;00m ret:\n\u001b[0;32m     36\u001b[0m         \u001b[38;5;28;01mbreak\u001b[39;00m\n",
      "\u001b[1;31mKeyboardInterrupt\u001b[0m: "
     ]
    }
   ],
   "source": [
    "import cv2\n",
    "import os\n",
    "import numpy as np\n",
    "\n",
    "def extract_frames_from_videos(video_folder, output_folder, mode=\"interval\", frame_skip=15, diff_thresh=10):\n",
    "    \"\"\"\n",
    "    Extract frames from all videos in a folder.\n",
    "\n",
    "    Args:\n",
    "        video_folder (str): Path to the folder containing videos.\n",
    "        output_folder (str): Path where extracted frames will be saved.\n",
    "        mode (str): \"interval\" or \"motion\"\n",
    "        frame_skip (int): Save 1 frame every 'frame_skip' frames (for interval mode).\n",
    "        diff_thresh (float): Threshold for detecting scene change (for motion mode).\n",
    "    \"\"\"\n",
    "    if not os.path.exists(output_folder):\n",
    "        os.makedirs(output_folder)\n",
    "\n",
    "    for filename in os.listdir(video_folder):\n",
    "        if filename.lower().endswith(('.mp4', '.avi', '.mov', '.mkv')):\n",
    "            video_path = os.path.join(video_folder, filename)\n",
    "            video_name = os.path.splitext(filename)[0]\n",
    "            save_path = os.path.join(output_folder, video_name)\n",
    "\n",
    "            if not os.path.exists(save_path):\n",
    "                os.makedirs(save_path)\n",
    "\n",
    "            cap = cv2.VideoCapture(video_path)\n",
    "            frame_count = 0\n",
    "            saved_count = 0\n",
    "            prev_hist = None\n",
    "\n",
    "            while True:\n",
    "                ret, frame = cap.read()\n",
    "                if not ret:\n",
    "                    break\n",
    "\n",
    "                if mode == \"interval\":\n",
    "                    if frame_count % frame_skip == 0:\n",
    "                        frame_filename = os.path.join(save_path, f\"{video_name}_frame{frame_count}.jpg\")\n",
    "                        cv2.imwrite(frame_filename, frame)\n",
    "                        saved_count += 1\n",
    "\n",
    "                elif mode == \"motion\":\n",
    "                    gray = cv2.cvtColor(frame, cv2.COLOR_BGR2GRAY)\n",
    "                    hist = cv2.calcHist([gray], [0], None, [256], [0, 256])\n",
    "                    hist = cv2.normalize(hist, hist).flatten()\n",
    "\n",
    "                    if prev_hist is None:\n",
    "                        prev_hist = hist\n",
    "                        frame_filename = os.path.join(save_path, f\"{video_name}_frame{frame_count}.jpg\")\n",
    "                        cv2.imwrite(frame_filename, frame)\n",
    "                        saved_count += 1\n",
    "                    else:\n",
    "                        diff = cv2.compareHist(prev_hist, hist, cv2.HISTCMP_BHATTACHARYYA) * 100\n",
    "                        if diff > diff_thresh:\n",
    "                            frame_filename = os.path.join(save_path, f\"{video_name}_frame{frame_count}.jpg\")\n",
    "                            cv2.imwrite(frame_filename, frame)\n",
    "                            saved_count += 1\n",
    "                            prev_hist = hist  # update reference histogram\n",
    "\n",
    "                frame_count += 1\n",
    "\n",
    "            cap.release()\n",
    "            print(f\"Extracted {saved_count} frames from {filename} into {save_path}\")\n",
    "\n",
    "# Example usage:\n",
    "video_folder = \"videos\"          # Folder containing your .mp4, .avi etc.\n",
    "output_folder = \"imgs\"  # Where to save extracted frames\n",
    "\n",
    "# Choose mode:\n",
    "# \"interval\" → every Nth frame\n",
    "# \"motion\"   → based on scene change\n",
    "extract_frames_from_videos(video_folder, output_folder, mode=\"motion\", frame_skip=15, diff_thresh=15)\n"
   ]
  },
  {
   "cell_type": "code",
   "execution_count": null,
   "id": "0674601e",
   "metadata": {},
   "outputs": [],
   "source": []
  }
 ],
 "metadata": {
  "kernelspec": {
   "display_name": "ECE4179",
   "language": "python",
   "name": "python3"
  },
  "language_info": {
   "codemirror_mode": {
    "name": "ipython",
    "version": 3
   },
   "file_extension": ".py",
   "mimetype": "text/x-python",
   "name": "python",
   "nbconvert_exporter": "python",
   "pygments_lexer": "ipython3",
   "version": "3.12.4"
  }
 },
 "nbformat": 4,
 "nbformat_minor": 5
}
