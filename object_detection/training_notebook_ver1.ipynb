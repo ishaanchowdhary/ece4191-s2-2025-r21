{
 "cells": [
  {
   "cell_type": "code",
   "execution_count": null,
   "id": "195c29c2",
   "metadata": {},
   "outputs": [],
   "source": [
    "# install YOLOv8\n",
    "!pip install ultralytics\n",
    "!pip install roboflow\n",
    "\n",
    "# download dataset from roboflow (change project version if dataset updated)\n",
    "from roboflow import Roboflow\n",
    "rf = Roboflow(api_key=\"Sub6DxcdcsZHAFQGFgIv\")\n",
    "project = rf.workspace(\"ece4191r21\").project(\"animal-classification-lfjqm\")\n",
    "dataset = project.version(1).download(\"yolov8\")\n",
    "\n",
    "# training - adjust epochs as needed, and can reduce batch size if you get oom errors\n",
    "!yolo detect train data=animal-classification-lfjqm-1/data.yaml model=yolov8n.pt imgsz=640 epochs=100 batch=16\n"
   ]
  },
  {
   "cell_type": "code",
   "execution_count": null,
   "id": "7eebfa5f",
   "metadata": {},
   "outputs": [],
   "source": [
    "# test on test set\n",
    "!yolo task=detect mode=predict \\\n",
    "model=\"runs/detect/train/weights/best.pt\" \\\n",
    "conf=0.25 \\\n",
    "source=\"animal-classification-lfjqm-1/test/images\" \\\n",
    "save \\\n",
    "project=\"runs/detect\" \\\n",
    "name=\"predictions\"\n"
   ]
  },
  {
   "cell_type": "code",
   "execution_count": null,
   "id": "793da514",
   "metadata": {},
   "outputs": [],
   "source": [
    "# optional: some eval metrics\n",
    "!yolo detect val model=\"runs/detect/train/weights/best.pt\" data=\"animal-classification-lfjqm-1/data.yaml\""
   ]
  }
 ],
 "metadata": {
  "language_info": {
   "name": "python"
  }
 },
 "nbformat": 4,
 "nbformat_minor": 5
}
